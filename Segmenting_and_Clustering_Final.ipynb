{
    "cells": [
        {
            "cell_type": "markdown",
            "metadata": {},
            "source": "# 1. Data Collection"
        },
        {
            "cell_type": "code",
            "execution_count": 1,
            "metadata": {},
            "outputs": [],
            "source": "from bs4 import BeautifulSoup\nimport requests\nimport pandas as pd\nimport numpy as np"
        },
        {
            "cell_type": "code",
            "execution_count": 2,
            "metadata": {},
            "outputs": [],
            "source": "source = requests.get('https://en.wikipedia.org/wiki/List_of_postal_codes_of_Canada:_M').text\nsoup = BeautifulSoup(source, 'lxml')"
        },
        {
            "cell_type": "code",
            "execution_count": 3,
            "metadata": {},
            "outputs": [],
            "source": "panel = soup.find('div', class_='mw-parser-output')"
        },
        {
            "cell_type": "markdown",
            "metadata": {},
            "source": "# 2. Data Formation"
        },
        {
            "cell_type": "markdown",
            "metadata": {},
            "source": "## 2.1 Data Preprocess"
        },
        {
            "cell_type": "code",
            "execution_count": 4,
            "metadata": {},
            "outputs": [],
            "source": "# Set up empty lists to save the results\nPostalCodes_list = []\nBoroughs_list = []\nNeigborhoods_list = []\n#Scan segment with 'p' in the the table\nfor Block in panel.find('table').find_all('p'):\n    #Set up empty temporary variables for data preprocessing\n    PostalCode = ''\n    Borough = ''\n    Neigborhoods = ''\n    Neigborhood = ''\n    #Fetch the Postal Code\n    PostalCode = Block.b.text\n    #Fetch all the cities with the same Postal Code\n    Cities = Block.span.text\n    try:\n        #Extract the first city that is the Borough\n        Borough = Cities.split(\"(\")[0].strip()\n        #Extract the Neigborhoods near their Borough\n        if Borough != 'Not assigned':\n            #print(Borough)\n            Neigborhoods = Cities.split(\"(\")[1].split(\")\")[0].strip().split('/')\n            Neigborhoods = [string.strip() for string in Neigborhoods]\n            Neigborhood = \", \".join(Neigborhoods)\n            # Appending the Postal Code, Borough and Neigborhood in their lists\n            PostalCodes_list.append(PostalCode)\n            Boroughs_list.append(Borough)\n            Neigborhoods_list.append(Neigborhood)\n    except Exception as e:\n        pass"
        },
        {
            "cell_type": "markdown",
            "metadata": {},
            "source": "## 2.2 Dataframe Creation"
        },
        {
            "cell_type": "code",
            "execution_count": 5,
            "metadata": {},
            "outputs": [],
            "source": "dict = {'PostalCode': PostalCodes_list, 'Borough': Boroughs_list, 'Neigborhoods': Neigborhoods_list}\n#print(len(PostalCodes_list))\n#print(len(Boroughs_list))\n#print(len(Neigborhoods_list))\n#print(PostalCodes_list[-1])\n#print(Boroughs_list[-1])\n#print(Neigborhoods_list[-1])\ndf = pd.DataFrame(dict)"
        },
        {
            "cell_type": "markdown",
            "metadata": {},
            "source": "# 3. Locations"
        },
        {
            "cell_type": "markdown",
            "metadata": {},
            "source": "## 3.1 Download locations"
        },
        {
            "cell_type": "code",
            "execution_count": 6,
            "metadata": {},
            "outputs": [],
            "source": "#!wget -O Geospatial_Coordinates.csv http://cocl.us/Geospatial_data"
        },
        {
            "cell_type": "code",
            "execution_count": 7,
            "metadata": {},
            "outputs": [],
            "source": "df_locations = pd.read_csv('Geospatial_Coordinates.csv')"
        },
        {
            "cell_type": "code",
            "execution_count": 8,
            "metadata": {},
            "outputs": [
                {
                    "data": {
                        "text/html": "<div>\n<style scoped>\n    .dataframe tbody tr th:only-of-type {\n        vertical-align: middle;\n    }\n\n    .dataframe tbody tr th {\n        vertical-align: top;\n    }\n\n    .dataframe thead th {\n        text-align: right;\n    }\n</style>\n<table border=\"1\" class=\"dataframe\">\n  <thead>\n    <tr style=\"text-align: right;\">\n      <th></th>\n      <th>PostalCode</th>\n      <th>Latitude</th>\n      <th>Longitude</th>\n    </tr>\n  </thead>\n  <tbody>\n    <tr>\n      <th>0</th>\n      <td>M1B</td>\n      <td>43.806686</td>\n      <td>-79.194353</td>\n    </tr>\n    <tr>\n      <th>1</th>\n      <td>M1C</td>\n      <td>43.784535</td>\n      <td>-79.160497</td>\n    </tr>\n    <tr>\n      <th>2</th>\n      <td>M1E</td>\n      <td>43.763573</td>\n      <td>-79.188711</td>\n    </tr>\n    <tr>\n      <th>3</th>\n      <td>M1G</td>\n      <td>43.770992</td>\n      <td>-79.216917</td>\n    </tr>\n    <tr>\n      <th>4</th>\n      <td>M1H</td>\n      <td>43.773136</td>\n      <td>-79.239476</td>\n    </tr>\n  </tbody>\n</table>\n</div>",
                        "text/plain": "  PostalCode   Latitude  Longitude\n0        M1B  43.806686 -79.194353\n1        M1C  43.784535 -79.160497\n2        M1E  43.763573 -79.188711\n3        M1G  43.770992 -79.216917\n4        M1H  43.773136 -79.239476"
                    },
                    "execution_count": 8,
                    "metadata": {},
                    "output_type": "execute_result"
                }
            ],
            "source": "df_locations.rename(columns={'Postal Code':'PostalCode'}, inplace=True)\ndf_locations.head()"
        },
        {
            "cell_type": "markdown",
            "metadata": {},
            "source": "## 3.2 Combining dataframes"
        },
        {
            "cell_type": "code",
            "execution_count": 9,
            "metadata": {},
            "outputs": [
                {
                    "data": {
                        "text/html": "<div>\n<style scoped>\n    .dataframe tbody tr th:only-of-type {\n        vertical-align: middle;\n    }\n\n    .dataframe tbody tr th {\n        vertical-align: top;\n    }\n\n    .dataframe thead th {\n        text-align: right;\n    }\n</style>\n<table border=\"1\" class=\"dataframe\">\n  <thead>\n    <tr style=\"text-align: right;\">\n      <th></th>\n      <th>PostalCode</th>\n      <th>Borough</th>\n      <th>Neigborhoods</th>\n    </tr>\n  </thead>\n  <tbody>\n    <tr>\n      <th>0</th>\n      <td>M3A</td>\n      <td>North York</td>\n      <td>Parkwoods</td>\n    </tr>\n    <tr>\n      <th>1</th>\n      <td>M4A</td>\n      <td>North York</td>\n      <td>Victoria Village</td>\n    </tr>\n    <tr>\n      <th>2</th>\n      <td>M5A</td>\n      <td>Downtown Toronto</td>\n      <td>Regent Park, Harbourfront</td>\n    </tr>\n    <tr>\n      <th>3</th>\n      <td>M6A</td>\n      <td>North York</td>\n      <td>Lawrence Manor, Lawrence Heights</td>\n    </tr>\n    <tr>\n      <th>4</th>\n      <td>M9A</td>\n      <td>Etobicoke</td>\n      <td>Islington Avenue</td>\n    </tr>\n  </tbody>\n</table>\n</div>",
                        "text/plain": "  PostalCode           Borough                      Neigborhoods\n0        M3A        North York                         Parkwoods\n1        M4A        North York                  Victoria Village\n2        M5A  Downtown Toronto         Regent Park, Harbourfront\n3        M6A        North York  Lawrence Manor, Lawrence Heights\n4        M9A         Etobicoke                  Islington Avenue"
                    },
                    "execution_count": 9,
                    "metadata": {},
                    "output_type": "execute_result"
                }
            ],
            "source": "df.head()"
        },
        {
            "cell_type": "code",
            "execution_count": 10,
            "metadata": {},
            "outputs": [
                {
                    "data": {
                        "text/html": "<div>\n<style scoped>\n    .dataframe tbody tr th:only-of-type {\n        vertical-align: middle;\n    }\n\n    .dataframe tbody tr th {\n        vertical-align: top;\n    }\n\n    .dataframe thead th {\n        text-align: right;\n    }\n</style>\n<table border=\"1\" class=\"dataframe\">\n  <thead>\n    <tr style=\"text-align: right;\">\n      <th></th>\n      <th>Borough</th>\n      <th>Neigborhoods</th>\n      <th>Latitude</th>\n      <th>Longitude</th>\n    </tr>\n    <tr>\n      <th>PostalCode</th>\n      <th></th>\n      <th></th>\n      <th></th>\n      <th></th>\n    </tr>\n  </thead>\n  <tbody>\n    <tr>\n      <th>M3A</th>\n      <td>North York</td>\n      <td>Parkwoods</td>\n      <td>43.753259</td>\n      <td>-79.329656</td>\n    </tr>\n    <tr>\n      <th>M4A</th>\n      <td>North York</td>\n      <td>Victoria Village</td>\n      <td>43.725882</td>\n      <td>-79.315572</td>\n    </tr>\n    <tr>\n      <th>M5A</th>\n      <td>Downtown Toronto</td>\n      <td>Regent Park, Harbourfront</td>\n      <td>43.654260</td>\n      <td>-79.360636</td>\n    </tr>\n    <tr>\n      <th>M6A</th>\n      <td>North York</td>\n      <td>Lawrence Manor, Lawrence Heights</td>\n      <td>43.718518</td>\n      <td>-79.464763</td>\n    </tr>\n    <tr>\n      <th>M9A</th>\n      <td>Etobicoke</td>\n      <td>Islington Avenue</td>\n      <td>43.667856</td>\n      <td>-79.532242</td>\n    </tr>\n  </tbody>\n</table>\n</div>",
                        "text/plain": "                     Borough                      Neigborhoods   Latitude  \\\nPostalCode                                                                  \nM3A               North York                         Parkwoods  43.753259   \nM4A               North York                  Victoria Village  43.725882   \nM5A         Downtown Toronto         Regent Park, Harbourfront  43.654260   \nM6A               North York  Lawrence Manor, Lawrence Heights  43.718518   \nM9A                Etobicoke                  Islington Avenue  43.667856   \n\n            Longitude  \nPostalCode             \nM3A        -79.329656  \nM4A        -79.315572  \nM5A        -79.360636  \nM6A        -79.464763  \nM9A        -79.532242  "
                    },
                    "execution_count": 10,
                    "metadata": {},
                    "output_type": "execute_result"
                }
            ],
            "source": "df_merge = df.set_index('PostalCode').join(df_locations.set_index('PostalCode'))\ndf_merge.head()"
        },
        {
            "cell_type": "code",
            "execution_count": 15,
            "metadata": {},
            "outputs": [
                {
                    "data": {
                        "text/html": "<div>\n<style scoped>\n    .dataframe tbody tr th:only-of-type {\n        vertical-align: middle;\n    }\n\n    .dataframe tbody tr th {\n        vertical-align: top;\n    }\n\n    .dataframe thead th {\n        text-align: right;\n    }\n</style>\n<table border=\"1\" class=\"dataframe\">\n  <thead>\n    <tr style=\"text-align: right;\">\n      <th></th>\n      <th>index</th>\n      <th>PostalCode</th>\n      <th>Borough</th>\n      <th>Neigborhoods</th>\n      <th>Latitude</th>\n      <th>Longitude</th>\n    </tr>\n  </thead>\n  <tbody>\n    <tr>\n      <th>0</th>\n      <td>0</td>\n      <td>M3A</td>\n      <td>North York</td>\n      <td>Parkwoods</td>\n      <td>43.753259</td>\n      <td>-79.329656</td>\n    </tr>\n    <tr>\n      <th>1</th>\n      <td>1</td>\n      <td>M4A</td>\n      <td>North York</td>\n      <td>Victoria Village</td>\n      <td>43.725882</td>\n      <td>-79.315572</td>\n    </tr>\n    <tr>\n      <th>2</th>\n      <td>2</td>\n      <td>M5A</td>\n      <td>Downtown Toronto</td>\n      <td>Regent Park, Harbourfront</td>\n      <td>43.654260</td>\n      <td>-79.360636</td>\n    </tr>\n    <tr>\n      <th>3</th>\n      <td>3</td>\n      <td>M6A</td>\n      <td>North York</td>\n      <td>Lawrence Manor, Lawrence Heights</td>\n      <td>43.718518</td>\n      <td>-79.464763</td>\n    </tr>\n    <tr>\n      <th>4</th>\n      <td>4</td>\n      <td>M9A</td>\n      <td>Etobicoke</td>\n      <td>Islington Avenue</td>\n      <td>43.667856</td>\n      <td>-79.532242</td>\n    </tr>\n  </tbody>\n</table>\n</div>",
                        "text/plain": "   index PostalCode           Borough                      Neigborhoods  \\\n0      0        M3A        North York                         Parkwoods   \n1      1        M4A        North York                  Victoria Village   \n2      2        M5A  Downtown Toronto         Regent Park, Harbourfront   \n3      3        M6A        North York  Lawrence Manor, Lawrence Heights   \n4      4        M9A         Etobicoke                  Islington Avenue   \n\n    Latitude  Longitude  \n0  43.753259 -79.329656  \n1  43.725882 -79.315572  \n2  43.654260 -79.360636  \n3  43.718518 -79.464763  \n4  43.667856 -79.532242  "
                    },
                    "execution_count": 15,
                    "metadata": {},
                    "output_type": "execute_result"
                }
            ],
            "source": "df_merge = df_merge.reset_index()\ndf_merge.head()"
        },
        {
            "cell_type": "markdown",
            "metadata": {},
            "source": "# 4. Clustering"
        },
        {
            "cell_type": "markdown",
            "metadata": {},
            "source": "## 4.1 Explore Neighborhoods"
        },
        {
            "cell_type": "code",
            "execution_count": 36,
            "metadata": {},
            "outputs": [
                {
                    "data": {
                        "text/html": "<div>\n<style scoped>\n    .dataframe tbody tr th:only-of-type {\n        vertical-align: middle;\n    }\n\n    .dataframe tbody tr th {\n        vertical-align: top;\n    }\n\n    .dataframe thead th {\n        text-align: right;\n    }\n</style>\n<table border=\"1\" class=\"dataframe\">\n  <thead>\n    <tr style=\"text-align: right;\">\n      <th></th>\n      <th>PostalCode</th>\n      <th>Borough</th>\n      <th>Neigborhoods</th>\n      <th>Latitude</th>\n      <th>Longitude</th>\n    </tr>\n  </thead>\n  <tbody>\n    <tr>\n      <th>2</th>\n      <td>M5A</td>\n      <td>Downtown Toronto</td>\n      <td>Regent Park, Harbourfront</td>\n      <td>43.654260</td>\n      <td>-79.360636</td>\n    </tr>\n    <tr>\n      <th>8</th>\n      <td>M5B</td>\n      <td>Downtown Toronto</td>\n      <td>Garden District, Ryerson</td>\n      <td>43.657162</td>\n      <td>-79.378937</td>\n    </tr>\n    <tr>\n      <th>14</th>\n      <td>M5C</td>\n      <td>Downtown Toronto</td>\n      <td>St. James Town</td>\n      <td>43.651494</td>\n      <td>-79.375418</td>\n    </tr>\n    <tr>\n      <th>19</th>\n      <td>M5E</td>\n      <td>Downtown Toronto</td>\n      <td>Berczy Park</td>\n      <td>43.644771</td>\n      <td>-79.373306</td>\n    </tr>\n    <tr>\n      <th>23</th>\n      <td>M5G</td>\n      <td>Downtown Toronto</td>\n      <td>Central Bay Street</td>\n      <td>43.657952</td>\n      <td>-79.387383</td>\n    </tr>\n  </tbody>\n</table>\n</div>",
                        "text/plain": "   PostalCode           Borough               Neigborhoods   Latitude  \\\n2         M5A  Downtown Toronto  Regent Park, Harbourfront  43.654260   \n8         M5B  Downtown Toronto   Garden District, Ryerson  43.657162   \n14        M5C  Downtown Toronto             St. James Town  43.651494   \n19        M5E  Downtown Toronto                Berczy Park  43.644771   \n23        M5G  Downtown Toronto         Central Bay Street  43.657952   \n\n    Longitude  \n2  -79.360636  \n8  -79.378937  \n14 -79.375418  \n19 -79.373306  \n23 -79.387383  "
                    },
                    "execution_count": 36,
                    "metadata": {},
                    "output_type": "execute_result"
                }
            ],
            "source": "# Grouping the neighborhoods of Toronto\nToronto_data = df_merge[df_merge['Borough'] == 'Downtown Toronto'].drop('index', 1)\nToronto_data.head()"
        },
        {
            "cell_type": "markdown",
            "metadata": {},
            "source": "### Let's check the size of the neigborhoods"
        },
        {
            "cell_type": "code",
            "execution_count": 38,
            "metadata": {},
            "outputs": [
                {
                    "data": {
                        "text/html": "<div>\n<style scoped>\n    .dataframe tbody tr th:only-of-type {\n        vertical-align: middle;\n    }\n\n    .dataframe tbody tr th {\n        vertical-align: top;\n    }\n\n    .dataframe thead th {\n        text-align: right;\n    }\n</style>\n<table border=\"1\" class=\"dataframe\">\n  <thead>\n    <tr style=\"text-align: right;\">\n      <th></th>\n      <th>PostalCode</th>\n      <th>Neigborhoods</th>\n      <th>Latitude</th>\n      <th>Longitude</th>\n    </tr>\n    <tr>\n      <th>Borough</th>\n      <th></th>\n      <th></th>\n      <th></th>\n      <th></th>\n    </tr>\n  </thead>\n  <tbody>\n    <tr>\n      <th>Downtown Toronto</th>\n      <td>17</td>\n      <td>17</td>\n      <td>17</td>\n      <td>17</td>\n    </tr>\n  </tbody>\n</table>\n</div>",
                        "text/plain": "                  PostalCode  Neigborhoods  Latitude  Longitude\nBorough                                                        \nDowntown Toronto          17            17        17         17"
                    },
                    "execution_count": 38,
                    "metadata": {},
                    "output_type": "execute_result"
                }
            ],
            "source": "Toronto_data.groupby('Borough').count()"
        },
        {
            "cell_type": "code",
            "execution_count": 39,
            "metadata": {},
            "outputs": [
                {
                    "data": {
                        "text/html": "<div>\n<style scoped>\n    .dataframe tbody tr th:only-of-type {\n        vertical-align: middle;\n    }\n\n    .dataframe tbody tr th {\n        vertical-align: top;\n    }\n\n    .dataframe thead th {\n        text-align: right;\n    }\n</style>\n<table border=\"1\" class=\"dataframe\">\n  <thead>\n    <tr style=\"text-align: right;\">\n      <th></th>\n      <th>PostalCode</th>\n      <th>Borough</th>\n      <th>Neigborhoods</th>\n      <th>Latitude</th>\n      <th>Longitude</th>\n    </tr>\n  </thead>\n  <tbody>\n    <tr>\n      <th>2</th>\n      <td>M5A</td>\n      <td>Downtown Toronto</td>\n      <td>Regent Park, Harbourfront</td>\n      <td>43.654260</td>\n      <td>-79.360636</td>\n    </tr>\n    <tr>\n      <th>8</th>\n      <td>M5B</td>\n      <td>Downtown Toronto</td>\n      <td>Garden District, Ryerson</td>\n      <td>43.657162</td>\n      <td>-79.378937</td>\n    </tr>\n    <tr>\n      <th>14</th>\n      <td>M5C</td>\n      <td>Downtown Toronto</td>\n      <td>St. James Town</td>\n      <td>43.651494</td>\n      <td>-79.375418</td>\n    </tr>\n    <tr>\n      <th>19</th>\n      <td>M5E</td>\n      <td>Downtown Toronto</td>\n      <td>Berczy Park</td>\n      <td>43.644771</td>\n      <td>-79.373306</td>\n    </tr>\n    <tr>\n      <th>23</th>\n      <td>M5G</td>\n      <td>Downtown Toronto</td>\n      <td>Central Bay Street</td>\n      <td>43.657952</td>\n      <td>-79.387383</td>\n    </tr>\n    <tr>\n      <th>24</th>\n      <td>M6G</td>\n      <td>Downtown Toronto</td>\n      <td>Christie</td>\n      <td>43.669542</td>\n      <td>-79.422564</td>\n    </tr>\n    <tr>\n      <th>29</th>\n      <td>M5H</td>\n      <td>Downtown Toronto</td>\n      <td>Richmond, Adelaide, King</td>\n      <td>43.650571</td>\n      <td>-79.384568</td>\n    </tr>\n    <tr>\n      <th>35</th>\n      <td>M5J</td>\n      <td>Downtown Toronto</td>\n      <td>Harbourfront East, Union Station, Toronto Islands</td>\n      <td>43.640816</td>\n      <td>-79.381752</td>\n    </tr>\n    <tr>\n      <th>41</th>\n      <td>M5K</td>\n      <td>Downtown Toronto</td>\n      <td>Toronto Dominion Centre, Design Exchange</td>\n      <td>43.647177</td>\n      <td>-79.381576</td>\n    </tr>\n    <tr>\n      <th>47</th>\n      <td>M5L</td>\n      <td>Downtown Toronto</td>\n      <td>Commerce Court, Victoria Hotel</td>\n      <td>43.648198</td>\n      <td>-79.379817</td>\n    </tr>\n    <tr>\n      <th>79</th>\n      <td>M5S</td>\n      <td>Downtown Toronto</td>\n      <td>University of Toronto, Harbord</td>\n      <td>43.662696</td>\n      <td>-79.400049</td>\n    </tr>\n    <tr>\n      <th>83</th>\n      <td>M5T</td>\n      <td>Downtown Toronto</td>\n      <td>Kensington Market, Chinatown, Grange Park</td>\n      <td>43.653206</td>\n      <td>-79.400049</td>\n    </tr>\n    <tr>\n      <th>86</th>\n      <td>M5V</td>\n      <td>Downtown Toronto</td>\n      <td>CN Tower, King and Spadina, Railway Lands, Har...</td>\n      <td>43.628947</td>\n      <td>-79.394420</td>\n    </tr>\n    <tr>\n      <th>90</th>\n      <td>M4W</td>\n      <td>Downtown Toronto</td>\n      <td>Rosedale</td>\n      <td>43.679563</td>\n      <td>-79.377529</td>\n    </tr>\n    <tr>\n      <th>95</th>\n      <td>M4X</td>\n      <td>Downtown Toronto</td>\n      <td>St. James Town, Cabbagetown</td>\n      <td>43.667967</td>\n      <td>-79.367675</td>\n    </tr>\n    <tr>\n      <th>96</th>\n      <td>M5X</td>\n      <td>Downtown Toronto</td>\n      <td>First Canadian Place, Underground city</td>\n      <td>43.648429</td>\n      <td>-79.382280</td>\n    </tr>\n    <tr>\n      <th>98</th>\n      <td>M4Y</td>\n      <td>Downtown Toronto</td>\n      <td>Church and Wellesley</td>\n      <td>43.665860</td>\n      <td>-79.383160</td>\n    </tr>\n  </tbody>\n</table>\n</div>",
                        "text/plain": "   PostalCode           Borough  \\\n2         M5A  Downtown Toronto   \n8         M5B  Downtown Toronto   \n14        M5C  Downtown Toronto   \n19        M5E  Downtown Toronto   \n23        M5G  Downtown Toronto   \n24        M6G  Downtown Toronto   \n29        M5H  Downtown Toronto   \n35        M5J  Downtown Toronto   \n41        M5K  Downtown Toronto   \n47        M5L  Downtown Toronto   \n79        M5S  Downtown Toronto   \n83        M5T  Downtown Toronto   \n86        M5V  Downtown Toronto   \n90        M4W  Downtown Toronto   \n95        M4X  Downtown Toronto   \n96        M5X  Downtown Toronto   \n98        M4Y  Downtown Toronto   \n\n                                         Neigborhoods   Latitude  Longitude  \n2                           Regent Park, Harbourfront  43.654260 -79.360636  \n8                            Garden District, Ryerson  43.657162 -79.378937  \n14                                     St. James Town  43.651494 -79.375418  \n19                                        Berczy Park  43.644771 -79.373306  \n23                                 Central Bay Street  43.657952 -79.387383  \n24                                           Christie  43.669542 -79.422564  \n29                           Richmond, Adelaide, King  43.650571 -79.384568  \n35  Harbourfront East, Union Station, Toronto Islands  43.640816 -79.381752  \n41           Toronto Dominion Centre, Design Exchange  43.647177 -79.381576  \n47                     Commerce Court, Victoria Hotel  43.648198 -79.379817  \n79                     University of Toronto, Harbord  43.662696 -79.400049  \n83          Kensington Market, Chinatown, Grange Park  43.653206 -79.400049  \n86  CN Tower, King and Spadina, Railway Lands, Har...  43.628947 -79.394420  \n90                                           Rosedale  43.679563 -79.377529  \n95                        St. James Town, Cabbagetown  43.667967 -79.367675  \n96             First Canadian Place, Underground city  43.648429 -79.382280  \n98                               Church and Wellesley  43.665860 -79.383160  "
                    },
                    "execution_count": 39,
                    "metadata": {},
                    "output_type": "execute_result"
                }
            ],
            "source": "Toronto_data"
        },
        {
            "cell_type": "code",
            "execution_count": 43,
            "metadata": {},
            "outputs": [],
            "source": "neighborhoods = Toronto_data.drop(['PostalCode', 'Borough'], axis=1)"
        },
        {
            "cell_type": "code",
            "execution_count": 44,
            "metadata": {},
            "outputs": [
                {
                    "data": {
                        "text/html": "<div>\n<style scoped>\n    .dataframe tbody tr th:only-of-type {\n        vertical-align: middle;\n    }\n\n    .dataframe tbody tr th {\n        vertical-align: top;\n    }\n\n    .dataframe thead th {\n        text-align: right;\n    }\n</style>\n<table border=\"1\" class=\"dataframe\">\n  <thead>\n    <tr style=\"text-align: right;\">\n      <th></th>\n      <th>Neigborhoods</th>\n      <th>Latitude</th>\n      <th>Longitude</th>\n    </tr>\n  </thead>\n  <tbody>\n    <tr>\n      <th>2</th>\n      <td>Regent Park, Harbourfront</td>\n      <td>43.654260</td>\n      <td>-79.360636</td>\n    </tr>\n    <tr>\n      <th>8</th>\n      <td>Garden District, Ryerson</td>\n      <td>43.657162</td>\n      <td>-79.378937</td>\n    </tr>\n    <tr>\n      <th>14</th>\n      <td>St. James Town</td>\n      <td>43.651494</td>\n      <td>-79.375418</td>\n    </tr>\n    <tr>\n      <th>19</th>\n      <td>Berczy Park</td>\n      <td>43.644771</td>\n      <td>-79.373306</td>\n    </tr>\n    <tr>\n      <th>23</th>\n      <td>Central Bay Street</td>\n      <td>43.657952</td>\n      <td>-79.387383</td>\n    </tr>\n  </tbody>\n</table>\n</div>",
                        "text/plain": "                 Neigborhoods   Latitude  Longitude\n2   Regent Park, Harbourfront  43.654260 -79.360636\n8    Garden District, Ryerson  43.657162 -79.378937\n14             St. James Town  43.651494 -79.375418\n19                Berczy Park  43.644771 -79.373306\n23         Central Bay Street  43.657952 -79.387383"
                    },
                    "execution_count": 44,
                    "metadata": {},
                    "output_type": "execute_result"
                }
            ],
            "source": "neighborhoods.head()"
        },
        {
            "cell_type": "markdown",
            "metadata": {},
            "source": "## 4.2 Cluster neighborhoods"
        },
        {
            "cell_type": "markdown",
            "metadata": {},
            "source": "Run *k*-means to cluster the neighborhood into 6 clusters."
        },
        {
            "cell_type": "code",
            "execution_count": 62,
            "metadata": {},
            "outputs": [
                {
                    "data": {
                        "text/plain": "array([1, 0, 0, 0, 0, 4, 0, 0, 0, 0, 2, 2, 5, 3, 1, 0, 3])"
                    },
                    "execution_count": 62,
                    "metadata": {},
                    "output_type": "execute_result"
                }
            ],
            "source": "# import k-means from clustering stage\nfrom sklearn.cluster import KMeans\n# set number of clusters\nkclusters = 6\n\ntoronto_grouped_clustering = neighborhoods.drop('Neigborhoods', 1)\n\n# run k-means clustering\nkmeans = KMeans(n_clusters=kclusters, random_state=0).fit(toronto_grouped_clustering)\n\n# check cluster labels generated for each row in the dataframe\nkmeans.labels_"
        },
        {
            "cell_type": "code",
            "execution_count": 69,
            "metadata": {},
            "outputs": [
                {
                    "data": {
                        "text/html": "<div>\n<style scoped>\n    .dataframe tbody tr th:only-of-type {\n        vertical-align: middle;\n    }\n\n    .dataframe tbody tr th {\n        vertical-align: top;\n    }\n\n    .dataframe thead th {\n        text-align: right;\n    }\n</style>\n<table border=\"1\" class=\"dataframe\">\n  <thead>\n    <tr style=\"text-align: right;\">\n      <th></th>\n      <th>Cluster Labels</th>\n      <th>PostalCode</th>\n      <th>Borough</th>\n      <th>Neigborhoods</th>\n      <th>Latitude</th>\n      <th>Longitude</th>\n    </tr>\n  </thead>\n  <tbody>\n    <tr>\n      <th>2</th>\n      <td>1</td>\n      <td>M5A</td>\n      <td>Downtown Toronto</td>\n      <td>Regent Park, Harbourfront</td>\n      <td>43.654260</td>\n      <td>-79.360636</td>\n    </tr>\n    <tr>\n      <th>8</th>\n      <td>0</td>\n      <td>M5B</td>\n      <td>Downtown Toronto</td>\n      <td>Garden District, Ryerson</td>\n      <td>43.657162</td>\n      <td>-79.378937</td>\n    </tr>\n    <tr>\n      <th>14</th>\n      <td>0</td>\n      <td>M5C</td>\n      <td>Downtown Toronto</td>\n      <td>St. James Town</td>\n      <td>43.651494</td>\n      <td>-79.375418</td>\n    </tr>\n    <tr>\n      <th>19</th>\n      <td>0</td>\n      <td>M5E</td>\n      <td>Downtown Toronto</td>\n      <td>Berczy Park</td>\n      <td>43.644771</td>\n      <td>-79.373306</td>\n    </tr>\n    <tr>\n      <th>23</th>\n      <td>0</td>\n      <td>M5G</td>\n      <td>Downtown Toronto</td>\n      <td>Central Bay Street</td>\n      <td>43.657952</td>\n      <td>-79.387383</td>\n    </tr>\n    <tr>\n      <th>24</th>\n      <td>4</td>\n      <td>M6G</td>\n      <td>Downtown Toronto</td>\n      <td>Christie</td>\n      <td>43.669542</td>\n      <td>-79.422564</td>\n    </tr>\n    <tr>\n      <th>29</th>\n      <td>0</td>\n      <td>M5H</td>\n      <td>Downtown Toronto</td>\n      <td>Richmond, Adelaide, King</td>\n      <td>43.650571</td>\n      <td>-79.384568</td>\n    </tr>\n    <tr>\n      <th>35</th>\n      <td>0</td>\n      <td>M5J</td>\n      <td>Downtown Toronto</td>\n      <td>Harbourfront East, Union Station, Toronto Islands</td>\n      <td>43.640816</td>\n      <td>-79.381752</td>\n    </tr>\n    <tr>\n      <th>41</th>\n      <td>0</td>\n      <td>M5K</td>\n      <td>Downtown Toronto</td>\n      <td>Toronto Dominion Centre, Design Exchange</td>\n      <td>43.647177</td>\n      <td>-79.381576</td>\n    </tr>\n    <tr>\n      <th>47</th>\n      <td>0</td>\n      <td>M5L</td>\n      <td>Downtown Toronto</td>\n      <td>Commerce Court, Victoria Hotel</td>\n      <td>43.648198</td>\n      <td>-79.379817</td>\n    </tr>\n    <tr>\n      <th>79</th>\n      <td>2</td>\n      <td>M5S</td>\n      <td>Downtown Toronto</td>\n      <td>University of Toronto, Harbord</td>\n      <td>43.662696</td>\n      <td>-79.400049</td>\n    </tr>\n    <tr>\n      <th>83</th>\n      <td>2</td>\n      <td>M5T</td>\n      <td>Downtown Toronto</td>\n      <td>Kensington Market, Chinatown, Grange Park</td>\n      <td>43.653206</td>\n      <td>-79.400049</td>\n    </tr>\n    <tr>\n      <th>86</th>\n      <td>5</td>\n      <td>M5V</td>\n      <td>Downtown Toronto</td>\n      <td>CN Tower, King and Spadina, Railway Lands, Har...</td>\n      <td>43.628947</td>\n      <td>-79.394420</td>\n    </tr>\n    <tr>\n      <th>90</th>\n      <td>3</td>\n      <td>M4W</td>\n      <td>Downtown Toronto</td>\n      <td>Rosedale</td>\n      <td>43.679563</td>\n      <td>-79.377529</td>\n    </tr>\n    <tr>\n      <th>95</th>\n      <td>1</td>\n      <td>M4X</td>\n      <td>Downtown Toronto</td>\n      <td>St. James Town, Cabbagetown</td>\n      <td>43.667967</td>\n      <td>-79.367675</td>\n    </tr>\n    <tr>\n      <th>96</th>\n      <td>0</td>\n      <td>M5X</td>\n      <td>Downtown Toronto</td>\n      <td>First Canadian Place, Underground city</td>\n      <td>43.648429</td>\n      <td>-79.382280</td>\n    </tr>\n    <tr>\n      <th>98</th>\n      <td>3</td>\n      <td>M4Y</td>\n      <td>Downtown Toronto</td>\n      <td>Church and Wellesley</td>\n      <td>43.665860</td>\n      <td>-79.383160</td>\n    </tr>\n  </tbody>\n</table>\n</div>",
                        "text/plain": "    Cluster Labels PostalCode           Borough  \\\n2                1        M5A  Downtown Toronto   \n8                0        M5B  Downtown Toronto   \n14               0        M5C  Downtown Toronto   \n19               0        M5E  Downtown Toronto   \n23               0        M5G  Downtown Toronto   \n24               4        M6G  Downtown Toronto   \n29               0        M5H  Downtown Toronto   \n35               0        M5J  Downtown Toronto   \n41               0        M5K  Downtown Toronto   \n47               0        M5L  Downtown Toronto   \n79               2        M5S  Downtown Toronto   \n83               2        M5T  Downtown Toronto   \n86               5        M5V  Downtown Toronto   \n90               3        M4W  Downtown Toronto   \n95               1        M4X  Downtown Toronto   \n96               0        M5X  Downtown Toronto   \n98               3        M4Y  Downtown Toronto   \n\n                                         Neigborhoods   Latitude  Longitude  \n2                           Regent Park, Harbourfront  43.654260 -79.360636  \n8                            Garden District, Ryerson  43.657162 -79.378937  \n14                                     St. James Town  43.651494 -79.375418  \n19                                        Berczy Park  43.644771 -79.373306  \n23                                 Central Bay Street  43.657952 -79.387383  \n24                                           Christie  43.669542 -79.422564  \n29                           Richmond, Adelaide, King  43.650571 -79.384568  \n35  Harbourfront East, Union Station, Toronto Islands  43.640816 -79.381752  \n41           Toronto Dominion Centre, Design Exchange  43.647177 -79.381576  \n47                     Commerce Court, Victoria Hotel  43.648198 -79.379817  \n79                     University of Toronto, Harbord  43.662696 -79.400049  \n83          Kensington Market, Chinatown, Grange Park  43.653206 -79.400049  \n86  CN Tower, King and Spadina, Railway Lands, Har...  43.628947 -79.394420  \n90                                           Rosedale  43.679563 -79.377529  \n95                        St. James Town, Cabbagetown  43.667967 -79.367675  \n96             First Canadian Place, Underground city  43.648429 -79.382280  \n98                               Church and Wellesley  43.665860 -79.383160  "
                    },
                    "execution_count": 69,
                    "metadata": {},
                    "output_type": "execute_result"
                }
            ],
            "source": "# add clustering labels\nToronto_data.insert(0, 'Cluster Labels', kmeans.labels_)\nToronto_data"
        },
        {
            "cell_type": "code",
            "execution_count": 71,
            "metadata": {},
            "outputs": [],
            "source": "Toronto_data.rename(columns={'Neigborhoods':'Neighborhoods'}, inplace=True)"
        },
        {
            "cell_type": "markdown",
            "metadata": {},
            "source": "## 4.3 Visualization"
        },
        {
            "cell_type": "markdown",
            "metadata": {},
            "source": "### Use geopy to retrieve the latitude and longitude of Downtown Toronto"
        },
        {
            "cell_type": "code",
            "execution_count": 78,
            "metadata": {},
            "outputs": [
                {
                    "name": "stdout",
                    "output_type": "stream",
                    "text": "The geograpical coordinate of Downtown Toronto are 43.6541737, -79.38081164513409.\n"
                }
            ],
            "source": "from geopy.geocoders import Nominatim # convert an address into latitude and longitude values\nimport geopy.geocoders\ngeopy.geocoders.options.default_timeout = 20\naddress = 'Downtown Toronto'\ngeolocator = Nominatim(user_agent=\"tor_explorer\")\nlocation = geolocator.geocode(address)\nlatitude = location.latitude\nlongitude = location.longitude\nprint('The geograpical coordinate of Downtown Toronto are {}, {}.'.format(latitude, longitude))"
        },
        {
            "cell_type": "code",
            "execution_count": 80,
            "metadata": {},
            "outputs": [
                {
                    "data": {
                        "text/html": "<div style=\"width:100%;\"><div style=\"position:relative;width:100%;height:0;padding-bottom:60%;\"><iframe src=\"about:blank\" style=\"position:absolute;width:100%;height:100%;left:0;top:0;border:none !important;\" data-html=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 onload=\"this.contentDocument.open();this.contentDocument.write(atob(this.getAttribute('data-html')));this.contentDocument.close();\" allowfullscreen webkitallowfullscreen mozallowfullscreen></iframe></div></div>",
                        "text/plain": "<folium.folium.Map at 0x1ef00ac0588>"
                    },
                    "execution_count": 80,
                    "metadata": {},
                    "output_type": "execute_result"
                }
            ],
            "source": "import folium\n# Matplotlib and associated plotting modules\nimport matplotlib.cm as cm\nimport matplotlib.colors as colors\n\n# create map\nmap_clusters = folium.Map(location=[latitude, longitude], zoom_start=11)\n\n# set color scheme for the clusters\nx = np.arange(kclusters)\nys = [i + x + (i*x)**2 for i in range(kclusters)]\ncolors_array = cm.rainbow(np.linspace(0, 1, len(ys)))\nrainbow = [colors.rgb2hex(i) for i in colors_array]\n\n# add markers to the map\nmarkers_colors = []\nfor lat, lon, poi, cluster in zip(Toronto_data['Latitude'], Toronto_data['Longitude'], Toronto_data['Neighborhoods'], Toronto_data['Cluster Labels']):\n    label = folium.Popup(str(poi) + ' Cluster ' + str(cluster), parse_html=True)\n    folium.CircleMarker(\n        [lat, lon],\n        radius=5,\n        popup=label,\n        color=rainbow[cluster-1],\n        fill=True,\n        fill_color=rainbow[cluster-1],\n        fill_opacity=0.7).add_to(map_clusters)\n       \nmap_clusters"
        },
        {
            "cell_type": "markdown",
            "metadata": {},
            "source": "# 5. Examine Clusters"
        },
        {
            "cell_type": "markdown",
            "metadata": {},
            "source": "#### Cluster 1"
        },
        {
            "cell_type": "code",
            "execution_count": 84,
            "metadata": {},
            "outputs": [
                {
                    "data": {
                        "text/html": "<div>\n<style scoped>\n    .dataframe tbody tr th:only-of-type {\n        vertical-align: middle;\n    }\n\n    .dataframe tbody tr th {\n        vertical-align: top;\n    }\n\n    .dataframe thead th {\n        text-align: right;\n    }\n</style>\n<table border=\"1\" class=\"dataframe\">\n  <thead>\n    <tr style=\"text-align: right;\">\n      <th></th>\n      <th>Cluster Labels</th>\n      <th>PostalCode</th>\n      <th>Borough</th>\n      <th>Neighborhoods</th>\n      <th>Latitude</th>\n      <th>Longitude</th>\n    </tr>\n  </thead>\n  <tbody>\n    <tr>\n      <th>8</th>\n      <td>0</td>\n      <td>M5B</td>\n      <td>Downtown Toronto</td>\n      <td>Garden District, Ryerson</td>\n      <td>43.657162</td>\n      <td>-79.378937</td>\n    </tr>\n    <tr>\n      <th>14</th>\n      <td>0</td>\n      <td>M5C</td>\n      <td>Downtown Toronto</td>\n      <td>St. James Town</td>\n      <td>43.651494</td>\n      <td>-79.375418</td>\n    </tr>\n    <tr>\n      <th>19</th>\n      <td>0</td>\n      <td>M5E</td>\n      <td>Downtown Toronto</td>\n      <td>Berczy Park</td>\n      <td>43.644771</td>\n      <td>-79.373306</td>\n    </tr>\n    <tr>\n      <th>23</th>\n      <td>0</td>\n      <td>M5G</td>\n      <td>Downtown Toronto</td>\n      <td>Central Bay Street</td>\n      <td>43.657952</td>\n      <td>-79.387383</td>\n    </tr>\n    <tr>\n      <th>29</th>\n      <td>0</td>\n      <td>M5H</td>\n      <td>Downtown Toronto</td>\n      <td>Richmond, Adelaide, King</td>\n      <td>43.650571</td>\n      <td>-79.384568</td>\n    </tr>\n    <tr>\n      <th>35</th>\n      <td>0</td>\n      <td>M5J</td>\n      <td>Downtown Toronto</td>\n      <td>Harbourfront East, Union Station, Toronto Islands</td>\n      <td>43.640816</td>\n      <td>-79.381752</td>\n    </tr>\n    <tr>\n      <th>41</th>\n      <td>0</td>\n      <td>M5K</td>\n      <td>Downtown Toronto</td>\n      <td>Toronto Dominion Centre, Design Exchange</td>\n      <td>43.647177</td>\n      <td>-79.381576</td>\n    </tr>\n    <tr>\n      <th>47</th>\n      <td>0</td>\n      <td>M5L</td>\n      <td>Downtown Toronto</td>\n      <td>Commerce Court, Victoria Hotel</td>\n      <td>43.648198</td>\n      <td>-79.379817</td>\n    </tr>\n    <tr>\n      <th>96</th>\n      <td>0</td>\n      <td>M5X</td>\n      <td>Downtown Toronto</td>\n      <td>First Canadian Place, Underground city</td>\n      <td>43.648429</td>\n      <td>-79.382280</td>\n    </tr>\n  </tbody>\n</table>\n</div>",
                        "text/plain": "    Cluster Labels PostalCode           Borough  \\\n8                0        M5B  Downtown Toronto   \n14               0        M5C  Downtown Toronto   \n19               0        M5E  Downtown Toronto   \n23               0        M5G  Downtown Toronto   \n29               0        M5H  Downtown Toronto   \n35               0        M5J  Downtown Toronto   \n41               0        M5K  Downtown Toronto   \n47               0        M5L  Downtown Toronto   \n96               0        M5X  Downtown Toronto   \n\n                                        Neighborhoods   Latitude  Longitude  \n8                            Garden District, Ryerson  43.657162 -79.378937  \n14                                     St. James Town  43.651494 -79.375418  \n19                                        Berczy Park  43.644771 -79.373306  \n23                                 Central Bay Street  43.657952 -79.387383  \n29                           Richmond, Adelaide, King  43.650571 -79.384568  \n35  Harbourfront East, Union Station, Toronto Islands  43.640816 -79.381752  \n41           Toronto Dominion Centre, Design Exchange  43.647177 -79.381576  \n47                     Commerce Court, Victoria Hotel  43.648198 -79.379817  \n96             First Canadian Place, Underground city  43.648429 -79.382280  "
                    },
                    "execution_count": 84,
                    "metadata": {},
                    "output_type": "execute_result"
                }
            ],
            "source": "Toronto_data.loc[Toronto_data['Cluster Labels']==0]"
        },
        {
            "cell_type": "markdown",
            "metadata": {},
            "source": "#### Cluster 2"
        },
        {
            "cell_type": "code",
            "execution_count": 85,
            "metadata": {},
            "outputs": [
                {
                    "data": {
                        "text/html": "<div>\n<style scoped>\n    .dataframe tbody tr th:only-of-type {\n        vertical-align: middle;\n    }\n\n    .dataframe tbody tr th {\n        vertical-align: top;\n    }\n\n    .dataframe thead th {\n        text-align: right;\n    }\n</style>\n<table border=\"1\" class=\"dataframe\">\n  <thead>\n    <tr style=\"text-align: right;\">\n      <th></th>\n      <th>Cluster Labels</th>\n      <th>PostalCode</th>\n      <th>Borough</th>\n      <th>Neighborhoods</th>\n      <th>Latitude</th>\n      <th>Longitude</th>\n    </tr>\n  </thead>\n  <tbody>\n    <tr>\n      <th>2</th>\n      <td>1</td>\n      <td>M5A</td>\n      <td>Downtown Toronto</td>\n      <td>Regent Park, Harbourfront</td>\n      <td>43.654260</td>\n      <td>-79.360636</td>\n    </tr>\n    <tr>\n      <th>95</th>\n      <td>1</td>\n      <td>M4X</td>\n      <td>Downtown Toronto</td>\n      <td>St. James Town, Cabbagetown</td>\n      <td>43.667967</td>\n      <td>-79.367675</td>\n    </tr>\n  </tbody>\n</table>\n</div>",
                        "text/plain": "    Cluster Labels PostalCode           Borough                Neighborhoods  \\\n2                1        M5A  Downtown Toronto    Regent Park, Harbourfront   \n95               1        M4X  Downtown Toronto  St. James Town, Cabbagetown   \n\n     Latitude  Longitude  \n2   43.654260 -79.360636  \n95  43.667967 -79.367675  "
                    },
                    "execution_count": 85,
                    "metadata": {},
                    "output_type": "execute_result"
                }
            ],
            "source": "Toronto_data.loc[Toronto_data['Cluster Labels']==1]"
        },
        {
            "cell_type": "markdown",
            "metadata": {},
            "source": "Cluster 3"
        },
        {
            "cell_type": "code",
            "execution_count": 86,
            "metadata": {},
            "outputs": [
                {
                    "data": {
                        "text/html": "<div>\n<style scoped>\n    .dataframe tbody tr th:only-of-type {\n        vertical-align: middle;\n    }\n\n    .dataframe tbody tr th {\n        vertical-align: top;\n    }\n\n    .dataframe thead th {\n        text-align: right;\n    }\n</style>\n<table border=\"1\" class=\"dataframe\">\n  <thead>\n    <tr style=\"text-align: right;\">\n      <th></th>\n      <th>Cluster Labels</th>\n      <th>PostalCode</th>\n      <th>Borough</th>\n      <th>Neighborhoods</th>\n      <th>Latitude</th>\n      <th>Longitude</th>\n    </tr>\n  </thead>\n  <tbody>\n    <tr>\n      <th>79</th>\n      <td>2</td>\n      <td>M5S</td>\n      <td>Downtown Toronto</td>\n      <td>University of Toronto, Harbord</td>\n      <td>43.662696</td>\n      <td>-79.400049</td>\n    </tr>\n    <tr>\n      <th>83</th>\n      <td>2</td>\n      <td>M5T</td>\n      <td>Downtown Toronto</td>\n      <td>Kensington Market, Chinatown, Grange Park</td>\n      <td>43.653206</td>\n      <td>-79.400049</td>\n    </tr>\n  </tbody>\n</table>\n</div>",
                        "text/plain": "    Cluster Labels PostalCode           Borough  \\\n79               2        M5S  Downtown Toronto   \n83               2        M5T  Downtown Toronto   \n\n                                Neighborhoods   Latitude  Longitude  \n79             University of Toronto, Harbord  43.662696 -79.400049  \n83  Kensington Market, Chinatown, Grange Park  43.653206 -79.400049  "
                    },
                    "execution_count": 86,
                    "metadata": {},
                    "output_type": "execute_result"
                }
            ],
            "source": "Toronto_data.loc[Toronto_data['Cluster Labels']==2]"
        },
        {
            "cell_type": "markdown",
            "metadata": {},
            "source": "Cluster 4"
        },
        {
            "cell_type": "code",
            "execution_count": 87,
            "metadata": {},
            "outputs": [
                {
                    "data": {
                        "text/html": "<div>\n<style scoped>\n    .dataframe tbody tr th:only-of-type {\n        vertical-align: middle;\n    }\n\n    .dataframe tbody tr th {\n        vertical-align: top;\n    }\n\n    .dataframe thead th {\n        text-align: right;\n    }\n</style>\n<table border=\"1\" class=\"dataframe\">\n  <thead>\n    <tr style=\"text-align: right;\">\n      <th></th>\n      <th>Cluster Labels</th>\n      <th>PostalCode</th>\n      <th>Borough</th>\n      <th>Neighborhoods</th>\n      <th>Latitude</th>\n      <th>Longitude</th>\n    </tr>\n  </thead>\n  <tbody>\n    <tr>\n      <th>90</th>\n      <td>3</td>\n      <td>M4W</td>\n      <td>Downtown Toronto</td>\n      <td>Rosedale</td>\n      <td>43.679563</td>\n      <td>-79.377529</td>\n    </tr>\n    <tr>\n      <th>98</th>\n      <td>3</td>\n      <td>M4Y</td>\n      <td>Downtown Toronto</td>\n      <td>Church and Wellesley</td>\n      <td>43.665860</td>\n      <td>-79.383160</td>\n    </tr>\n  </tbody>\n</table>\n</div>",
                        "text/plain": "    Cluster Labels PostalCode           Borough         Neighborhoods  \\\n90               3        M4W  Downtown Toronto              Rosedale   \n98               3        M4Y  Downtown Toronto  Church and Wellesley   \n\n     Latitude  Longitude  \n90  43.679563 -79.377529  \n98  43.665860 -79.383160  "
                    },
                    "execution_count": 87,
                    "metadata": {},
                    "output_type": "execute_result"
                }
            ],
            "source": "Toronto_data.loc[Toronto_data['Cluster Labels']==3]"
        },
        {
            "cell_type": "markdown",
            "metadata": {},
            "source": "Cluster 5"
        },
        {
            "cell_type": "code",
            "execution_count": 88,
            "metadata": {},
            "outputs": [
                {
                    "data": {
                        "text/html": "<div>\n<style scoped>\n    .dataframe tbody tr th:only-of-type {\n        vertical-align: middle;\n    }\n\n    .dataframe tbody tr th {\n        vertical-align: top;\n    }\n\n    .dataframe thead th {\n        text-align: right;\n    }\n</style>\n<table border=\"1\" class=\"dataframe\">\n  <thead>\n    <tr style=\"text-align: right;\">\n      <th></th>\n      <th>Cluster Labels</th>\n      <th>PostalCode</th>\n      <th>Borough</th>\n      <th>Neighborhoods</th>\n      <th>Latitude</th>\n      <th>Longitude</th>\n    </tr>\n  </thead>\n  <tbody>\n    <tr>\n      <th>24</th>\n      <td>4</td>\n      <td>M6G</td>\n      <td>Downtown Toronto</td>\n      <td>Christie</td>\n      <td>43.669542</td>\n      <td>-79.422564</td>\n    </tr>\n  </tbody>\n</table>\n</div>",
                        "text/plain": "    Cluster Labels PostalCode           Borough Neighborhoods   Latitude  \\\n24               4        M6G  Downtown Toronto      Christie  43.669542   \n\n    Longitude  \n24 -79.422564  "
                    },
                    "execution_count": 88,
                    "metadata": {},
                    "output_type": "execute_result"
                }
            ],
            "source": "Toronto_data.loc[Toronto_data['Cluster Labels']==4]"
        },
        {
            "cell_type": "markdown",
            "metadata": {},
            "source": "Cluster 6"
        },
        {
            "cell_type": "code",
            "execution_count": 89,
            "metadata": {},
            "outputs": [
                {
                    "data": {
                        "text/html": "<div>\n<style scoped>\n    .dataframe tbody tr th:only-of-type {\n        vertical-align: middle;\n    }\n\n    .dataframe tbody tr th {\n        vertical-align: top;\n    }\n\n    .dataframe thead th {\n        text-align: right;\n    }\n</style>\n<table border=\"1\" class=\"dataframe\">\n  <thead>\n    <tr style=\"text-align: right;\">\n      <th></th>\n      <th>Cluster Labels</th>\n      <th>PostalCode</th>\n      <th>Borough</th>\n      <th>Neighborhoods</th>\n      <th>Latitude</th>\n      <th>Longitude</th>\n    </tr>\n  </thead>\n  <tbody>\n    <tr>\n      <th>86</th>\n      <td>5</td>\n      <td>M5V</td>\n      <td>Downtown Toronto</td>\n      <td>CN Tower, King and Spadina, Railway Lands, Har...</td>\n      <td>43.628947</td>\n      <td>-79.39442</td>\n    </tr>\n  </tbody>\n</table>\n</div>",
                        "text/plain": "    Cluster Labels PostalCode           Borough  \\\n86               5        M5V  Downtown Toronto   \n\n                                        Neighborhoods   Latitude  Longitude  \n86  CN Tower, King and Spadina, Railway Lands, Har...  43.628947  -79.39442  "
                    },
                    "execution_count": 89,
                    "metadata": {},
                    "output_type": "execute_result"
                }
            ],
            "source": "Toronto_data.loc[Toronto_data['Cluster Labels']==5]"
        },
        {
            "cell_type": "code",
            "execution_count": null,
            "metadata": {},
            "outputs": [],
            "source": ""
        }
    ],
    "metadata": {
        "kernelspec": {
            "display_name": "Python 3",
            "language": "python",
            "name": "python3"
        },
        "language_info": {
            "codemirror_mode": {
                "name": "ipython",
                "version": 3
            },
            "file_extension": ".py",
            "mimetype": "text/x-python",
            "name": "python",
            "nbconvert_exporter": "python",
            "pygments_lexer": "ipython3",
            "version": "3.6.5"
        }
    },
    "nbformat": 4,
    "nbformat_minor": 4
}