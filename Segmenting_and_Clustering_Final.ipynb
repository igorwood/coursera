{
    "cells": [
        {
            "cell_type": "markdown",
            "metadata": {},
            "source": "# 1. Data Collection"
        },
        {
            "cell_type": "code",
            "execution_count": 150,
            "metadata": {},
            "outputs": [],
            "source": "from bs4 import BeautifulSoup\nimport requests\nimport pandas as pd\nimport numpy as np"
        },
        {
            "cell_type": "code",
            "execution_count": 151,
            "metadata": {},
            "outputs": [],
            "source": "source = requests.get('https://en.wikipedia.org/wiki/List_of_postal_codes_of_Canada:_M').text\nsoup = BeautifulSoup(source, 'lxml')"
        },
        {
            "cell_type": "code",
            "execution_count": 152,
            "metadata": {},
            "outputs": [],
            "source": "panel = soup.find('div', class_='mw-parser-output')"
        },
        {
            "cell_type": "markdown",
            "metadata": {},
            "source": "# 2. Data Formation"
        },
        {
            "cell_type": "markdown",
            "metadata": {},
            "source": "## 2.1 Data Preprocess"
        },
        {
            "cell_type": "code",
            "execution_count": 153,
            "metadata": {},
            "outputs": [
                {
                    "name": "stdout",
                    "output_type": "stream",
                    "text": "102\n77\n180\n1\n"
                }
            ],
            "source": "# Set up empty lists to save the results\nPostalCodes_list = []\nBoroughs_list = []\nNeigborhoods_list = []\nassigned_counter = 0\nunassigned_counter = 0\ntotal = 0\nexception_counter = 0\n#Scan segment with 'p' in the the table\nfor Block in panel.find('table').find_all('p'):\n    #Set up empty temporary variables for data preprocessing\n    PostalCode = ''\n    Borough = ''\n    Neigborhoods = ''\n    Neigborhood = ''\n    #Fetch the Postal Code\n    PostalCode = Block.b.text\n    #Fetch all the cities with the same Postal Code\n    Cities = Block.span.text\n    total = total + 1\n    try:\n        #Extract the first city that is the Borough\n        Borough = Cities.split(\"(\")[0].strip()\n        #Extract the Neigborhoods near their Borough\n        if Borough != 'Not assigned':\n            #print(Borough)\n            Neigborhoods = Cities.split(\"(\")[1].split(\")\")[0].strip().split('/')\n            Neigborhoods = [string.strip() for string in Neigborhoods]\n            Neigborhood = \", \".join(Neigborhoods)\n            # Appending the Postal Code, Borough and Neigborhood in their lists\n            PostalCodes_list.append(PostalCode)\n            Boroughs_list.append(Borough)\n            Neigborhoods_list.append(Neigborhood)\n            assigned_counter = assigned_counter + 1\n        else:\n            unassigned_counter = unassigned_counter + 1\n    except Exception as e:\n        exception_counter = exception_counter + 1\n        PostalCodes_list.append(PostalCode)\n        Boroughs_list.append(Borough)\n        Neigborhoods_list.append(Neigborhood)\n        pass\nprint(assigned_counter)\nprint(unassigned_counter)\nprint(total)\nprint(exception_counter)"
        },
        {
            "cell_type": "markdown",
            "metadata": {},
            "source": "## 2.2 Dataframe Creation"
        },
        {
            "cell_type": "code",
            "execution_count": 154,
            "metadata": {},
            "outputs": [
                {
                    "data": {
                        "text/plain": "(103, 3)"
                    },
                    "execution_count": 154,
                    "metadata": {},
                    "output_type": "execute_result"
                }
            ],
            "source": "dict = {'PostalCode': PostalCodes_list, 'Borough': Boroughs_list, 'Neigborhoods': Neigborhoods_list}\n#print(len(PostalCodes_list))\n#print(len(Boroughs_list))\n#print(len(Neigborhoods_list))\n#print(PostalCodes_list[-1])\n#print(Boroughs_list[-1])\n#print(Neigborhoods_list[-1])\ndf = pd.DataFrame(dict)\ndf.shape"
        },
        {
            "cell_type": "markdown",
            "metadata": {},
            "source": "# 3. Locations"
        },
        {
            "cell_type": "markdown",
            "metadata": {},
            "source": "## 3.1 Download locations"
        },
        {
            "cell_type": "code",
            "execution_count": 155,
            "metadata": {},
            "outputs": [],
            "source": "#!wget -O Geospatial_Coordinates.csv http://cocl.us/Geospatial_data"
        },
        {
            "cell_type": "code",
            "execution_count": 156,
            "metadata": {},
            "outputs": [],
            "source": "df_locations = pd.read_csv('Geospatial_Coordinates.csv')"
        },
        {
            "cell_type": "code",
            "execution_count": 157,
            "metadata": {},
            "outputs": [
                {
                    "data": {
                        "text/html": "<div>\n<style scoped>\n    .dataframe tbody tr th:only-of-type {\n        vertical-align: middle;\n    }\n\n    .dataframe tbody tr th {\n        vertical-align: top;\n    }\n\n    .dataframe thead th {\n        text-align: right;\n    }\n</style>\n<table border=\"1\" class=\"dataframe\">\n  <thead>\n    <tr style=\"text-align: right;\">\n      <th></th>\n      <th>PostalCode</th>\n      <th>Latitude</th>\n      <th>Longitude</th>\n    </tr>\n  </thead>\n  <tbody>\n    <tr>\n      <th>0</th>\n      <td>M1B</td>\n      <td>43.806686</td>\n      <td>-79.194353</td>\n    </tr>\n    <tr>\n      <th>1</th>\n      <td>M1C</td>\n      <td>43.784535</td>\n      <td>-79.160497</td>\n    </tr>\n    <tr>\n      <th>2</th>\n      <td>M1E</td>\n      <td>43.763573</td>\n      <td>-79.188711</td>\n    </tr>\n    <tr>\n      <th>3</th>\n      <td>M1G</td>\n      <td>43.770992</td>\n      <td>-79.216917</td>\n    </tr>\n    <tr>\n      <th>4</th>\n      <td>M1H</td>\n      <td>43.773136</td>\n      <td>-79.239476</td>\n    </tr>\n  </tbody>\n</table>\n</div>",
                        "text/plain": "  PostalCode   Latitude  Longitude\n0        M1B  43.806686 -79.194353\n1        M1C  43.784535 -79.160497\n2        M1E  43.763573 -79.188711\n3        M1G  43.770992 -79.216917\n4        M1H  43.773136 -79.239476"
                    },
                    "execution_count": 157,
                    "metadata": {},
                    "output_type": "execute_result"
                }
            ],
            "source": "df_locations.rename(columns={'Postal Code':'PostalCode'}, inplace=True)\ndf_locations.head()"
        },
        {
            "cell_type": "markdown",
            "metadata": {},
            "source": "## 3.2 Combining dataframes"
        },
        {
            "cell_type": "code",
            "execution_count": 158,
            "metadata": {},
            "outputs": [
                {
                    "data": {
                        "text/html": "<div>\n<style scoped>\n    .dataframe tbody tr th:only-of-type {\n        vertical-align: middle;\n    }\n\n    .dataframe tbody tr th {\n        vertical-align: top;\n    }\n\n    .dataframe thead th {\n        text-align: right;\n    }\n</style>\n<table border=\"1\" class=\"dataframe\">\n  <thead>\n    <tr style=\"text-align: right;\">\n      <th></th>\n      <th>PostalCode</th>\n      <th>Borough</th>\n      <th>Neigborhoods</th>\n    </tr>\n  </thead>\n  <tbody>\n    <tr>\n      <th>0</th>\n      <td>M3A</td>\n      <td>North York</td>\n      <td>Parkwoods</td>\n    </tr>\n    <tr>\n      <th>1</th>\n      <td>M4A</td>\n      <td>North York</td>\n      <td>Victoria Village</td>\n    </tr>\n    <tr>\n      <th>2</th>\n      <td>M5A</td>\n      <td>Downtown Toronto</td>\n      <td>Regent Park, Harbourfront</td>\n    </tr>\n    <tr>\n      <th>3</th>\n      <td>M6A</td>\n      <td>North York</td>\n      <td>Lawrence Manor, Lawrence Heights</td>\n    </tr>\n    <tr>\n      <th>4</th>\n      <td>M7A</td>\n      <td>Queen's Park / Ontario Provincial Government</td>\n      <td></td>\n    </tr>\n  </tbody>\n</table>\n</div>",
                        "text/plain": "  PostalCode                                       Borough  \\\n0        M3A                                    North York   \n1        M4A                                    North York   \n2        M5A                              Downtown Toronto   \n3        M6A                                    North York   \n4        M7A  Queen's Park / Ontario Provincial Government   \n\n                       Neigborhoods  \n0                         Parkwoods  \n1                  Victoria Village  \n2         Regent Park, Harbourfront  \n3  Lawrence Manor, Lawrence Heights  \n4                                    "
                    },
                    "execution_count": 158,
                    "metadata": {},
                    "output_type": "execute_result"
                }
            ],
            "source": "df.head()"
        },
        {
            "cell_type": "code",
            "execution_count": 159,
            "metadata": {},
            "outputs": [
                {
                    "data": {
                        "text/html": "<div>\n<style scoped>\n    .dataframe tbody tr th:only-of-type {\n        vertical-align: middle;\n    }\n\n    .dataframe tbody tr th {\n        vertical-align: top;\n    }\n\n    .dataframe thead th {\n        text-align: right;\n    }\n</style>\n<table border=\"1\" class=\"dataframe\">\n  <thead>\n    <tr style=\"text-align: right;\">\n      <th></th>\n      <th>Borough</th>\n      <th>Neigborhoods</th>\n      <th>Latitude</th>\n      <th>Longitude</th>\n    </tr>\n    <tr>\n      <th>PostalCode</th>\n      <th></th>\n      <th></th>\n      <th></th>\n      <th></th>\n    </tr>\n  </thead>\n  <tbody>\n    <tr>\n      <th>M3A</th>\n      <td>North York</td>\n      <td>Parkwoods</td>\n      <td>43.753259</td>\n      <td>-79.329656</td>\n    </tr>\n    <tr>\n      <th>M4A</th>\n      <td>North York</td>\n      <td>Victoria Village</td>\n      <td>43.725882</td>\n      <td>-79.315572</td>\n    </tr>\n    <tr>\n      <th>M5A</th>\n      <td>Downtown Toronto</td>\n      <td>Regent Park, Harbourfront</td>\n      <td>43.654260</td>\n      <td>-79.360636</td>\n    </tr>\n    <tr>\n      <th>M6A</th>\n      <td>North York</td>\n      <td>Lawrence Manor, Lawrence Heights</td>\n      <td>43.718518</td>\n      <td>-79.464763</td>\n    </tr>\n    <tr>\n      <th>M7A</th>\n      <td>Queen's Park / Ontario Provincial Government</td>\n      <td></td>\n      <td>43.662301</td>\n      <td>-79.389494</td>\n    </tr>\n  </tbody>\n</table>\n</div>",
                        "text/plain": "                                                 Borough  \\\nPostalCode                                                 \nM3A                                           North York   \nM4A                                           North York   \nM5A                                     Downtown Toronto   \nM6A                                           North York   \nM7A         Queen's Park / Ontario Provincial Government   \n\n                                Neigborhoods   Latitude  Longitude  \nPostalCode                                                          \nM3A                                Parkwoods  43.753259 -79.329656  \nM4A                         Victoria Village  43.725882 -79.315572  \nM5A                Regent Park, Harbourfront  43.654260 -79.360636  \nM6A         Lawrence Manor, Lawrence Heights  43.718518 -79.464763  \nM7A                                           43.662301 -79.389494  "
                    },
                    "execution_count": 159,
                    "metadata": {},
                    "output_type": "execute_result"
                }
            ],
            "source": "df_merge = df.set_index('PostalCode').join(df_locations.set_index('PostalCode'))\ndf_merge.head()"
        },
        {
            "cell_type": "code",
            "execution_count": 160,
            "metadata": {},
            "outputs": [
                {
                    "data": {
                        "text/html": "<div>\n<style scoped>\n    .dataframe tbody tr th:only-of-type {\n        vertical-align: middle;\n    }\n\n    .dataframe tbody tr th {\n        vertical-align: top;\n    }\n\n    .dataframe thead th {\n        text-align: right;\n    }\n</style>\n<table border=\"1\" class=\"dataframe\">\n  <thead>\n    <tr style=\"text-align: right;\">\n      <th></th>\n      <th>PostalCode</th>\n      <th>Borough</th>\n      <th>Neigborhoods</th>\n      <th>Latitude</th>\n      <th>Longitude</th>\n    </tr>\n  </thead>\n  <tbody>\n    <tr>\n      <th>0</th>\n      <td>M3A</td>\n      <td>North York</td>\n      <td>Parkwoods</td>\n      <td>43.753259</td>\n      <td>-79.329656</td>\n    </tr>\n    <tr>\n      <th>1</th>\n      <td>M4A</td>\n      <td>North York</td>\n      <td>Victoria Village</td>\n      <td>43.725882</td>\n      <td>-79.315572</td>\n    </tr>\n    <tr>\n      <th>2</th>\n      <td>M5A</td>\n      <td>Downtown Toronto</td>\n      <td>Regent Park, Harbourfront</td>\n      <td>43.654260</td>\n      <td>-79.360636</td>\n    </tr>\n    <tr>\n      <th>3</th>\n      <td>M6A</td>\n      <td>North York</td>\n      <td>Lawrence Manor, Lawrence Heights</td>\n      <td>43.718518</td>\n      <td>-79.464763</td>\n    </tr>\n    <tr>\n      <th>4</th>\n      <td>M7A</td>\n      <td>Queen's Park / Ontario Provincial Government</td>\n      <td></td>\n      <td>43.662301</td>\n      <td>-79.389494</td>\n    </tr>\n  </tbody>\n</table>\n</div>",
                        "text/plain": "  PostalCode                                       Borough  \\\n0        M3A                                    North York   \n1        M4A                                    North York   \n2        M5A                              Downtown Toronto   \n3        M6A                                    North York   \n4        M7A  Queen's Park / Ontario Provincial Government   \n\n                       Neigborhoods   Latitude  Longitude  \n0                         Parkwoods  43.753259 -79.329656  \n1                  Victoria Village  43.725882 -79.315572  \n2         Regent Park, Harbourfront  43.654260 -79.360636  \n3  Lawrence Manor, Lawrence Heights  43.718518 -79.464763  \n4                                    43.662301 -79.389494  "
                    },
                    "execution_count": 160,
                    "metadata": {},
                    "output_type": "execute_result"
                }
            ],
            "source": "df_merge = df_merge.reset_index()\ndf_merge.head()"
        },
        {
            "cell_type": "markdown",
            "metadata": {},
            "source": "# 4. Clustering"
        },
        {
            "cell_type": "markdown",
            "metadata": {},
            "source": "## 4.1 Explore Neighborhoods"
        },
        {
            "cell_type": "code",
            "execution_count": 161,
            "metadata": {},
            "outputs": [
                {
                    "data": {
                        "text/html": "<div>\n<style scoped>\n    .dataframe tbody tr th:only-of-type {\n        vertical-align: middle;\n    }\n\n    .dataframe tbody tr th {\n        vertical-align: top;\n    }\n\n    .dataframe thead th {\n        text-align: right;\n    }\n</style>\n<table border=\"1\" class=\"dataframe\">\n  <thead>\n    <tr style=\"text-align: right;\">\n      <th></th>\n      <th>PostalCode</th>\n      <th>Borough</th>\n      <th>Neigborhoods</th>\n      <th>Latitude</th>\n      <th>Longitude</th>\n    </tr>\n  </thead>\n  <tbody>\n    <tr>\n      <th>2</th>\n      <td>M5A</td>\n      <td>Downtown Toronto</td>\n      <td>Regent Park, Harbourfront</td>\n      <td>43.654260</td>\n      <td>-79.360636</td>\n    </tr>\n    <tr>\n      <th>9</th>\n      <td>M5B</td>\n      <td>Downtown Toronto</td>\n      <td>Garden District, Ryerson</td>\n      <td>43.657162</td>\n      <td>-79.378937</td>\n    </tr>\n    <tr>\n      <th>15</th>\n      <td>M5C</td>\n      <td>Downtown Toronto</td>\n      <td>St. James Town</td>\n      <td>43.651494</td>\n      <td>-79.375418</td>\n    </tr>\n    <tr>\n      <th>20</th>\n      <td>M5E</td>\n      <td>Downtown Toronto</td>\n      <td>Berczy Park</td>\n      <td>43.644771</td>\n      <td>-79.373306</td>\n    </tr>\n    <tr>\n      <th>24</th>\n      <td>M5G</td>\n      <td>Downtown Toronto</td>\n      <td>Central Bay Street</td>\n      <td>43.657952</td>\n      <td>-79.387383</td>\n    </tr>\n  </tbody>\n</table>\n</div>",
                        "text/plain": "   PostalCode           Borough               Neigborhoods   Latitude  \\\n2         M5A  Downtown Toronto  Regent Park, Harbourfront  43.654260   \n9         M5B  Downtown Toronto   Garden District, Ryerson  43.657162   \n15        M5C  Downtown Toronto             St. James Town  43.651494   \n20        M5E  Downtown Toronto                Berczy Park  43.644771   \n24        M5G  Downtown Toronto         Central Bay Street  43.657952   \n\n    Longitude  \n2  -79.360636  \n9  -79.378937  \n15 -79.375418  \n20 -79.373306  \n24 -79.387383  "
                    },
                    "execution_count": 161,
                    "metadata": {},
                    "output_type": "execute_result"
                }
            ],
            "source": "Toronto_data.head()"
        },
        {
            "cell_type": "code",
            "execution_count": 162,
            "metadata": {},
            "outputs": [
                {
                    "data": {
                        "text/html": "<div>\n<style scoped>\n    .dataframe tbody tr th:only-of-type {\n        vertical-align: middle;\n    }\n\n    .dataframe tbody tr th {\n        vertical-align: top;\n    }\n\n    .dataframe thead th {\n        text-align: right;\n    }\n</style>\n<table border=\"1\" class=\"dataframe\">\n  <thead>\n    <tr style=\"text-align: right;\">\n      <th></th>\n      <th>PostalCode</th>\n      <th>Borough</th>\n      <th>Neigborhoods</th>\n      <th>Latitude</th>\n      <th>Longitude</th>\n    </tr>\n  </thead>\n  <tbody>\n    <tr>\n      <th>2</th>\n      <td>M5A</td>\n      <td>Downtown Toronto</td>\n      <td>Regent Park, Harbourfront</td>\n      <td>43.654260</td>\n      <td>-79.360636</td>\n    </tr>\n    <tr>\n      <th>9</th>\n      <td>M5B</td>\n      <td>Downtown Toronto</td>\n      <td>Garden District, Ryerson</td>\n      <td>43.657162</td>\n      <td>-79.378937</td>\n    </tr>\n    <tr>\n      <th>15</th>\n      <td>M5C</td>\n      <td>Downtown Toronto</td>\n      <td>St. James Town</td>\n      <td>43.651494</td>\n      <td>-79.375418</td>\n    </tr>\n    <tr>\n      <th>20</th>\n      <td>M5E</td>\n      <td>Downtown Toronto</td>\n      <td>Berczy Park</td>\n      <td>43.644771</td>\n      <td>-79.373306</td>\n    </tr>\n    <tr>\n      <th>24</th>\n      <td>M5G</td>\n      <td>Downtown Toronto</td>\n      <td>Central Bay Street</td>\n      <td>43.657952</td>\n      <td>-79.387383</td>\n    </tr>\n  </tbody>\n</table>\n</div>",
                        "text/plain": "   PostalCode           Borough               Neigborhoods   Latitude  \\\n2         M5A  Downtown Toronto  Regent Park, Harbourfront  43.654260   \n9         M5B  Downtown Toronto   Garden District, Ryerson  43.657162   \n15        M5C  Downtown Toronto             St. James Town  43.651494   \n20        M5E  Downtown Toronto                Berczy Park  43.644771   \n24        M5G  Downtown Toronto         Central Bay Street  43.657952   \n\n    Longitude  \n2  -79.360636  \n9  -79.378937  \n15 -79.375418  \n20 -79.373306  \n24 -79.387383  "
                    },
                    "execution_count": 162,
                    "metadata": {},
                    "output_type": "execute_result"
                }
            ],
            "source": "# Grouping the neighborhoods of Toronto\nToronto_data = df_merge[df_merge['Borough'] == 'Downtown Toronto']\nToronto_data.head()"
        },
        {
            "cell_type": "markdown",
            "metadata": {},
            "source": "### Let's check the size of the neigborhoods"
        },
        {
            "cell_type": "code",
            "execution_count": 163,
            "metadata": {},
            "outputs": [
                {
                    "data": {
                        "text/html": "<div>\n<style scoped>\n    .dataframe tbody tr th:only-of-type {\n        vertical-align: middle;\n    }\n\n    .dataframe tbody tr th {\n        vertical-align: top;\n    }\n\n    .dataframe thead th {\n        text-align: right;\n    }\n</style>\n<table border=\"1\" class=\"dataframe\">\n  <thead>\n    <tr style=\"text-align: right;\">\n      <th></th>\n      <th>PostalCode</th>\n      <th>Neigborhoods</th>\n      <th>Latitude</th>\n      <th>Longitude</th>\n    </tr>\n    <tr>\n      <th>Borough</th>\n      <th></th>\n      <th></th>\n      <th></th>\n      <th></th>\n    </tr>\n  </thead>\n  <tbody>\n    <tr>\n      <th>Downtown Toronto</th>\n      <td>17</td>\n      <td>17</td>\n      <td>17</td>\n      <td>17</td>\n    </tr>\n  </tbody>\n</table>\n</div>",
                        "text/plain": "                  PostalCode  Neigborhoods  Latitude  Longitude\nBorough                                                        \nDowntown Toronto          17            17        17         17"
                    },
                    "execution_count": 163,
                    "metadata": {},
                    "output_type": "execute_result"
                }
            ],
            "source": "Toronto_data.groupby('Borough').count()"
        },
        {
            "cell_type": "code",
            "execution_count": 164,
            "metadata": {},
            "outputs": [
                {
                    "data": {
                        "text/html": "<div>\n<style scoped>\n    .dataframe tbody tr th:only-of-type {\n        vertical-align: middle;\n    }\n\n    .dataframe tbody tr th {\n        vertical-align: top;\n    }\n\n    .dataframe thead th {\n        text-align: right;\n    }\n</style>\n<table border=\"1\" class=\"dataframe\">\n  <thead>\n    <tr style=\"text-align: right;\">\n      <th></th>\n      <th>PostalCode</th>\n      <th>Borough</th>\n      <th>Neigborhoods</th>\n      <th>Latitude</th>\n      <th>Longitude</th>\n    </tr>\n  </thead>\n  <tbody>\n    <tr>\n      <th>2</th>\n      <td>M5A</td>\n      <td>Downtown Toronto</td>\n      <td>Regent Park, Harbourfront</td>\n      <td>43.654260</td>\n      <td>-79.360636</td>\n    </tr>\n    <tr>\n      <th>9</th>\n      <td>M5B</td>\n      <td>Downtown Toronto</td>\n      <td>Garden District, Ryerson</td>\n      <td>43.657162</td>\n      <td>-79.378937</td>\n    </tr>\n    <tr>\n      <th>15</th>\n      <td>M5C</td>\n      <td>Downtown Toronto</td>\n      <td>St. James Town</td>\n      <td>43.651494</td>\n      <td>-79.375418</td>\n    </tr>\n    <tr>\n      <th>20</th>\n      <td>M5E</td>\n      <td>Downtown Toronto</td>\n      <td>Berczy Park</td>\n      <td>43.644771</td>\n      <td>-79.373306</td>\n    </tr>\n    <tr>\n      <th>24</th>\n      <td>M5G</td>\n      <td>Downtown Toronto</td>\n      <td>Central Bay Street</td>\n      <td>43.657952</td>\n      <td>-79.387383</td>\n    </tr>\n    <tr>\n      <th>25</th>\n      <td>M6G</td>\n      <td>Downtown Toronto</td>\n      <td>Christie</td>\n      <td>43.669542</td>\n      <td>-79.422564</td>\n    </tr>\n    <tr>\n      <th>30</th>\n      <td>M5H</td>\n      <td>Downtown Toronto</td>\n      <td>Richmond, Adelaide, King</td>\n      <td>43.650571</td>\n      <td>-79.384568</td>\n    </tr>\n    <tr>\n      <th>36</th>\n      <td>M5J</td>\n      <td>Downtown Toronto</td>\n      <td>Harbourfront East, Union Station, Toronto Islands</td>\n      <td>43.640816</td>\n      <td>-79.381752</td>\n    </tr>\n    <tr>\n      <th>42</th>\n      <td>M5K</td>\n      <td>Downtown Toronto</td>\n      <td>Toronto Dominion Centre, Design Exchange</td>\n      <td>43.647177</td>\n      <td>-79.381576</td>\n    </tr>\n    <tr>\n      <th>48</th>\n      <td>M5L</td>\n      <td>Downtown Toronto</td>\n      <td>Commerce Court, Victoria Hotel</td>\n      <td>43.648198</td>\n      <td>-79.379817</td>\n    </tr>\n    <tr>\n      <th>80</th>\n      <td>M5S</td>\n      <td>Downtown Toronto</td>\n      <td>University of Toronto, Harbord</td>\n      <td>43.662696</td>\n      <td>-79.400049</td>\n    </tr>\n    <tr>\n      <th>84</th>\n      <td>M5T</td>\n      <td>Downtown Toronto</td>\n      <td>Kensington Market, Chinatown, Grange Park</td>\n      <td>43.653206</td>\n      <td>-79.400049</td>\n    </tr>\n    <tr>\n      <th>87</th>\n      <td>M5V</td>\n      <td>Downtown Toronto</td>\n      <td>CN Tower, King and Spadina, Railway Lands, Har...</td>\n      <td>43.628947</td>\n      <td>-79.394420</td>\n    </tr>\n    <tr>\n      <th>91</th>\n      <td>M4W</td>\n      <td>Downtown Toronto</td>\n      <td>Rosedale</td>\n      <td>43.679563</td>\n      <td>-79.377529</td>\n    </tr>\n    <tr>\n      <th>96</th>\n      <td>M4X</td>\n      <td>Downtown Toronto</td>\n      <td>St. James Town, Cabbagetown</td>\n      <td>43.667967</td>\n      <td>-79.367675</td>\n    </tr>\n    <tr>\n      <th>97</th>\n      <td>M5X</td>\n      <td>Downtown Toronto</td>\n      <td>First Canadian Place, Underground city</td>\n      <td>43.648429</td>\n      <td>-79.382280</td>\n    </tr>\n    <tr>\n      <th>99</th>\n      <td>M4Y</td>\n      <td>Downtown Toronto</td>\n      <td>Church and Wellesley</td>\n      <td>43.665860</td>\n      <td>-79.383160</td>\n    </tr>\n  </tbody>\n</table>\n</div>",
                        "text/plain": "   PostalCode           Borough  \\\n2         M5A  Downtown Toronto   \n9         M5B  Downtown Toronto   \n15        M5C  Downtown Toronto   \n20        M5E  Downtown Toronto   \n24        M5G  Downtown Toronto   \n25        M6G  Downtown Toronto   \n30        M5H  Downtown Toronto   \n36        M5J  Downtown Toronto   \n42        M5K  Downtown Toronto   \n48        M5L  Downtown Toronto   \n80        M5S  Downtown Toronto   \n84        M5T  Downtown Toronto   \n87        M5V  Downtown Toronto   \n91        M4W  Downtown Toronto   \n96        M4X  Downtown Toronto   \n97        M5X  Downtown Toronto   \n99        M4Y  Downtown Toronto   \n\n                                         Neigborhoods   Latitude  Longitude  \n2                           Regent Park, Harbourfront  43.654260 -79.360636  \n9                            Garden District, Ryerson  43.657162 -79.378937  \n15                                     St. James Town  43.651494 -79.375418  \n20                                        Berczy Park  43.644771 -79.373306  \n24                                 Central Bay Street  43.657952 -79.387383  \n25                                           Christie  43.669542 -79.422564  \n30                           Richmond, Adelaide, King  43.650571 -79.384568  \n36  Harbourfront East, Union Station, Toronto Islands  43.640816 -79.381752  \n42           Toronto Dominion Centre, Design Exchange  43.647177 -79.381576  \n48                     Commerce Court, Victoria Hotel  43.648198 -79.379817  \n80                     University of Toronto, Harbord  43.662696 -79.400049  \n84          Kensington Market, Chinatown, Grange Park  43.653206 -79.400049  \n87  CN Tower, King and Spadina, Railway Lands, Har...  43.628947 -79.394420  \n91                                           Rosedale  43.679563 -79.377529  \n96                        St. James Town, Cabbagetown  43.667967 -79.367675  \n97             First Canadian Place, Underground city  43.648429 -79.382280  \n99                               Church and Wellesley  43.665860 -79.383160  "
                    },
                    "execution_count": 164,
                    "metadata": {},
                    "output_type": "execute_result"
                }
            ],
            "source": "Toronto_data"
        },
        {
            "cell_type": "code",
            "execution_count": 165,
            "metadata": {},
            "outputs": [],
            "source": "neighborhoods = Toronto_data.drop(['PostalCode', 'Borough'], axis=1)"
        },
        {
            "cell_type": "code",
            "execution_count": 166,
            "metadata": {},
            "outputs": [
                {
                    "data": {
                        "text/html": "<div>\n<style scoped>\n    .dataframe tbody tr th:only-of-type {\n        vertical-align: middle;\n    }\n\n    .dataframe tbody tr th {\n        vertical-align: top;\n    }\n\n    .dataframe thead th {\n        text-align: right;\n    }\n</style>\n<table border=\"1\" class=\"dataframe\">\n  <thead>\n    <tr style=\"text-align: right;\">\n      <th></th>\n      <th>Neigborhoods</th>\n      <th>Latitude</th>\n      <th>Longitude</th>\n    </tr>\n  </thead>\n  <tbody>\n    <tr>\n      <th>2</th>\n      <td>Regent Park, Harbourfront</td>\n      <td>43.654260</td>\n      <td>-79.360636</td>\n    </tr>\n    <tr>\n      <th>9</th>\n      <td>Garden District, Ryerson</td>\n      <td>43.657162</td>\n      <td>-79.378937</td>\n    </tr>\n    <tr>\n      <th>15</th>\n      <td>St. James Town</td>\n      <td>43.651494</td>\n      <td>-79.375418</td>\n    </tr>\n    <tr>\n      <th>20</th>\n      <td>Berczy Park</td>\n      <td>43.644771</td>\n      <td>-79.373306</td>\n    </tr>\n    <tr>\n      <th>24</th>\n      <td>Central Bay Street</td>\n      <td>43.657952</td>\n      <td>-79.387383</td>\n    </tr>\n  </tbody>\n</table>\n</div>",
                        "text/plain": "                 Neigborhoods   Latitude  Longitude\n2   Regent Park, Harbourfront  43.654260 -79.360636\n9    Garden District, Ryerson  43.657162 -79.378937\n15             St. James Town  43.651494 -79.375418\n20                Berczy Park  43.644771 -79.373306\n24         Central Bay Street  43.657952 -79.387383"
                    },
                    "execution_count": 166,
                    "metadata": {},
                    "output_type": "execute_result"
                }
            ],
            "source": "neighborhoods.head()"
        },
        {
            "cell_type": "markdown",
            "metadata": {},
            "source": "## 4.2 Cluster neighborhoods"
        },
        {
            "cell_type": "markdown",
            "metadata": {},
            "source": "Run *k*-means to cluster the neighborhood into 6 clusters."
        },
        {
            "cell_type": "code",
            "execution_count": 167,
            "metadata": {},
            "outputs": [
                {
                    "data": {
                        "text/plain": "array([1, 0, 0, 0, 0, 4, 0, 0, 0, 0, 2, 2, 5, 3, 1, 0, 3])"
                    },
                    "execution_count": 167,
                    "metadata": {},
                    "output_type": "execute_result"
                }
            ],
            "source": "# import k-means from clustering stage\nfrom sklearn.cluster import KMeans\n# set number of clusters\nkclusters = 6\n\ntoronto_grouped_clustering = neighborhoods.drop('Neigborhoods', 1)\n\n# run k-means clustering\nkmeans = KMeans(n_clusters=kclusters, random_state=0).fit(toronto_grouped_clustering)\n\n# check cluster labels generated for each row in the dataframe\nkmeans.labels_"
        },
        {
            "cell_type": "code",
            "execution_count": 168,
            "metadata": {},
            "outputs": [
                {
                    "data": {
                        "text/html": "<div>\n<style scoped>\n    .dataframe tbody tr th:only-of-type {\n        vertical-align: middle;\n    }\n\n    .dataframe tbody tr th {\n        vertical-align: top;\n    }\n\n    .dataframe thead th {\n        text-align: right;\n    }\n</style>\n<table border=\"1\" class=\"dataframe\">\n  <thead>\n    <tr style=\"text-align: right;\">\n      <th></th>\n      <th>Cluster Labels</th>\n      <th>PostalCode</th>\n      <th>Borough</th>\n      <th>Neigborhoods</th>\n      <th>Latitude</th>\n      <th>Longitude</th>\n    </tr>\n  </thead>\n  <tbody>\n    <tr>\n      <th>2</th>\n      <td>1</td>\n      <td>M5A</td>\n      <td>Downtown Toronto</td>\n      <td>Regent Park, Harbourfront</td>\n      <td>43.654260</td>\n      <td>-79.360636</td>\n    </tr>\n    <tr>\n      <th>9</th>\n      <td>0</td>\n      <td>M5B</td>\n      <td>Downtown Toronto</td>\n      <td>Garden District, Ryerson</td>\n      <td>43.657162</td>\n      <td>-79.378937</td>\n    </tr>\n    <tr>\n      <th>15</th>\n      <td>0</td>\n      <td>M5C</td>\n      <td>Downtown Toronto</td>\n      <td>St. James Town</td>\n      <td>43.651494</td>\n      <td>-79.375418</td>\n    </tr>\n    <tr>\n      <th>20</th>\n      <td>0</td>\n      <td>M5E</td>\n      <td>Downtown Toronto</td>\n      <td>Berczy Park</td>\n      <td>43.644771</td>\n      <td>-79.373306</td>\n    </tr>\n    <tr>\n      <th>24</th>\n      <td>0</td>\n      <td>M5G</td>\n      <td>Downtown Toronto</td>\n      <td>Central Bay Street</td>\n      <td>43.657952</td>\n      <td>-79.387383</td>\n    </tr>\n    <tr>\n      <th>25</th>\n      <td>4</td>\n      <td>M6G</td>\n      <td>Downtown Toronto</td>\n      <td>Christie</td>\n      <td>43.669542</td>\n      <td>-79.422564</td>\n    </tr>\n    <tr>\n      <th>30</th>\n      <td>0</td>\n      <td>M5H</td>\n      <td>Downtown Toronto</td>\n      <td>Richmond, Adelaide, King</td>\n      <td>43.650571</td>\n      <td>-79.384568</td>\n    </tr>\n    <tr>\n      <th>36</th>\n      <td>0</td>\n      <td>M5J</td>\n      <td>Downtown Toronto</td>\n      <td>Harbourfront East, Union Station, Toronto Islands</td>\n      <td>43.640816</td>\n      <td>-79.381752</td>\n    </tr>\n    <tr>\n      <th>42</th>\n      <td>0</td>\n      <td>M5K</td>\n      <td>Downtown Toronto</td>\n      <td>Toronto Dominion Centre, Design Exchange</td>\n      <td>43.647177</td>\n      <td>-79.381576</td>\n    </tr>\n    <tr>\n      <th>48</th>\n      <td>0</td>\n      <td>M5L</td>\n      <td>Downtown Toronto</td>\n      <td>Commerce Court, Victoria Hotel</td>\n      <td>43.648198</td>\n      <td>-79.379817</td>\n    </tr>\n    <tr>\n      <th>80</th>\n      <td>2</td>\n      <td>M5S</td>\n      <td>Downtown Toronto</td>\n      <td>University of Toronto, Harbord</td>\n      <td>43.662696</td>\n      <td>-79.400049</td>\n    </tr>\n    <tr>\n      <th>84</th>\n      <td>2</td>\n      <td>M5T</td>\n      <td>Downtown Toronto</td>\n      <td>Kensington Market, Chinatown, Grange Park</td>\n      <td>43.653206</td>\n      <td>-79.400049</td>\n    </tr>\n    <tr>\n      <th>87</th>\n      <td>5</td>\n      <td>M5V</td>\n      <td>Downtown Toronto</td>\n      <td>CN Tower, King and Spadina, Railway Lands, Har...</td>\n      <td>43.628947</td>\n      <td>-79.394420</td>\n    </tr>\n    <tr>\n      <th>91</th>\n      <td>3</td>\n      <td>M4W</td>\n      <td>Downtown Toronto</td>\n      <td>Rosedale</td>\n      <td>43.679563</td>\n      <td>-79.377529</td>\n    </tr>\n    <tr>\n      <th>96</th>\n      <td>1</td>\n      <td>M4X</td>\n      <td>Downtown Toronto</td>\n      <td>St. James Town, Cabbagetown</td>\n      <td>43.667967</td>\n      <td>-79.367675</td>\n    </tr>\n    <tr>\n      <th>97</th>\n      <td>0</td>\n      <td>M5X</td>\n      <td>Downtown Toronto</td>\n      <td>First Canadian Place, Underground city</td>\n      <td>43.648429</td>\n      <td>-79.382280</td>\n    </tr>\n    <tr>\n      <th>99</th>\n      <td>3</td>\n      <td>M4Y</td>\n      <td>Downtown Toronto</td>\n      <td>Church and Wellesley</td>\n      <td>43.665860</td>\n      <td>-79.383160</td>\n    </tr>\n  </tbody>\n</table>\n</div>",
                        "text/plain": "    Cluster Labels PostalCode           Borough  \\\n2                1        M5A  Downtown Toronto   \n9                0        M5B  Downtown Toronto   \n15               0        M5C  Downtown Toronto   \n20               0        M5E  Downtown Toronto   \n24               0        M5G  Downtown Toronto   \n25               4        M6G  Downtown Toronto   \n30               0        M5H  Downtown Toronto   \n36               0        M5J  Downtown Toronto   \n42               0        M5K  Downtown Toronto   \n48               0        M5L  Downtown Toronto   \n80               2        M5S  Downtown Toronto   \n84               2        M5T  Downtown Toronto   \n87               5        M5V  Downtown Toronto   \n91               3        M4W  Downtown Toronto   \n96               1        M4X  Downtown Toronto   \n97               0        M5X  Downtown Toronto   \n99               3        M4Y  Downtown Toronto   \n\n                                         Neigborhoods   Latitude  Longitude  \n2                           Regent Park, Harbourfront  43.654260 -79.360636  \n9                            Garden District, Ryerson  43.657162 -79.378937  \n15                                     St. James Town  43.651494 -79.375418  \n20                                        Berczy Park  43.644771 -79.373306  \n24                                 Central Bay Street  43.657952 -79.387383  \n25                                           Christie  43.669542 -79.422564  \n30                           Richmond, Adelaide, King  43.650571 -79.384568  \n36  Harbourfront East, Union Station, Toronto Islands  43.640816 -79.381752  \n42           Toronto Dominion Centre, Design Exchange  43.647177 -79.381576  \n48                     Commerce Court, Victoria Hotel  43.648198 -79.379817  \n80                     University of Toronto, Harbord  43.662696 -79.400049  \n84          Kensington Market, Chinatown, Grange Park  43.653206 -79.400049  \n87  CN Tower, King and Spadina, Railway Lands, Har...  43.628947 -79.394420  \n91                                           Rosedale  43.679563 -79.377529  \n96                        St. James Town, Cabbagetown  43.667967 -79.367675  \n97             First Canadian Place, Underground city  43.648429 -79.382280  \n99                               Church and Wellesley  43.665860 -79.383160  "
                    },
                    "execution_count": 168,
                    "metadata": {},
                    "output_type": "execute_result"
                }
            ],
            "source": "# add clustering labels\nToronto_data.insert(0, 'Cluster Labels', kmeans.labels_)\nToronto_data"
        },
        {
            "cell_type": "code",
            "execution_count": 169,
            "metadata": {},
            "outputs": [
                {
                    "name": "stderr",
                    "output_type": "stream",
                    "text": "d:\\ProgramData\\Anaconda3\\lib\\site-packages\\pandas\\core\\frame.py:3778: SettingWithCopyWarning: \nA value is trying to be set on a copy of a slice from a DataFrame\n\nSee the caveats in the documentation: http://pandas.pydata.org/pandas-docs/stable/indexing.html#indexing-view-versus-copy\n  return super(DataFrame, self).rename(**kwargs)\n"
                }
            ],
            "source": "Toronto_data.rename(columns={'Neigborhoods':'Neighborhoods'}, inplace=True)"
        },
        {
            "cell_type": "markdown",
            "metadata": {},
            "source": "## 4.3 Visualization"
        },
        {
            "cell_type": "markdown",
            "metadata": {},
            "source": "### Use geopy to retrieve the latitude and longitude of Downtown Toronto"
        },
        {
            "cell_type": "code",
            "execution_count": 170,
            "metadata": {},
            "outputs": [
                {
                    "name": "stdout",
                    "output_type": "stream",
                    "text": "The geograpical coordinate of Downtown Toronto are 43.6541737, -79.38081164513409.\n"
                }
            ],
            "source": "from geopy.geocoders import Nominatim # convert an address into latitude and longitude values\nimport geopy.geocoders\ngeopy.geocoders.options.default_timeout = 20\naddress = 'Downtown Toronto'\ngeolocator = Nominatim(user_agent=\"tor_explorer\")\nlocation = geolocator.geocode(address)\nlatitude = location.latitude\nlongitude = location.longitude\nprint('The geograpical coordinate of Downtown Toronto are {}, {}.'.format(latitude, longitude))"
        },
        {
            "cell_type": "code",
            "execution_count": 171,
            "metadata": {},
            "outputs": [
                {
                    "data": {
                        "text/html": "<div style=\"width:100%;\"><div style=\"position:relative;width:100%;height:0;padding-bottom:60%;\"><iframe src=\"about:blank\" style=\"position:absolute;width:100%;height:100%;left:0;top:0;border:none !important;\" data-html=PCFET0NUWVBFIGh0bWw+CjxoZWFkPiAgICAKICAgIDxtZXRhIGh0dHAtZXF1aXY9ImNvbnRlbnQtdHlwZSIgY29udGVudD0idGV4dC9odG1sOyBjaGFyc2V0PVVURi04IiAvPgogICAgCiAgICAgICAgPHNjcmlwdD4KICAgICAgICAgICAgTF9OT19UT1VDSCA9IGZhbHNlOwogICAgICAgICAgICBMX0RJU0FCTEVfM0QgPSBmYWxzZTsKICAgICAgICA8L3NjcmlwdD4KICAgIAogICAgPHNjcmlwdCBzcmM9Imh0dHBzOi8vY2RuLmpzZGVsaXZyLm5ldC9ucG0vbGVhZmxldEAxLjUuMS9kaXN0L2xlYWZsZXQuanMiPjwvc2NyaXB0PgogICAgPHNjcmlwdCBzcmM9Imh0dHBzOi8vY29kZS5qcXVlcnkuY29tL2pxdWVyeS0xLjEyLjQubWluLmpzIj48L3NjcmlwdD4KICAgIDxzY3JpcHQgc3JjPSJodHRwczovL21heGNkbi5ib290c3RyYXBjZG4uY29tL2Jvb3RzdHJhcC8zLjIuMC9qcy9ib290c3RyYXAubWluLmpzIj48L3NjcmlwdD4KICAgIDxzY3JpcHQgc3JjPSJodHRwczovL2NkbmpzLmNsb3VkZmxhcmUuY29tL2FqYXgvbGlicy9MZWFmbGV0LmF3ZXNvbWUtbWFya2Vycy8yLjAuMi9sZWFmbGV0LmF3ZXNvbWUtbWFya2Vycy5qcyI+PC9zY3JpcHQ+CiAgICA8bGluayByZWw9InN0eWxlc2hlZXQiIGhyZWY9Imh0dHBzOi8vY2RuLmpzZGVsaXZyLm5ldC9ucG0vbGVhZmxldEAxLjUuMS9kaXN0L2xlYWZsZXQuY3NzIi8+CiAgICA8bGluayByZWw9InN0eWxlc2hlZXQiIGhyZWY9Imh0dHBzOi8vbWF4Y2RuLmJvb3RzdHJhcGNkbi5jb20vYm9vdHN0cmFwLzMuMi4wL2Nzcy9ib290c3RyYXAubWluLmNzcyIvPgogICAgPGxpbmsgcmVsPSJzdHlsZXNoZWV0IiBocmVmPSJodHRwczovL21heGNkbi5ib290c3RyYXBjZG4uY29tL2Jvb3RzdHJhcC8zLjIuMC9jc3MvYm9vdHN0cmFwLXRoZW1lLm1pbi5jc3MiLz4KICAgIDxsaW5rIHJlbD0ic3R5bGVzaGVldCIgaHJlZj0iaHR0cHM6Ly9tYXhjZG4uYm9vdHN0cmFwY2RuLmNvbS9mb250LWF3ZXNvbWUvNC42LjMvY3NzL2ZvbnQtYXdlc29tZS5taW4uY3NzIi8+CiAgICA8bGluayByZWw9InN0eWxlc2hlZXQiIGhyZWY9Imh0dHBzOi8vY2RuanMuY2xvdWRmbGFyZS5jb20vYWpheC9saWJzL0xlYWZsZXQuYXdlc29tZS1tYXJrZXJzLzIuMC4yL2xlYWZsZXQuYXdlc29tZS1tYXJrZXJzLmNzcyIvPgogICAgPGxpbmsgcmVsPSJzdHlsZXNoZWV0IiBocmVmPSJodHRwczovL3Jhd2Nkbi5naXRoYWNrLmNvbS9weXRob24tdmlzdWFsaXphdGlvbi9mb2xpdW0vbWFzdGVyL2ZvbGl1bS90ZW1wbGF0ZXMvbGVhZmxldC5hd2Vzb21lLnJvdGF0ZS5jc3MiLz4KICAgIDxzdHlsZT5odG1sLCBib2R5IHt3aWR0aDogMTAwJTtoZWlnaHQ6IDEwMCU7bWFyZ2luOiAwO3BhZGRpbmc6IDA7fTwvc3R5bGU+CiAgICA8c3R5bGU+I21hcCB7cG9zaXRpb246YWJzb2x1dGU7dG9wOjA7Ym90dG9tOjA7cmlnaHQ6MDtsZWZ0OjA7fTwvc3R5bGU+CiAgICAKICAgICAgICAgICAgPG1ldGEgbmFtZT0idmlld3BvcnQiIGNvbnRlbnQ9IndpZHRoPWRldmljZS13aWR0aCwKICAgICAgICAgICAgICAgIGluaXRpYWwtc2NhbGU9MS4wLCBtYXhpbXVtLXNjYWxlPTEuMCwgdXNlci1zY2FsYWJsZT1ubyIgLz4KICAgICAgICAgICAgPHN0eWxlPgogICAgICAgICAgICAgICAgI21hcF8yY2MxODQzMzFlNTQ0YzAyODM4Y2QzYzYxYmQxZTI2OCB7CiAgICAgICAgICAgICAgICAgICAgcG9zaXRpb246IHJlbGF0aXZlOwogICAgICAgICAgICAgICAgICAgIHdpZHRoOiAxMDAuMCU7CiAgICAgICAgICAgICAgICAgICAgaGVpZ2h0OiAxMDAuMCU7CiAgICAgICAgICAgICAgICAgICAgbGVmdDogMC4wJTsKICAgICAgICAgICAgICAgICAgICB0b3A6IDAuMCU7CiAgICAgICAgICAgICAgICB9CiAgICAgICAgICAgIDwvc3R5bGU+CiAgICAgICAgCjwvaGVhZD4KPGJvZHk+ICAgIAogICAgCiAgICAgICAgICAgIDxkaXYgY2xhc3M9ImZvbGl1bS1tYXAiIGlkPSJtYXBfMmNjMTg0MzMxZTU0NGMwMjgzOGNkM2M2MWJkMWUyNjgiID48L2Rpdj4KICAgICAgICAKPC9ib2R5Pgo8c2NyaXB0PiAgICAKICAgIAogICAgICAgICAgICB2YXIgbWFwXzJjYzE4NDMzMWU1NDRjMDI4MzhjZDNjNjFiZDFlMjY4ID0gTC5tYXAoCiAgICAgICAgICAgICAgICAibWFwXzJjYzE4NDMzMWU1NDRjMDI4MzhjZDNjNjFiZDFlMjY4IiwKICAgICAgICAgICAgICAgIHsKICAgICAgICAgICAgICAgICAgICBjZW50ZXI6IFs0My42NTQxNzM3LCAtNzkuMzgwODExNjQ1MTM0MDldLAogICAgICAgICAgICAgICAgICAgIGNyczogTC5DUlMuRVBTRzM4NTcsCiAgICAgICAgICAgICAgICAgICAgem9vbTogMTEsCiAgICAgICAgICAgICAgICAgICAgem9vbUNvbnRyb2w6IHRydWUsCiAgICAgICAgICAgICAgICAgICAgcHJlZmVyQ2FudmFzOiBmYWxzZSwKICAgICAgICAgICAgICAgIH0KICAgICAgICAgICAgKTsKCiAgICAgICAgICAgIAoKICAgICAgICAKICAgIAogICAgICAgICAgICB2YXIgdGlsZV9sYXllcl82ZmYzMWM3NzIzNDg0YWMzYjZiN2Q2YzFmZGU0NDBiOSA9IEwudGlsZUxheWVyKAogICAgICAgICAgICAgICAgImh0dHBzOi8ve3N9LnRpbGUub3BlbnN0cmVldG1hcC5vcmcve3p9L3t4fS97eX0ucG5nIiwKICAgICAgICAgICAgICAgIHsiYXR0cmlidXRpb24iOiAiRGF0YSBieSBcdTAwMjZjb3B5OyBcdTAwM2NhIGhyZWY9XCJodHRwOi8vb3BlbnN0cmVldG1hcC5vcmdcIlx1MDAzZU9wZW5TdHJlZXRNYXBcdTAwM2MvYVx1MDAzZSwgdW5kZXIgXHUwMDNjYSBocmVmPVwiaHR0cDovL3d3dy5vcGVuc3RyZWV0bWFwLm9yZy9jb3B5cmlnaHRcIlx1MDAzZU9EYkxcdTAwM2MvYVx1MDAzZS4iLCAiZGV0ZWN0UmV0aW5hIjogZmFsc2UsICJtYXhOYXRpdmVab29tIjogMTgsICJtYXhab29tIjogMTgsICJtaW5ab29tIjogMCwgIm5vV3JhcCI6IGZhbHNlLCAib3BhY2l0eSI6IDEsICJzdWJkb21haW5zIjogImFiYyIsICJ0bXMiOiBmYWxzZX0KICAgICAgICAgICAgKS5hZGRUbyhtYXBfMmNjMTg0MzMxZTU0NGMwMjgzOGNkM2M2MWJkMWUyNjgpOwogICAgICAgIAogICAgCiAgICAgICAgICAgIHZhciBjaXJjbGVfbWFya2VyXzU3ODE0MTkxYzgxYzRhNjI5MjhmYTk3YjQ4MzFmNWZkID0gTC5jaXJjbGVNYXJrZXIoCiAgICAgICAgICAgICAgICBbNDMuNjU0MjU5OSwgLTc5LjM2MDYzNTldLAogICAgICAgICAgICAgICAgeyJidWJibGluZ01vdXNlRXZlbnRzIjogdHJ1ZSwgImNvbG9yIjogIiM4MDAwZmYiLCAiZGFzaEFycmF5IjogbnVsbCwgImRhc2hPZmZzZXQiOiBudWxsLCAiZmlsbCI6IHRydWUsICJmaWxsQ29sb3IiOiAiIzgwMDBmZiIsICJmaWxsT3BhY2l0eSI6IDAuNywgImZpbGxSdWxlIjogImV2ZW5vZGQiLCAibGluZUNhcCI6ICJyb3VuZCIsICJsaW5lSm9pbiI6ICJyb3VuZCIsICJvcGFjaXR5IjogMS4wLCAicmFkaXVzIjogNSwgInN0cm9rZSI6IHRydWUsICJ3ZWlnaHQiOiAzfQogICAgICAgICAgICApLmFkZFRvKG1hcF8yY2MxODQzMzFlNTQ0YzAyODM4Y2QzYzYxYmQxZTI2OCk7CiAgICAgICAgCiAgICAKICAgICAgICB2YXIgcG9wdXBfYTZkNGZjNTdmYWIzNGFkNGIyM2JiZDhhMGU4MzQ0MWQgPSBMLnBvcHVwKHsibWF4V2lkdGgiOiAiMTAwJSJ9KTsKCiAgICAgICAgCiAgICAgICAgICAgIHZhciBodG1sX2Y5Mjc2ODhhOWIxYzQ0NzFiYTU4ZWY2ZmU5ZGZmZGM1ID0gJChgPGRpdiBpZD0iaHRtbF9mOTI3Njg4YTliMWM0NDcxYmE1OGVmNmZlOWRmZmRjNSIgc3R5bGU9IndpZHRoOiAxMDAuMCU7IGhlaWdodDogMTAwLjAlOyI+UmVnZW50IFBhcmssIEhhcmJvdXJmcm9udCBDbHVzdGVyIDE8L2Rpdj5gKVswXTsKICAgICAgICAgICAgcG9wdXBfYTZkNGZjNTdmYWIzNGFkNGIyM2JiZDhhMGU4MzQ0MWQuc2V0Q29udGVudChodG1sX2Y5Mjc2ODhhOWIxYzQ0NzFiYTU4ZWY2ZmU5ZGZmZGM1KTsKICAgICAgICAKCiAgICAgICAgY2lyY2xlX21hcmtlcl81NzgxNDE5MWM4MWM0YTYyOTI4ZmE5N2I0ODMxZjVmZC5iaW5kUG9wdXAocG9wdXBfYTZkNGZjNTdmYWIzNGFkNGIyM2JiZDhhMGU4MzQ0MWQpCiAgICAgICAgOwoKICAgICAgICAKICAgIAogICAgCiAgICAgICAgICAgIHZhciBjaXJjbGVfbWFya2VyX2Y5YjZkMjJhMmM3YzQ5MzViNTU1ZDRhYjgxZWMzYzU0ID0gTC5jaXJjbGVNYXJrZXIoCiAgICAgICAgICAgICAgICBbNDMuNjU3MTYxOCwgLTc5LjM3ODkzNzA5OTk5OTk5XSwKICAgICAgICAgICAgICAgIHsiYnViYmxpbmdNb3VzZUV2ZW50cyI6IHRydWUsICJjb2xvciI6ICIjZmYwMDAwIiwgImRhc2hBcnJheSI6IG51bGwsICJkYXNoT2Zmc2V0IjogbnVsbCwgImZpbGwiOiB0cnVlLCAiZmlsbENvbG9yIjogIiNmZjAwMDAiLCAiZmlsbE9wYWNpdHkiOiAwLjcsICJmaWxsUnVsZSI6ICJldmVub2RkIiwgImxpbmVDYXAiOiAicm91bmQiLCAibGluZUpvaW4iOiAicm91bmQiLCAib3BhY2l0eSI6IDEuMCwgInJhZGl1cyI6IDUsICJzdHJva2UiOiB0cnVlLCAid2VpZ2h0IjogM30KICAgICAgICAgICAgKS5hZGRUbyhtYXBfMmNjMTg0MzMxZTU0NGMwMjgzOGNkM2M2MWJkMWUyNjgpOwogICAgICAgIAogICAgCiAgICAgICAgdmFyIHBvcHVwX2NjNmI0Yzc5MjY4NzQ2NmQ5YTg3ZTY4OTA4ODk3MDk0ID0gTC5wb3B1cCh7Im1heFdpZHRoIjogIjEwMCUifSk7CgogICAgICAgIAogICAgICAgICAgICB2YXIgaHRtbF9mMTZiZDU1ODNkNDM0NWQxOGJhYzAxMjRkYThhODkwNSA9ICQoYDxkaXYgaWQ9Imh0bWxfZjE2YmQ1NTgzZDQzNDVkMThiYWMwMTI0ZGE4YTg5MDUiIHN0eWxlPSJ3aWR0aDogMTAwLjAlOyBoZWlnaHQ6IDEwMC4wJTsiPkdhcmRlbiBEaXN0cmljdCwgUnllcnNvbiBDbHVzdGVyIDA8L2Rpdj5gKVswXTsKICAgICAgICAgICAgcG9wdXBfY2M2YjRjNzkyNjg3NDY2ZDlhODdlNjg5MDg4OTcwOTQuc2V0Q29udGVudChodG1sX2YxNmJkNTU4M2Q0MzQ1ZDE4YmFjMDEyNGRhOGE4OTA1KTsKICAgICAgICAKCiAgICAgICAgY2lyY2xlX21hcmtlcl9mOWI2ZDIyYTJjN2M0OTM1YjU1NWQ0YWI4MWVjM2M1NC5iaW5kUG9wdXAocG9wdXBfY2M2YjRjNzkyNjg3NDY2ZDlhODdlNjg5MDg4OTcwOTQpCiAgICAgICAgOwoKICAgICAgICAKICAgIAogICAgCiAgICAgICAgICAgIHZhciBjaXJjbGVfbWFya2VyX2YwMWJkOTUyNzc1ZTQwZmE4MTVjMWQwYmJhMmVlNjZlID0gTC5jaXJjbGVNYXJrZXIoCiAgICAgICAgICAgICAgICBbNDMuNjUxNDkzOSwgLTc5LjM3NTQxNzldLAogICAgICAgICAgICAgICAgeyJidWJibGluZ01vdXNlRXZlbnRzIjogdHJ1ZSwgImNvbG9yIjogIiNmZjAwMDAiLCAiZGFzaEFycmF5IjogbnVsbCwgImRhc2hPZmZzZXQiOiBudWxsLCAiZmlsbCI6IHRydWUsICJmaWxsQ29sb3IiOiAiI2ZmMDAwMCIsICJmaWxsT3BhY2l0eSI6IDAuNywgImZpbGxSdWxlIjogImV2ZW5vZGQiLCAibGluZUNhcCI6ICJyb3VuZCIsICJsaW5lSm9pbiI6ICJyb3VuZCIsICJvcGFjaXR5IjogMS4wLCAicmFkaXVzIjogNSwgInN0cm9rZSI6IHRydWUsICJ3ZWlnaHQiOiAzfQogICAgICAgICAgICApLmFkZFRvKG1hcF8yY2MxODQzMzFlNTQ0YzAyODM4Y2QzYzYxYmQxZTI2OCk7CiAgICAgICAgCiAgICAKICAgICAgICB2YXIgcG9wdXBfYjhmYWViZTRjYWUxNGJkMDlhYWVlOTRkMmViNmYyMjkgPSBMLnBvcHVwKHsibWF4V2lkdGgiOiAiMTAwJSJ9KTsKCiAgICAgICAgCiAgICAgICAgICAgIHZhciBodG1sXzI0ZmM5YWY4ZTRhZjQ5NjdhNTdhMTVmNDQxY2E3NDdhID0gJChgPGRpdiBpZD0iaHRtbF8yNGZjOWFmOGU0YWY0OTY3YTU3YTE1ZjQ0MWNhNzQ3YSIgc3R5bGU9IndpZHRoOiAxMDAuMCU7IGhlaWdodDogMTAwLjAlOyI+U3QuIEphbWVzIFRvd24gQ2x1c3RlciAwPC9kaXY+YClbMF07CiAgICAgICAgICAgIHBvcHVwX2I4ZmFlYmU0Y2FlMTRiZDA5YWFlZTk0ZDJlYjZmMjI5LnNldENvbnRlbnQoaHRtbF8yNGZjOWFmOGU0YWY0OTY3YTU3YTE1ZjQ0MWNhNzQ3YSk7CiAgICAgICAgCgogICAgICAgIGNpcmNsZV9tYXJrZXJfZjAxYmQ5NTI3NzVlNDBmYTgxNWMxZDBiYmEyZWU2NmUuYmluZFBvcHVwKHBvcHVwX2I4ZmFlYmU0Y2FlMTRiZDA5YWFlZTk0ZDJlYjZmMjI5KQogICAgICAgIDsKCiAgICAgICAgCiAgICAKICAgIAogICAgICAgICAgICB2YXIgY2lyY2xlX21hcmtlcl81NGNhYzIyMTUxOTE0Yzg4OWRhOGMwMjQ4MjZmOGQ5YyA9IEwuY2lyY2xlTWFya2VyKAogICAgICAgICAgICAgICAgWzQzLjY0NDc3MDc5OTk5OTk5NiwgLTc5LjM3MzMwNjRdLAogICAgICAgICAgICAgICAgeyJidWJibGluZ01vdXNlRXZlbnRzIjogdHJ1ZSwgImNvbG9yIjogIiNmZjAwMDAiLCAiZGFzaEFycmF5IjogbnVsbCwgImRhc2hPZmZzZXQiOiBudWxsLCAiZmlsbCI6IHRydWUsICJmaWxsQ29sb3IiOiAiI2ZmMDAwMCIsICJmaWxsT3BhY2l0eSI6IDAuNywgImZpbGxSdWxlIjogImV2ZW5vZGQiLCAibGluZUNhcCI6ICJyb3VuZCIsICJsaW5lSm9pbiI6ICJyb3VuZCIsICJvcGFjaXR5IjogMS4wLCAicmFkaXVzIjogNSwgInN0cm9rZSI6IHRydWUsICJ3ZWlnaHQiOiAzfQogICAgICAgICAgICApLmFkZFRvKG1hcF8yY2MxODQzMzFlNTQ0YzAyODM4Y2QzYzYxYmQxZTI2OCk7CiAgICAgICAgCiAgICAKICAgICAgICB2YXIgcG9wdXBfYzFkNTVjNzhiOTJmNGViOWFkOWY3M2I3OTY0ZmQ5YTggPSBMLnBvcHVwKHsibWF4V2lkdGgiOiAiMTAwJSJ9KTsKCiAgICAgICAgCiAgICAgICAgICAgIHZhciBodG1sXzkwNWU3OGNhMzgyNDRmZGFiMmE2N2ViY2U4MDYyYzIwID0gJChgPGRpdiBpZD0iaHRtbF85MDVlNzhjYTM4MjQ0ZmRhYjJhNjdlYmNlODA2MmMyMCIgc3R5bGU9IndpZHRoOiAxMDAuMCU7IGhlaWdodDogMTAwLjAlOyI+QmVyY3p5IFBhcmsgQ2x1c3RlciAwPC9kaXY+YClbMF07CiAgICAgICAgICAgIHBvcHVwX2MxZDU1Yzc4YjkyZjRlYjlhZDlmNzNiNzk2NGZkOWE4LnNldENvbnRlbnQoaHRtbF85MDVlNzhjYTM4MjQ0ZmRhYjJhNjdlYmNlODA2MmMyMCk7CiAgICAgICAgCgogICAgICAgIGNpcmNsZV9tYXJrZXJfNTRjYWMyMjE1MTkxNGM4ODlkYThjMDI0ODI2ZjhkOWMuYmluZFBvcHVwKHBvcHVwX2MxZDU1Yzc4YjkyZjRlYjlhZDlmNzNiNzk2NGZkOWE4KQogICAgICAgIDsKCiAgICAgICAgCiAgICAKICAgIAogICAgICAgICAgICB2YXIgY2lyY2xlX21hcmtlcl9hMDhiZWM2MDUzNTI0MjllYjU5MzczMGNmMTM2ZDE2NSA9IEwuY2lyY2xlTWFya2VyKAogICAgICAgICAgICAgICAgWzQzLjY1Nzk1MjQsIC03OS4zODczODI2XSwKICAgICAgICAgICAgICAgIHsiYnViYmxpbmdNb3VzZUV2ZW50cyI6IHRydWUsICJjb2xvciI6ICIjZmYwMDAwIiwgImRhc2hBcnJheSI6IG51bGwsICJkYXNoT2Zmc2V0IjogbnVsbCwgImZpbGwiOiB0cnVlLCAiZmlsbENvbG9yIjogIiNmZjAwMDAiLCAiZmlsbE9wYWNpdHkiOiAwLjcsICJmaWxsUnVsZSI6ICJldmVub2RkIiwgImxpbmVDYXAiOiAicm91bmQiLCAibGluZUpvaW4iOiAicm91bmQiLCAib3BhY2l0eSI6IDEuMCwgInJhZGl1cyI6IDUsICJzdHJva2UiOiB0cnVlLCAid2VpZ2h0IjogM30KICAgICAgICAgICAgKS5hZGRUbyhtYXBfMmNjMTg0MzMxZTU0NGMwMjgzOGNkM2M2MWJkMWUyNjgpOwogICAgICAgIAogICAgCiAgICAgICAgdmFyIHBvcHVwXzk4NTBiMDJmNjA2OTRmYzc5ZTc1ZjdjNjAwMTFjNzUwID0gTC5wb3B1cCh7Im1heFdpZHRoIjogIjEwMCUifSk7CgogICAgICAgIAogICAgICAgICAgICB2YXIgaHRtbF8wOGIzMDNiMjZkNGM0OTEyOGM5MDA2YTNkNmJiNTRlZCA9ICQoYDxkaXYgaWQ9Imh0bWxfMDhiMzAzYjI2ZDRjNDkxMjhjOTAwNmEzZDZiYjU0ZWQiIHN0eWxlPSJ3aWR0aDogMTAwLjAlOyBoZWlnaHQ6IDEwMC4wJTsiPkNlbnRyYWwgQmF5IFN0cmVldCBDbHVzdGVyIDA8L2Rpdj5gKVswXTsKICAgICAgICAgICAgcG9wdXBfOTg1MGIwMmY2MDY5NGZjNzllNzVmN2M2MDAxMWM3NTAuc2V0Q29udGVudChodG1sXzA4YjMwM2IyNmQ0YzQ5MTI4YzkwMDZhM2Q2YmI1NGVkKTsKICAgICAgICAKCiAgICAgICAgY2lyY2xlX21hcmtlcl9hMDhiZWM2MDUzNTI0MjllYjU5MzczMGNmMTM2ZDE2NS5iaW5kUG9wdXAocG9wdXBfOTg1MGIwMmY2MDY5NGZjNzllNzVmN2M2MDAxMWM3NTApCiAgICAgICAgOwoKICAgICAgICAKICAgIAogICAgCiAgICAgICAgICAgIHZhciBjaXJjbGVfbWFya2VyXzA0MDI1YzE5NWM3MTRlZDdiOTAzNjZmZWYzNWE4NjU2ID0gTC5jaXJjbGVNYXJrZXIoCiAgICAgICAgICAgICAgICBbNDMuNjY5NTQyLCAtNzkuNDIyNTYzN10sCiAgICAgICAgICAgICAgICB7ImJ1YmJsaW5nTW91c2VFdmVudHMiOiB0cnVlLCAiY29sb3IiOiAiI2IyZjM5NiIsICJkYXNoQXJyYXkiOiBudWxsLCAiZGFzaE9mZnNldCI6IG51bGwsICJmaWxsIjogdHJ1ZSwgImZpbGxDb2xvciI6ICIjYjJmMzk2IiwgImZpbGxPcGFjaXR5IjogMC43LCAiZmlsbFJ1bGUiOiAiZXZlbm9kZCIsICJsaW5lQ2FwIjogInJvdW5kIiwgImxpbmVKb2luIjogInJvdW5kIiwgIm9wYWNpdHkiOiAxLjAsICJyYWRpdXMiOiA1LCAic3Ryb2tlIjogdHJ1ZSwgIndlaWdodCI6IDN9CiAgICAgICAgICAgICkuYWRkVG8obWFwXzJjYzE4NDMzMWU1NDRjMDI4MzhjZDNjNjFiZDFlMjY4KTsKICAgICAgICAKICAgIAogICAgICAgIHZhciBwb3B1cF9jY2VhZWFhMzc0NGI0ZTJiODQ4Y2ViNGFmMmM4ODA1OCA9IEwucG9wdXAoeyJtYXhXaWR0aCI6ICIxMDAlIn0pOwoKICAgICAgICAKICAgICAgICAgICAgdmFyIGh0bWxfNDlkOWViNzYzYWI2NGE1YTg1NzVlYzI4ZGM3OTllNzMgPSAkKGA8ZGl2IGlkPSJodG1sXzQ5ZDllYjc2M2FiNjRhNWE4NTc1ZWMyOGRjNzk5ZTczIiBzdHlsZT0id2lkdGg6IDEwMC4wJTsgaGVpZ2h0OiAxMDAuMCU7Ij5DaHJpc3RpZSBDbHVzdGVyIDQ8L2Rpdj5gKVswXTsKICAgICAgICAgICAgcG9wdXBfY2NlYWVhYTM3NDRiNGUyYjg0OGNlYjRhZjJjODgwNTguc2V0Q29udGVudChodG1sXzQ5ZDllYjc2M2FiNjRhNWE4NTc1ZWMyOGRjNzk5ZTczKTsKICAgICAgICAKCiAgICAgICAgY2lyY2xlX21hcmtlcl8wNDAyNWMxOTVjNzE0ZWQ3YjkwMzY2ZmVmMzVhODY1Ni5iaW5kUG9wdXAocG9wdXBfY2NlYWVhYTM3NDRiNGUyYjg0OGNlYjRhZjJjODgwNTgpCiAgICAgICAgOwoKICAgICAgICAKICAgIAogICAgCiAgICAgICAgICAgIHZhciBjaXJjbGVfbWFya2VyX2RkMmQ5YWY1MTdkZDRiNDM5ZTkyNmY0NzJmZWUzYjg0ID0gTC5jaXJjbGVNYXJrZXIoCiAgICAgICAgICAgICAgICBbNDMuNjUwNTcxMjAwMDAwMDEsIC03OS4zODQ1Njc1XSwKICAgICAgICAgICAgICAgIHsiYnViYmxpbmdNb3VzZUV2ZW50cyI6IHRydWUsICJjb2xvciI6ICIjZmYwMDAwIiwgImRhc2hBcnJheSI6IG51bGwsICJkYXNoT2Zmc2V0IjogbnVsbCwgImZpbGwiOiB0cnVlLCAiZmlsbENvbG9yIjogIiNmZjAwMDAiLCAiZmlsbE9wYWNpdHkiOiAwLjcsICJmaWxsUnVsZSI6ICJldmVub2RkIiwgImxpbmVDYXAiOiAicm91bmQiLCAibGluZUpvaW4iOiAicm91bmQiLCAib3BhY2l0eSI6IDEuMCwgInJhZGl1cyI6IDUsICJzdHJva2UiOiB0cnVlLCAid2VpZ2h0IjogM30KICAgICAgICAgICAgKS5hZGRUbyhtYXBfMmNjMTg0MzMxZTU0NGMwMjgzOGNkM2M2MWJkMWUyNjgpOwogICAgICAgIAogICAgCiAgICAgICAgdmFyIHBvcHVwX2QwNzgzYmY3OTM0NTQxMmY5NWRmZTY5N2NlM2RjNDVkID0gTC5wb3B1cCh7Im1heFdpZHRoIjogIjEwMCUifSk7CgogICAgICAgIAogICAgICAgICAgICB2YXIgaHRtbF83OTUyNjA5ODk4OTk0YzQ2OGEzMGQ4MDlmYTEzYzVlOSA9ICQoYDxkaXYgaWQ9Imh0bWxfNzk1MjYwOTg5ODk5NGM0NjhhMzBkODA5ZmExM2M1ZTkiIHN0eWxlPSJ3aWR0aDogMTAwLjAlOyBoZWlnaHQ6IDEwMC4wJTsiPlJpY2htb25kLCBBZGVsYWlkZSwgS2luZyBDbHVzdGVyIDA8L2Rpdj5gKVswXTsKICAgICAgICAgICAgcG9wdXBfZDA3ODNiZjc5MzQ1NDEyZjk1ZGZlNjk3Y2UzZGM0NWQuc2V0Q29udGVudChodG1sXzc5NTI2MDk4OTg5OTRjNDY4YTMwZDgwOWZhMTNjNWU5KTsKICAgICAgICAKCiAgICAgICAgY2lyY2xlX21hcmtlcl9kZDJkOWFmNTE3ZGQ0YjQzOWU5MjZmNDcyZmVlM2I4NC5iaW5kUG9wdXAocG9wdXBfZDA3ODNiZjc5MzQ1NDEyZjk1ZGZlNjk3Y2UzZGM0NWQpCiAgICAgICAgOwoKICAgICAgICAKICAgIAogICAgCiAgICAgICAgICAgIHZhciBjaXJjbGVfbWFya2VyXzhlOTU0ZDUwNGQ0MTQwZjBiZTYwZGFmN2E3ZDdiMWM0ID0gTC5jaXJjbGVNYXJrZXIoCiAgICAgICAgICAgICAgICBbNDMuNjQwODE1NywgLTc5LjM4MTc1MjI5OTk5OTk5XSwKICAgICAgICAgICAgICAgIHsiYnViYmxpbmdNb3VzZUV2ZW50cyI6IHRydWUsICJjb2xvciI6ICIjZmYwMDAwIiwgImRhc2hBcnJheSI6IG51bGwsICJkYXNoT2Zmc2V0IjogbnVsbCwgImZpbGwiOiB0cnVlLCAiZmlsbENvbG9yIjogIiNmZjAwMDAiLCAiZmlsbE9wYWNpdHkiOiAwLjcsICJmaWxsUnVsZSI6ICJldmVub2RkIiwgImxpbmVDYXAiOiAicm91bmQiLCAibGluZUpvaW4iOiAicm91bmQiLCAib3BhY2l0eSI6IDEuMCwgInJhZGl1cyI6IDUsICJzdHJva2UiOiB0cnVlLCAid2VpZ2h0IjogM30KICAgICAgICAgICAgKS5hZGRUbyhtYXBfMmNjMTg0MzMxZTU0NGMwMjgzOGNkM2M2MWJkMWUyNjgpOwogICAgICAgIAogICAgCiAgICAgICAgdmFyIHBvcHVwX2JiNmNiYzhlYjY5NjQ0M2Q5YjFjNjFhMWRhZjc0NGIwID0gTC5wb3B1cCh7Im1heFdpZHRoIjogIjEwMCUifSk7CgogICAgICAgIAogICAgICAgICAgICB2YXIgaHRtbF83NTYyYWM2OTliMzk0ODVjODUwYTA4MGU5OGM5YTY5MSA9ICQoYDxkaXYgaWQ9Imh0bWxfNzU2MmFjNjk5YjM5NDg1Yzg1MGEwODBlOThjOWE2OTEiIHN0eWxlPSJ3aWR0aDogMTAwLjAlOyBoZWlnaHQ6IDEwMC4wJTsiPkhhcmJvdXJmcm9udCBFYXN0LCBVbmlvbiBTdGF0aW9uLCBUb3JvbnRvIElzbGFuZHMgQ2x1c3RlciAwPC9kaXY+YClbMF07CiAgICAgICAgICAgIHBvcHVwX2JiNmNiYzhlYjY5NjQ0M2Q5YjFjNjFhMWRhZjc0NGIwLnNldENvbnRlbnQoaHRtbF83NTYyYWM2OTliMzk0ODVjODUwYTA4MGU5OGM5YTY5MSk7CiAgICAgICAgCgogICAgICAgIGNpcmNsZV9tYXJrZXJfOGU5NTRkNTA0ZDQxNDBmMGJlNjBkYWY3YTdkN2IxYzQuYmluZFBvcHVwKHBvcHVwX2JiNmNiYzhlYjY5NjQ0M2Q5YjFjNjFhMWRhZjc0NGIwKQogICAgICAgIDsKCiAgICAgICAgCiAgICAKICAgIAogICAgICAgICAgICB2YXIgY2lyY2xlX21hcmtlcl8yZmJkNmVhOGY1YzM0ZTZkOTIyZjYyZjljNDU2MTM0NiA9IEwuY2lyY2xlTWFya2VyKAogICAgICAgICAgICAgICAgWzQzLjY0NzE3NjgsIC03OS4zODE1NzY0MDAwMDAwMV0sCiAgICAgICAgICAgICAgICB7ImJ1YmJsaW5nTW91c2VFdmVudHMiOiB0cnVlLCAiY29sb3IiOiAiI2ZmMDAwMCIsICJkYXNoQXJyYXkiOiBudWxsLCAiZGFzaE9mZnNldCI6IG51bGwsICJmaWxsIjogdHJ1ZSwgImZpbGxDb2xvciI6ICIjZmYwMDAwIiwgImZpbGxPcGFjaXR5IjogMC43LCAiZmlsbFJ1bGUiOiAiZXZlbm9kZCIsICJsaW5lQ2FwIjogInJvdW5kIiwgImxpbmVKb2luIjogInJvdW5kIiwgIm9wYWNpdHkiOiAxLjAsICJyYWRpdXMiOiA1LCAic3Ryb2tlIjogdHJ1ZSwgIndlaWdodCI6IDN9CiAgICAgICAgICAgICkuYWRkVG8obWFwXzJjYzE4NDMzMWU1NDRjMDI4MzhjZDNjNjFiZDFlMjY4KTsKICAgICAgICAKICAgIAogICAgICAgIHZhciBwb3B1cF80MDBhNzc0N2NmMjM0MDg3OGRkODc0NmViMTE5ZTQ2YiA9IEwucG9wdXAoeyJtYXhXaWR0aCI6ICIxMDAlIn0pOwoKICAgICAgICAKICAgICAgICAgICAgdmFyIGh0bWxfNWYxYTBkZjU2MTExNDk3Mjg4Mjg1NDlhZjkzNDYxNzEgPSAkKGA8ZGl2IGlkPSJodG1sXzVmMWEwZGY1NjExMTQ5NzI4ODI4NTQ5YWY5MzQ2MTcxIiBzdHlsZT0id2lkdGg6IDEwMC4wJTsgaGVpZ2h0OiAxMDAuMCU7Ij5Ub3JvbnRvIERvbWluaW9uIENlbnRyZSwgRGVzaWduIEV4Y2hhbmdlIENsdXN0ZXIgMDwvZGl2PmApWzBdOwogICAgICAgICAgICBwb3B1cF80MDBhNzc0N2NmMjM0MDg3OGRkODc0NmViMTE5ZTQ2Yi5zZXRDb250ZW50KGh0bWxfNWYxYTBkZjU2MTExNDk3Mjg4Mjg1NDlhZjkzNDYxNzEpOwogICAgICAgIAoKICAgICAgICBjaXJjbGVfbWFya2VyXzJmYmQ2ZWE4ZjVjMzRlNmQ5MjJmNjJmOWM0NTYxMzQ2LmJpbmRQb3B1cChwb3B1cF80MDBhNzc0N2NmMjM0MDg3OGRkODc0NmViMTE5ZTQ2YikKICAgICAgICA7CgogICAgICAgIAogICAgCiAgICAKICAgICAgICAgICAgdmFyIGNpcmNsZV9tYXJrZXJfMTQxMzIwMjczOTQzNDRiMjkxNmU5YjZjMGFjYWVjYzIgPSBMLmNpcmNsZU1hcmtlcigKICAgICAgICAgICAgICAgIFs0My42NDgxOTg1LCAtNzkuMzc5ODE2OTAwMDAwMDFdLAogICAgICAgICAgICAgICAgeyJidWJibGluZ01vdXNlRXZlbnRzIjogdHJ1ZSwgImNvbG9yIjogIiNmZjAwMDAiLCAiZGFzaEFycmF5IjogbnVsbCwgImRhc2hPZmZzZXQiOiBudWxsLCAiZmlsbCI6IHRydWUsICJmaWxsQ29sb3IiOiAiI2ZmMDAwMCIsICJmaWxsT3BhY2l0eSI6IDAuNywgImZpbGxSdWxlIjogImV2ZW5vZGQiLCAibGluZUNhcCI6ICJyb3VuZCIsICJsaW5lSm9pbiI6ICJyb3VuZCIsICJvcGFjaXR5IjogMS4wLCAicmFkaXVzIjogNSwgInN0cm9rZSI6IHRydWUsICJ3ZWlnaHQiOiAzfQogICAgICAgICAgICApLmFkZFRvKG1hcF8yY2MxODQzMzFlNTQ0YzAyODM4Y2QzYzYxYmQxZTI2OCk7CiAgICAgICAgCiAgICAKICAgICAgICB2YXIgcG9wdXBfMDBmOTA3NDdmNzVlNDE3MmFhYzgwMjBiYTM5ZTBhNjMgPSBMLnBvcHVwKHsibWF4V2lkdGgiOiAiMTAwJSJ9KTsKCiAgICAgICAgCiAgICAgICAgICAgIHZhciBodG1sXzNiZDE3NTEyNWYzZjQxMzRhZmI2YjM0MDMxMDA4ZmIwID0gJChgPGRpdiBpZD0iaHRtbF8zYmQxNzUxMjVmM2Y0MTM0YWZiNmIzNDAzMTAwOGZiMCIgc3R5bGU9IndpZHRoOiAxMDAuMCU7IGhlaWdodDogMTAwLjAlOyI+Q29tbWVyY2UgQ291cnQsIFZpY3RvcmlhIEhvdGVsIENsdXN0ZXIgMDwvZGl2PmApWzBdOwogICAgICAgICAgICBwb3B1cF8wMGY5MDc0N2Y3NWU0MTcyYWFjODAyMGJhMzllMGE2My5zZXRDb250ZW50KGh0bWxfM2JkMTc1MTI1ZjNmNDEzNGFmYjZiMzQwMzEwMDhmYjApOwogICAgICAgIAoKICAgICAgICBjaXJjbGVfbWFya2VyXzE0MTMyMDI3Mzk0MzQ0YjI5MTZlOWI2YzBhY2FlY2MyLmJpbmRQb3B1cChwb3B1cF8wMGY5MDc0N2Y3NWU0MTcyYWFjODAyMGJhMzllMGE2MykKICAgICAgICA7CgogICAgICAgIAogICAgCiAgICAKICAgICAgICAgICAgdmFyIGNpcmNsZV9tYXJrZXJfMWNiZTcwM2I2MmMxNDVkMGFjOWVmMzU1MTgwNTY4YjYgPSBMLmNpcmNsZU1hcmtlcigKICAgICAgICAgICAgICAgIFs0My42NjI2OTU2LCAtNzkuNDAwMDQ5M10sCiAgICAgICAgICAgICAgICB7ImJ1YmJsaW5nTW91c2VFdmVudHMiOiB0cnVlLCAiY29sb3IiOiAiIzE5OTZmMyIsICJkYXNoQXJyYXkiOiBudWxsLCAiZGFzaE9mZnNldCI6IG51bGwsICJmaWxsIjogdHJ1ZSwgImZpbGxDb2xvciI6ICIjMTk5NmYzIiwgImZpbGxPcGFjaXR5IjogMC43LCAiZmlsbFJ1bGUiOiAiZXZlbm9kZCIsICJsaW5lQ2FwIjogInJvdW5kIiwgImxpbmVKb2luIjogInJvdW5kIiwgIm9wYWNpdHkiOiAxLjAsICJyYWRpdXMiOiA1LCAic3Ryb2tlIjogdHJ1ZSwgIndlaWdodCI6IDN9CiAgICAgICAgICAgICkuYWRkVG8obWFwXzJjYzE4NDMzMWU1NDRjMDI4MzhjZDNjNjFiZDFlMjY4KTsKICAgICAgICAKICAgIAogICAgICAgIHZhciBwb3B1cF9jNmEyZWUzYTIwODA0ZjkzOTk5YjA4OWNjMzA0ZDY3NCA9IEwucG9wdXAoeyJtYXhXaWR0aCI6ICIxMDAlIn0pOwoKICAgICAgICAKICAgICAgICAgICAgdmFyIGh0bWxfMzE0N2IwNTMxYmY5NGE1Yzg3MmZjNTEyZTc2NmM5NTcgPSAkKGA8ZGl2IGlkPSJodG1sXzMxNDdiMDUzMWJmOTRhNWM4NzJmYzUxMmU3NjZjOTU3IiBzdHlsZT0id2lkdGg6IDEwMC4wJTsgaGVpZ2h0OiAxMDAuMCU7Ij5Vbml2ZXJzaXR5IG9mIFRvcm9udG8sIEhhcmJvcmQgQ2x1c3RlciAyPC9kaXY+YClbMF07CiAgICAgICAgICAgIHBvcHVwX2M2YTJlZTNhMjA4MDRmOTM5OTliMDg5Y2MzMDRkNjc0LnNldENvbnRlbnQoaHRtbF8zMTQ3YjA1MzFiZjk0YTVjODcyZmM1MTJlNzY2Yzk1Nyk7CiAgICAgICAgCgogICAgICAgIGNpcmNsZV9tYXJrZXJfMWNiZTcwM2I2MmMxNDVkMGFjOWVmMzU1MTgwNTY4YjYuYmluZFBvcHVwKHBvcHVwX2M2YTJlZTNhMjA4MDRmOTM5OTliMDg5Y2MzMDRkNjc0KQogICAgICAgIDsKCiAgICAgICAgCiAgICAKICAgIAogICAgICAgICAgICB2YXIgY2lyY2xlX21hcmtlcl8wNDdjMmZhMzYyNWY0ZjdmODkxZTBmYTMxNzNlMmQ0NCA9IEwuY2lyY2xlTWFya2VyKAogICAgICAgICAgICAgICAgWzQzLjY1MzIwNTcsIC03OS40MDAwNDkzXSwKICAgICAgICAgICAgICAgIHsiYnViYmxpbmdNb3VzZUV2ZW50cyI6IHRydWUsICJjb2xvciI6ICIjMTk5NmYzIiwgImRhc2hBcnJheSI6IG51bGwsICJkYXNoT2Zmc2V0IjogbnVsbCwgImZpbGwiOiB0cnVlLCAiZmlsbENvbG9yIjogIiMxOTk2ZjMiLCAiZmlsbE9wYWNpdHkiOiAwLjcsICJmaWxsUnVsZSI6ICJldmVub2RkIiwgImxpbmVDYXAiOiAicm91bmQiLCAibGluZUpvaW4iOiAicm91bmQiLCAib3BhY2l0eSI6IDEuMCwgInJhZGl1cyI6IDUsICJzdHJva2UiOiB0cnVlLCAid2VpZ2h0IjogM30KICAgICAgICAgICAgKS5hZGRUbyhtYXBfMmNjMTg0MzMxZTU0NGMwMjgzOGNkM2M2MWJkMWUyNjgpOwogICAgICAgIAogICAgCiAgICAgICAgdmFyIHBvcHVwX2E5ZTU5OGVmNjQzZTQ3YjA5ZjZhMmU2ZWQ4NmNiM2YwID0gTC5wb3B1cCh7Im1heFdpZHRoIjogIjEwMCUifSk7CgogICAgICAgIAogICAgICAgICAgICB2YXIgaHRtbF80ZTNjZjYyNTI5OTc0ZDE5OGJmNGQ1NTI1MzgxNzZmNiA9ICQoYDxkaXYgaWQ9Imh0bWxfNGUzY2Y2MjUyOTk3NGQxOThiZjRkNTUyNTM4MTc2ZjYiIHN0eWxlPSJ3aWR0aDogMTAwLjAlOyBoZWlnaHQ6IDEwMC4wJTsiPktlbnNpbmd0b24gTWFya2V0LCBDaGluYXRvd24sIEdyYW5nZSBQYXJrIENsdXN0ZXIgMjwvZGl2PmApWzBdOwogICAgICAgICAgICBwb3B1cF9hOWU1OThlZjY0M2U0N2IwOWY2YTJlNmVkODZjYjNmMC5zZXRDb250ZW50KGh0bWxfNGUzY2Y2MjUyOTk3NGQxOThiZjRkNTUyNTM4MTc2ZjYpOwogICAgICAgIAoKICAgICAgICBjaXJjbGVfbWFya2VyXzA0N2MyZmEzNjI1ZjRmN2Y4OTFlMGZhMzE3M2UyZDQ0LmJpbmRQb3B1cChwb3B1cF9hOWU1OThlZjY0M2U0N2IwOWY2YTJlNmVkODZjYjNmMCkKICAgICAgICA7CgogICAgICAgIAogICAgCiAgICAKICAgICAgICAgICAgdmFyIGNpcmNsZV9tYXJrZXJfNGZjMzk0NWU5ODhhNDM2ODk3ODY1OTlhMWI2YmNjMmUgPSBMLmNpcmNsZU1hcmtlcigKICAgICAgICAgICAgICAgIFs0My42Mjg5NDY3LCAtNzkuMzk0NDE5OV0sCiAgICAgICAgICAgICAgICB7ImJ1YmJsaW5nTW91c2VFdmVudHMiOiB0cnVlLCAiY29sb3IiOiAiI2ZmOTY0ZiIsICJkYXNoQXJyYXkiOiBudWxsLCAiZGFzaE9mZnNldCI6IG51bGwsICJmaWxsIjogdHJ1ZSwgImZpbGxDb2xvciI6ICIjZmY5NjRmIiwgImZpbGxPcGFjaXR5IjogMC43LCAiZmlsbFJ1bGUiOiAiZXZlbm9kZCIsICJsaW5lQ2FwIjogInJvdW5kIiwgImxpbmVKb2luIjogInJvdW5kIiwgIm9wYWNpdHkiOiAxLjAsICJyYWRpdXMiOiA1LCAic3Ryb2tlIjogdHJ1ZSwgIndlaWdodCI6IDN9CiAgICAgICAgICAgICkuYWRkVG8obWFwXzJjYzE4NDMzMWU1NDRjMDI4MzhjZDNjNjFiZDFlMjY4KTsKICAgICAgICAKICAgIAogICAgICAgIHZhciBwb3B1cF8wZjNiMWZmYmEyYzM0ZmZlOGY3OGJjZGM4MGYwMmYwOSA9IEwucG9wdXAoeyJtYXhXaWR0aCI6ICIxMDAlIn0pOwoKICAgICAgICAKICAgICAgICAgICAgdmFyIGh0bWxfYTNmY2ViNGIzNDM0NDkzMWIzOGJjOWQxYWZmZWU4ODQgPSAkKGA8ZGl2IGlkPSJodG1sX2EzZmNlYjRiMzQzNDQ5MzFiMzhiYzlkMWFmZmVlODg0IiBzdHlsZT0id2lkdGg6IDEwMC4wJTsgaGVpZ2h0OiAxMDAuMCU7Ij5DTiBUb3dlciwgS2luZyBhbmQgU3BhZGluYSwgUmFpbHdheSBMYW5kcywgSGFyYm91cmZyb250IFdlc3QsIEJhdGh1cnN0IFF1YXksIFNvdXRoIE5pYWdhcmEsIElzbGFuZCBhaXJwb3J0IENsdXN0ZXIgNTwvZGl2PmApWzBdOwogICAgICAgICAgICBwb3B1cF8wZjNiMWZmYmEyYzM0ZmZlOGY3OGJjZGM4MGYwMmYwOS5zZXRDb250ZW50KGh0bWxfYTNmY2ViNGIzNDM0NDkzMWIzOGJjOWQxYWZmZWU4ODQpOwogICAgICAgIAoKICAgICAgICBjaXJjbGVfbWFya2VyXzRmYzM5NDVlOTg4YTQzNjg5Nzg2NTk5YTFiNmJjYzJlLmJpbmRQb3B1cChwb3B1cF8wZjNiMWZmYmEyYzM0ZmZlOGY3OGJjZGM4MGYwMmYwOSkKICAgICAgICA7CgogICAgICAgIAogICAgCiAgICAKICAgICAgICAgICAgdmFyIGNpcmNsZV9tYXJrZXJfNDM3NjMwOGVkNjQ4NDNjMzk1NTE4YWEwY2Q2ZDg0YTEgPSBMLmNpcmNsZU1hcmtlcigKICAgICAgICAgICAgICAgIFs0My42Nzk1NjI2LCAtNzkuMzc3NTI5NDAwMDAwMDFdLAogICAgICAgICAgICAgICAgeyJidWJibGluZ01vdXNlRXZlbnRzIjogdHJ1ZSwgImNvbG9yIjogIiM0ZGYzY2UiLCAiZGFzaEFycmF5IjogbnVsbCwgImRhc2hPZmZzZXQiOiBudWxsLCAiZmlsbCI6IHRydWUsICJmaWxsQ29sb3IiOiAiIzRkZjNjZSIsICJmaWxsT3BhY2l0eSI6IDAuNywgImZpbGxSdWxlIjogImV2ZW5vZGQiLCAibGluZUNhcCI6ICJyb3VuZCIsICJsaW5lSm9pbiI6ICJyb3VuZCIsICJvcGFjaXR5IjogMS4wLCAicmFkaXVzIjogNSwgInN0cm9rZSI6IHRydWUsICJ3ZWlnaHQiOiAzfQogICAgICAgICAgICApLmFkZFRvKG1hcF8yY2MxODQzMzFlNTQ0YzAyODM4Y2QzYzYxYmQxZTI2OCk7CiAgICAgICAgCiAgICAKICAgICAgICB2YXIgcG9wdXBfY2ExNjA0ZDMwNWY5NDRjYWI3YWJkMjJlNWFlNGU3Y2UgPSBMLnBvcHVwKHsibWF4V2lkdGgiOiAiMTAwJSJ9KTsKCiAgICAgICAgCiAgICAgICAgICAgIHZhciBodG1sXzBmNWMyMzljYTliNDRmMGJhNjA4OTUyMzM3Y2EzZmQ4ID0gJChgPGRpdiBpZD0iaHRtbF8wZjVjMjM5Y2E5YjQ0ZjBiYTYwODk1MjMzN2NhM2ZkOCIgc3R5bGU9IndpZHRoOiAxMDAuMCU7IGhlaWdodDogMTAwLjAlOyI+Um9zZWRhbGUgQ2x1c3RlciAzPC9kaXY+YClbMF07CiAgICAgICAgICAgIHBvcHVwX2NhMTYwNGQzMDVmOTQ0Y2FiN2FiZDIyZTVhZTRlN2NlLnNldENvbnRlbnQoaHRtbF8wZjVjMjM5Y2E5YjQ0ZjBiYTYwODk1MjMzN2NhM2ZkOCk7CiAgICAgICAgCgogICAgICAgIGNpcmNsZV9tYXJrZXJfNDM3NjMwOGVkNjQ4NDNjMzk1NTE4YWEwY2Q2ZDg0YTEuYmluZFBvcHVwKHBvcHVwX2NhMTYwNGQzMDVmOTQ0Y2FiN2FiZDIyZTVhZTRlN2NlKQogICAgICAgIDsKCiAgICAgICAgCiAgICAKICAgIAogICAgICAgICAgICB2YXIgY2lyY2xlX21hcmtlcl9kYThjY2U1MWU5M2U0OTk3OGMyNWU4Nzk0ZjQ1YjlmNCA9IEwuY2lyY2xlTWFya2VyKAogICAgICAgICAgICAgICAgWzQzLjY2Nzk2NywgLTc5LjM2NzY3NTNdLAogICAgICAgICAgICAgICAgeyJidWJibGluZ01vdXNlRXZlbnRzIjogdHJ1ZSwgImNvbG9yIjogIiM4MDAwZmYiLCAiZGFzaEFycmF5IjogbnVsbCwgImRhc2hPZmZzZXQiOiBudWxsLCAiZmlsbCI6IHRydWUsICJmaWxsQ29sb3IiOiAiIzgwMDBmZiIsICJmaWxsT3BhY2l0eSI6IDAuNywgImZpbGxSdWxlIjogImV2ZW5vZGQiLCAibGluZUNhcCI6ICJyb3VuZCIsICJsaW5lSm9pbiI6ICJyb3VuZCIsICJvcGFjaXR5IjogMS4wLCAicmFkaXVzIjogNSwgInN0cm9rZSI6IHRydWUsICJ3ZWlnaHQiOiAzfQogICAgICAgICAgICApLmFkZFRvKG1hcF8yY2MxODQzMzFlNTQ0YzAyODM4Y2QzYzYxYmQxZTI2OCk7CiAgICAgICAgCiAgICAKICAgICAgICB2YXIgcG9wdXBfMTIwNmQ3NTlmMGY5NGRjNTk5ODMzNTRlMzMzOTFiZmIgPSBMLnBvcHVwKHsibWF4V2lkdGgiOiAiMTAwJSJ9KTsKCiAgICAgICAgCiAgICAgICAgICAgIHZhciBodG1sX2RjNzQzNWRiMThjZDQ3Mzk4YWQ5NjVjZjBjZjExNDU3ID0gJChgPGRpdiBpZD0iaHRtbF9kYzc0MzVkYjE4Y2Q0NzM5OGFkOTY1Y2YwY2YxMTQ1NyIgc3R5bGU9IndpZHRoOiAxMDAuMCU7IGhlaWdodDogMTAwLjAlOyI+U3QuIEphbWVzIFRvd24sIENhYmJhZ2V0b3duIENsdXN0ZXIgMTwvZGl2PmApWzBdOwogICAgICAgICAgICBwb3B1cF8xMjA2ZDc1OWYwZjk0ZGM1OTk4MzM1NGUzMzM5MWJmYi5zZXRDb250ZW50KGh0bWxfZGM3NDM1ZGIxOGNkNDczOThhZDk2NWNmMGNmMTE0NTcpOwogICAgICAgIAoKICAgICAgICBjaXJjbGVfbWFya2VyX2RhOGNjZTUxZTkzZTQ5OTc4YzI1ZTg3OTRmNDViOWY0LmJpbmRQb3B1cChwb3B1cF8xMjA2ZDc1OWYwZjk0ZGM1OTk4MzM1NGUzMzM5MWJmYikKICAgICAgICA7CgogICAgICAgIAogICAgCiAgICAKICAgICAgICAgICAgdmFyIGNpcmNsZV9tYXJrZXJfMzdjOWVjMjNmNjE0NGM2NTg2NWJhNTgxN2NiMjY4MDMgPSBMLmNpcmNsZU1hcmtlcigKICAgICAgICAgICAgICAgIFs0My42NDg0MjkyLCAtNzkuMzgyMjgwMl0sCiAgICAgICAgICAgICAgICB7ImJ1YmJsaW5nTW91c2VFdmVudHMiOiB0cnVlLCAiY29sb3IiOiAiI2ZmMDAwMCIsICJkYXNoQXJyYXkiOiBudWxsLCAiZGFzaE9mZnNldCI6IG51bGwsICJmaWxsIjogdHJ1ZSwgImZpbGxDb2xvciI6ICIjZmYwMDAwIiwgImZpbGxPcGFjaXR5IjogMC43LCAiZmlsbFJ1bGUiOiAiZXZlbm9kZCIsICJsaW5lQ2FwIjogInJvdW5kIiwgImxpbmVKb2luIjogInJvdW5kIiwgIm9wYWNpdHkiOiAxLjAsICJyYWRpdXMiOiA1LCAic3Ryb2tlIjogdHJ1ZSwgIndlaWdodCI6IDN9CiAgICAgICAgICAgICkuYWRkVG8obWFwXzJjYzE4NDMzMWU1NDRjMDI4MzhjZDNjNjFiZDFlMjY4KTsKICAgICAgICAKICAgIAogICAgICAgIHZhciBwb3B1cF83MzAxY2M1MjgwMTY0NjBjYTFiNzYxZTVkNjBmNzdmOCA9IEwucG9wdXAoeyJtYXhXaWR0aCI6ICIxMDAlIn0pOwoKICAgICAgICAKICAgICAgICAgICAgdmFyIGh0bWxfZjdjNjNjZjFhMWE0NGU5ODljNGI0Zjk4M2Q3ZGZkZDYgPSAkKGA8ZGl2IGlkPSJodG1sX2Y3YzYzY2YxYTFhNDRlOTg5YzRiNGY5ODNkN2RmZGQ2IiBzdHlsZT0id2lkdGg6IDEwMC4wJTsgaGVpZ2h0OiAxMDAuMCU7Ij5GaXJzdCBDYW5hZGlhbiBQbGFjZSwgVW5kZXJncm91bmQgY2l0eSBDbHVzdGVyIDA8L2Rpdj5gKVswXTsKICAgICAgICAgICAgcG9wdXBfNzMwMWNjNTI4MDE2NDYwY2ExYjc2MWU1ZDYwZjc3Zjguc2V0Q29udGVudChodG1sX2Y3YzYzY2YxYTFhNDRlOTg5YzRiNGY5ODNkN2RmZGQ2KTsKICAgICAgICAKCiAgICAgICAgY2lyY2xlX21hcmtlcl8zN2M5ZWMyM2Y2MTQ0YzY1ODY1YmE1ODE3Y2IyNjgwMy5iaW5kUG9wdXAocG9wdXBfNzMwMWNjNTI4MDE2NDYwY2ExYjc2MWU1ZDYwZjc3ZjgpCiAgICAgICAgOwoKICAgICAgICAKICAgIAogICAgCiAgICAgICAgICAgIHZhciBjaXJjbGVfbWFya2VyX2IyNTY2MGFkOGU1NjQyMmE4MjkyYjI4ODNkZGU1YWNiID0gTC5jaXJjbGVNYXJrZXIoCiAgICAgICAgICAgICAgICBbNDMuNjY1ODU5OSwgLTc5LjM4MzE1OTkwMDAwMDAxXSwKICAgICAgICAgICAgICAgIHsiYnViYmxpbmdNb3VzZUV2ZW50cyI6IHRydWUsICJjb2xvciI6ICIjNGRmM2NlIiwgImRhc2hBcnJheSI6IG51bGwsICJkYXNoT2Zmc2V0IjogbnVsbCwgImZpbGwiOiB0cnVlLCAiZmlsbENvbG9yIjogIiM0ZGYzY2UiLCAiZmlsbE9wYWNpdHkiOiAwLjcsICJmaWxsUnVsZSI6ICJldmVub2RkIiwgImxpbmVDYXAiOiAicm91bmQiLCAibGluZUpvaW4iOiAicm91bmQiLCAib3BhY2l0eSI6IDEuMCwgInJhZGl1cyI6IDUsICJzdHJva2UiOiB0cnVlLCAid2VpZ2h0IjogM30KICAgICAgICAgICAgKS5hZGRUbyhtYXBfMmNjMTg0MzMxZTU0NGMwMjgzOGNkM2M2MWJkMWUyNjgpOwogICAgICAgIAogICAgCiAgICAgICAgdmFyIHBvcHVwXzIwYmZhNGFkZjgyYTQ4ZTg4OTEwYzFlMmYwNmMxNjNkID0gTC5wb3B1cCh7Im1heFdpZHRoIjogIjEwMCUifSk7CgogICAgICAgIAogICAgICAgICAgICB2YXIgaHRtbF8xYWUwZTQ3M2EzYmU0NzlmYWQwZDg2NDMwNzBiZDJmMiA9ICQoYDxkaXYgaWQ9Imh0bWxfMWFlMGU0NzNhM2JlNDc5ZmFkMGQ4NjQzMDcwYmQyZjIiIHN0eWxlPSJ3aWR0aDogMTAwLjAlOyBoZWlnaHQ6IDEwMC4wJTsiPkNodXJjaCBhbmQgV2VsbGVzbGV5IENsdXN0ZXIgMzwvZGl2PmApWzBdOwogICAgICAgICAgICBwb3B1cF8yMGJmYTRhZGY4MmE0OGU4ODkxMGMxZTJmMDZjMTYzZC5zZXRDb250ZW50KGh0bWxfMWFlMGU0NzNhM2JlNDc5ZmFkMGQ4NjQzMDcwYmQyZjIpOwogICAgICAgIAoKICAgICAgICBjaXJjbGVfbWFya2VyX2IyNTY2MGFkOGU1NjQyMmE4MjkyYjI4ODNkZGU1YWNiLmJpbmRQb3B1cChwb3B1cF8yMGJmYTRhZGY4MmE0OGU4ODkxMGMxZTJmMDZjMTYzZCkKICAgICAgICA7CgogICAgICAgIAogICAgCjwvc2NyaXB0Pg== onload=\"this.contentDocument.open();this.contentDocument.write(atob(this.getAttribute('data-html')));this.contentDocument.close();\" allowfullscreen webkitallowfullscreen mozallowfullscreen></iframe></div></div>",
                        "text/plain": "<folium.folium.Map at 0x1ef00fd4978>"
                    },
                    "execution_count": 171,
                    "metadata": {},
                    "output_type": "execute_result"
                }
            ],
            "source": "import folium\n# Matplotlib and associated plotting modules\nimport matplotlib.cm as cm\nimport matplotlib.colors as colors\n\n# create map\nmap_clusters = folium.Map(location=[latitude, longitude], zoom_start=11)\n\n# set color scheme for the clusters\nx = np.arange(kclusters)\nys = [i + x + (i*x)**2 for i in range(kclusters)]\ncolors_array = cm.rainbow(np.linspace(0, 1, len(ys)))\nrainbow = [colors.rgb2hex(i) for i in colors_array]\n\n# add markers to the map\nmarkers_colors = []\nfor lat, lon, poi, cluster in zip(Toronto_data['Latitude'], Toronto_data['Longitude'], Toronto_data['Neighborhoods'], Toronto_data['Cluster Labels']):\n    label = folium.Popup(str(poi) + ' Cluster ' + str(cluster), parse_html=True)\n    folium.CircleMarker(\n        [lat, lon],\n        radius=5,\n        popup=label,\n        color=rainbow[cluster-1],\n        fill=True,\n        fill_color=rainbow[cluster-1],\n        fill_opacity=0.7).add_to(map_clusters)\n       \nmap_clusters"
        },
        {
            "cell_type": "markdown",
            "metadata": {},
            "source": "# 5. Examine Clusters"
        },
        {
            "cell_type": "markdown",
            "metadata": {},
            "source": "#### Cluster 1"
        },
        {
            "cell_type": "code",
            "execution_count": 172,
            "metadata": {},
            "outputs": [
                {
                    "data": {
                        "text/html": "<div>\n<style scoped>\n    .dataframe tbody tr th:only-of-type {\n        vertical-align: middle;\n    }\n\n    .dataframe tbody tr th {\n        vertical-align: top;\n    }\n\n    .dataframe thead th {\n        text-align: right;\n    }\n</style>\n<table border=\"1\" class=\"dataframe\">\n  <thead>\n    <tr style=\"text-align: right;\">\n      <th></th>\n      <th>Cluster Labels</th>\n      <th>PostalCode</th>\n      <th>Borough</th>\n      <th>Neighborhoods</th>\n      <th>Latitude</th>\n      <th>Longitude</th>\n    </tr>\n  </thead>\n  <tbody>\n    <tr>\n      <th>9</th>\n      <td>0</td>\n      <td>M5B</td>\n      <td>Downtown Toronto</td>\n      <td>Garden District, Ryerson</td>\n      <td>43.657162</td>\n      <td>-79.378937</td>\n    </tr>\n    <tr>\n      <th>15</th>\n      <td>0</td>\n      <td>M5C</td>\n      <td>Downtown Toronto</td>\n      <td>St. James Town</td>\n      <td>43.651494</td>\n      <td>-79.375418</td>\n    </tr>\n    <tr>\n      <th>20</th>\n      <td>0</td>\n      <td>M5E</td>\n      <td>Downtown Toronto</td>\n      <td>Berczy Park</td>\n      <td>43.644771</td>\n      <td>-79.373306</td>\n    </tr>\n    <tr>\n      <th>24</th>\n      <td>0</td>\n      <td>M5G</td>\n      <td>Downtown Toronto</td>\n      <td>Central Bay Street</td>\n      <td>43.657952</td>\n      <td>-79.387383</td>\n    </tr>\n    <tr>\n      <th>30</th>\n      <td>0</td>\n      <td>M5H</td>\n      <td>Downtown Toronto</td>\n      <td>Richmond, Adelaide, King</td>\n      <td>43.650571</td>\n      <td>-79.384568</td>\n    </tr>\n    <tr>\n      <th>36</th>\n      <td>0</td>\n      <td>M5J</td>\n      <td>Downtown Toronto</td>\n      <td>Harbourfront East, Union Station, Toronto Islands</td>\n      <td>43.640816</td>\n      <td>-79.381752</td>\n    </tr>\n    <tr>\n      <th>42</th>\n      <td>0</td>\n      <td>M5K</td>\n      <td>Downtown Toronto</td>\n      <td>Toronto Dominion Centre, Design Exchange</td>\n      <td>43.647177</td>\n      <td>-79.381576</td>\n    </tr>\n    <tr>\n      <th>48</th>\n      <td>0</td>\n      <td>M5L</td>\n      <td>Downtown Toronto</td>\n      <td>Commerce Court, Victoria Hotel</td>\n      <td>43.648198</td>\n      <td>-79.379817</td>\n    </tr>\n    <tr>\n      <th>97</th>\n      <td>0</td>\n      <td>M5X</td>\n      <td>Downtown Toronto</td>\n      <td>First Canadian Place, Underground city</td>\n      <td>43.648429</td>\n      <td>-79.382280</td>\n    </tr>\n  </tbody>\n</table>\n</div>",
                        "text/plain": "    Cluster Labels PostalCode           Borough  \\\n9                0        M5B  Downtown Toronto   \n15               0        M5C  Downtown Toronto   \n20               0        M5E  Downtown Toronto   \n24               0        M5G  Downtown Toronto   \n30               0        M5H  Downtown Toronto   \n36               0        M5J  Downtown Toronto   \n42               0        M5K  Downtown Toronto   \n48               0        M5L  Downtown Toronto   \n97               0        M5X  Downtown Toronto   \n\n                                        Neighborhoods   Latitude  Longitude  \n9                            Garden District, Ryerson  43.657162 -79.378937  \n15                                     St. James Town  43.651494 -79.375418  \n20                                        Berczy Park  43.644771 -79.373306  \n24                                 Central Bay Street  43.657952 -79.387383  \n30                           Richmond, Adelaide, King  43.650571 -79.384568  \n36  Harbourfront East, Union Station, Toronto Islands  43.640816 -79.381752  \n42           Toronto Dominion Centre, Design Exchange  43.647177 -79.381576  \n48                     Commerce Court, Victoria Hotel  43.648198 -79.379817  \n97             First Canadian Place, Underground city  43.648429 -79.382280  "
                    },
                    "execution_count": 172,
                    "metadata": {},
                    "output_type": "execute_result"
                }
            ],
            "source": "Toronto_data.loc[Toronto_data['Cluster Labels']==0]"
        },
        {
            "cell_type": "markdown",
            "metadata": {},
            "source": "#### Cluster 2"
        },
        {
            "cell_type": "code",
            "execution_count": 173,
            "metadata": {},
            "outputs": [
                {
                    "data": {
                        "text/html": "<div>\n<style scoped>\n    .dataframe tbody tr th:only-of-type {\n        vertical-align: middle;\n    }\n\n    .dataframe tbody tr th {\n        vertical-align: top;\n    }\n\n    .dataframe thead th {\n        text-align: right;\n    }\n</style>\n<table border=\"1\" class=\"dataframe\">\n  <thead>\n    <tr style=\"text-align: right;\">\n      <th></th>\n      <th>Cluster Labels</th>\n      <th>PostalCode</th>\n      <th>Borough</th>\n      <th>Neighborhoods</th>\n      <th>Latitude</th>\n      <th>Longitude</th>\n    </tr>\n  </thead>\n  <tbody>\n    <tr>\n      <th>2</th>\n      <td>1</td>\n      <td>M5A</td>\n      <td>Downtown Toronto</td>\n      <td>Regent Park, Harbourfront</td>\n      <td>43.654260</td>\n      <td>-79.360636</td>\n    </tr>\n    <tr>\n      <th>96</th>\n      <td>1</td>\n      <td>M4X</td>\n      <td>Downtown Toronto</td>\n      <td>St. James Town, Cabbagetown</td>\n      <td>43.667967</td>\n      <td>-79.367675</td>\n    </tr>\n  </tbody>\n</table>\n</div>",
                        "text/plain": "    Cluster Labels PostalCode           Borough                Neighborhoods  \\\n2                1        M5A  Downtown Toronto    Regent Park, Harbourfront   \n96               1        M4X  Downtown Toronto  St. James Town, Cabbagetown   \n\n     Latitude  Longitude  \n2   43.654260 -79.360636  \n96  43.667967 -79.367675  "
                    },
                    "execution_count": 173,
                    "metadata": {},
                    "output_type": "execute_result"
                }
            ],
            "source": "Toronto_data.loc[Toronto_data['Cluster Labels']==1]"
        },
        {
            "cell_type": "markdown",
            "metadata": {},
            "source": "Cluster 3"
        },
        {
            "cell_type": "code",
            "execution_count": 174,
            "metadata": {},
            "outputs": [
                {
                    "data": {
                        "text/html": "<div>\n<style scoped>\n    .dataframe tbody tr th:only-of-type {\n        vertical-align: middle;\n    }\n\n    .dataframe tbody tr th {\n        vertical-align: top;\n    }\n\n    .dataframe thead th {\n        text-align: right;\n    }\n</style>\n<table border=\"1\" class=\"dataframe\">\n  <thead>\n    <tr style=\"text-align: right;\">\n      <th></th>\n      <th>Cluster Labels</th>\n      <th>PostalCode</th>\n      <th>Borough</th>\n      <th>Neighborhoods</th>\n      <th>Latitude</th>\n      <th>Longitude</th>\n    </tr>\n  </thead>\n  <tbody>\n    <tr>\n      <th>80</th>\n      <td>2</td>\n      <td>M5S</td>\n      <td>Downtown Toronto</td>\n      <td>University of Toronto, Harbord</td>\n      <td>43.662696</td>\n      <td>-79.400049</td>\n    </tr>\n    <tr>\n      <th>84</th>\n      <td>2</td>\n      <td>M5T</td>\n      <td>Downtown Toronto</td>\n      <td>Kensington Market, Chinatown, Grange Park</td>\n      <td>43.653206</td>\n      <td>-79.400049</td>\n    </tr>\n  </tbody>\n</table>\n</div>",
                        "text/plain": "    Cluster Labels PostalCode           Borough  \\\n80               2        M5S  Downtown Toronto   \n84               2        M5T  Downtown Toronto   \n\n                                Neighborhoods   Latitude  Longitude  \n80             University of Toronto, Harbord  43.662696 -79.400049  \n84  Kensington Market, Chinatown, Grange Park  43.653206 -79.400049  "
                    },
                    "execution_count": 174,
                    "metadata": {},
                    "output_type": "execute_result"
                }
            ],
            "source": "Toronto_data.loc[Toronto_data['Cluster Labels']==2]"
        },
        {
            "cell_type": "markdown",
            "metadata": {},
            "source": "Cluster 4"
        },
        {
            "cell_type": "code",
            "execution_count": 175,
            "metadata": {},
            "outputs": [
                {
                    "data": {
                        "text/html": "<div>\n<style scoped>\n    .dataframe tbody tr th:only-of-type {\n        vertical-align: middle;\n    }\n\n    .dataframe tbody tr th {\n        vertical-align: top;\n    }\n\n    .dataframe thead th {\n        text-align: right;\n    }\n</style>\n<table border=\"1\" class=\"dataframe\">\n  <thead>\n    <tr style=\"text-align: right;\">\n      <th></th>\n      <th>Cluster Labels</th>\n      <th>PostalCode</th>\n      <th>Borough</th>\n      <th>Neighborhoods</th>\n      <th>Latitude</th>\n      <th>Longitude</th>\n    </tr>\n  </thead>\n  <tbody>\n    <tr>\n      <th>91</th>\n      <td>3</td>\n      <td>M4W</td>\n      <td>Downtown Toronto</td>\n      <td>Rosedale</td>\n      <td>43.679563</td>\n      <td>-79.377529</td>\n    </tr>\n    <tr>\n      <th>99</th>\n      <td>3</td>\n      <td>M4Y</td>\n      <td>Downtown Toronto</td>\n      <td>Church and Wellesley</td>\n      <td>43.665860</td>\n      <td>-79.383160</td>\n    </tr>\n  </tbody>\n</table>\n</div>",
                        "text/plain": "    Cluster Labels PostalCode           Borough         Neighborhoods  \\\n91               3        M4W  Downtown Toronto              Rosedale   \n99               3        M4Y  Downtown Toronto  Church and Wellesley   \n\n     Latitude  Longitude  \n91  43.679563 -79.377529  \n99  43.665860 -79.383160  "
                    },
                    "execution_count": 175,
                    "metadata": {},
                    "output_type": "execute_result"
                }
            ],
            "source": "Toronto_data.loc[Toronto_data['Cluster Labels']==3]"
        },
        {
            "cell_type": "markdown",
            "metadata": {},
            "source": "Cluster 5"
        },
        {
            "cell_type": "code",
            "execution_count": 176,
            "metadata": {},
            "outputs": [
                {
                    "data": {
                        "text/html": "<div>\n<style scoped>\n    .dataframe tbody tr th:only-of-type {\n        vertical-align: middle;\n    }\n\n    .dataframe tbody tr th {\n        vertical-align: top;\n    }\n\n    .dataframe thead th {\n        text-align: right;\n    }\n</style>\n<table border=\"1\" class=\"dataframe\">\n  <thead>\n    <tr style=\"text-align: right;\">\n      <th></th>\n      <th>Cluster Labels</th>\n      <th>PostalCode</th>\n      <th>Borough</th>\n      <th>Neighborhoods</th>\n      <th>Latitude</th>\n      <th>Longitude</th>\n    </tr>\n  </thead>\n  <tbody>\n    <tr>\n      <th>25</th>\n      <td>4</td>\n      <td>M6G</td>\n      <td>Downtown Toronto</td>\n      <td>Christie</td>\n      <td>43.669542</td>\n      <td>-79.422564</td>\n    </tr>\n  </tbody>\n</table>\n</div>",
                        "text/plain": "    Cluster Labels PostalCode           Borough Neighborhoods   Latitude  \\\n25               4        M6G  Downtown Toronto      Christie  43.669542   \n\n    Longitude  \n25 -79.422564  "
                    },
                    "execution_count": 176,
                    "metadata": {},
                    "output_type": "execute_result"
                }
            ],
            "source": "Toronto_data.loc[Toronto_data['Cluster Labels']==4]"
        },
        {
            "cell_type": "markdown",
            "metadata": {},
            "source": "Cluster 6"
        },
        {
            "cell_type": "code",
            "execution_count": 177,
            "metadata": {},
            "outputs": [
                {
                    "data": {
                        "text/html": "<div>\n<style scoped>\n    .dataframe tbody tr th:only-of-type {\n        vertical-align: middle;\n    }\n\n    .dataframe tbody tr th {\n        vertical-align: top;\n    }\n\n    .dataframe thead th {\n        text-align: right;\n    }\n</style>\n<table border=\"1\" class=\"dataframe\">\n  <thead>\n    <tr style=\"text-align: right;\">\n      <th></th>\n      <th>Cluster Labels</th>\n      <th>PostalCode</th>\n      <th>Borough</th>\n      <th>Neighborhoods</th>\n      <th>Latitude</th>\n      <th>Longitude</th>\n    </tr>\n  </thead>\n  <tbody>\n    <tr>\n      <th>87</th>\n      <td>5</td>\n      <td>M5V</td>\n      <td>Downtown Toronto</td>\n      <td>CN Tower, King and Spadina, Railway Lands, Har...</td>\n      <td>43.628947</td>\n      <td>-79.39442</td>\n    </tr>\n  </tbody>\n</table>\n</div>",
                        "text/plain": "    Cluster Labels PostalCode           Borough  \\\n87               5        M5V  Downtown Toronto   \n\n                                        Neighborhoods   Latitude  Longitude  \n87  CN Tower, King and Spadina, Railway Lands, Har...  43.628947  -79.39442  "
                    },
                    "execution_count": 177,
                    "metadata": {},
                    "output_type": "execute_result"
                }
            ],
            "source": "Toronto_data.loc[Toronto_data['Cluster Labels']==5]"
        },
        {
            "cell_type": "code",
            "execution_count": null,
            "metadata": {},
            "outputs": [],
            "source": ""
        },
        {
            "cell_type": "code",
            "execution_count": null,
            "metadata": {},
            "outputs": [],
            "source": ""
        }
    ],
    "metadata": {
        "kernelspec": {
            "display_name": "Python 3",
            "language": "python",
            "name": "python3"
        },
        "language_info": {
            "codemirror_mode": {
                "name": "ipython",
                "version": 3
            },
            "file_extension": ".py",
            "mimetype": "text/x-python",
            "name": "python",
            "nbconvert_exporter": "python",
            "pygments_lexer": "ipython3",
            "version": "3.6.5"
        }
    },
    "nbformat": 4,
    "nbformat_minor": 4
}