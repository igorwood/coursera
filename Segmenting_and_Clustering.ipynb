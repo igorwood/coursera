{
    "cells": [
        {
            "metadata": {
                "collapsed": true
            },
            "cell_type": "markdown",
            "source": "# 1. Data Collection"
        },
        {
            "metadata": {},
            "cell_type": "code",
            "source": "from bs4 import BeautifulSoup\nimport requests\nimport pandas as pd\nimport numpy as np",
            "execution_count": 163,
            "outputs": []
        },
        {
            "metadata": {},
            "cell_type": "code",
            "source": "source = requests.get('https://en.wikipedia.org/wiki/List_of_postal_codes_of_Canada:_M').text\nsoup = BeautifulSoup(source, 'lxml')",
            "execution_count": 164,
            "outputs": []
        },
        {
            "metadata": {},
            "cell_type": "code",
            "source": "panel = soup.find('div', class_='mw-parser-output')",
            "execution_count": 165,
            "outputs": []
        },
        {
            "metadata": {},
            "cell_type": "markdown",
            "source": "# 2. Data Formation"
        },
        {
            "metadata": {},
            "cell_type": "markdown",
            "source": "## 2.1 Data Preprocess"
        },
        {
            "metadata": {},
            "cell_type": "code",
            "source": "# Set up empty lists to save the results\nPostalCodes_list = []\nBoroughs_list = []\nNeigborhoods_list = []\n#Scan segment with 'p' in the the table\nfor Block in panel.find('table').find_all('p'):\n    #Set up empty temporary variables for data preprocessing\n    PostalCode = ''\n    Borough = ''\n    Neigborhoods = ''\n    Neigborhood = ''\n    #Fetch the Postal Code\n    PostalCode = Block.b.text\n    #Fetch all the cities with the same Postal Code\n    Cities = Block.span.text\n    try:\n        #Extract the first city that is the Borough\n        Borough = Cities.split(\"(\")[0].strip()\n        #Extract the Neigborhoods near their Borough\n        if Borough != 'Not assigned':\n            #print(Borough)\n            Neigborhoods = Cities.split(\"(\")[1].split(\")\")[0].strip().split('/')\n            Neigborhoods = [string.strip() for string in Neigborhoods]\n            Neigborhood = \", \".join(Neigborhoods)\n            # Appending the Postal Code, Borough and Neigborhood in their lists\n            PostalCodes_list.append(PostalCode)\n            Boroughs_list.append(Borough)\n            Neigborhoods_list.append(Neigborhood)\n    except Exception as e:\n        pass",
            "execution_count": 178,
            "outputs": []
        },
        {
            "metadata": {},
            "cell_type": "markdown",
            "source": "## 2.2 Dataframe Creation"
        },
        {
            "metadata": {},
            "cell_type": "code",
            "source": "dict = {'PostalCode': PostalCodes_list, 'Borough': Boroughs_list, 'Neigborhoods': Neigborhoods_list}\n#print(len(PostalCodes_list))\n#print(len(Boroughs_list))\n#print(len(Neigborhoods_list))\n#print(PostalCodes_list[-1])\n#print(Boroughs_list[-1])\n#print(Neigborhoods_list[-1])\ndf = pd.DataFrame(dict)",
            "execution_count": 182,
            "outputs": []
        },
        {
            "metadata": {},
            "cell_type": "code",
            "source": "df.shape",
            "execution_count": 183,
            "outputs": [
                {
                    "output_type": "execute_result",
                    "execution_count": 183,
                    "data": {
                        "text/plain": "(102, 3)"
                    },
                    "metadata": {}
                }
            ]
        }
    ],
    "metadata": {
        "kernelspec": {
            "name": "python3",
            "display_name": "Python 3.6",
            "language": "python"
        },
        "language_info": {
            "name": "python",
            "version": "3.6.9",
            "mimetype": "text/x-python",
            "codemirror_mode": {
                "name": "ipython",
                "version": 3
            },
            "pygments_lexer": "ipython3",
            "nbconvert_exporter": "python",
            "file_extension": ".py"
        }
    },
    "nbformat": 4,
    "nbformat_minor": 1
}