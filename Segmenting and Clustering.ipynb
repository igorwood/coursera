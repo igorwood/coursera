{
    "cells": [
        {
            "cell_type": "markdown",
            "metadata": {
                "collapsed": true
            },
            "source": "# 1. Data Collection"
        },
        {
            "cell_type": "code",
            "execution_count": 163,
            "metadata": {},
            "outputs": [],
            "source": "from bs4 import BeautifulSoup\nimport requests\nimport pandas as pd\nimport numpy as np"
        },
        {
            "cell_type": "code",
            "execution_count": 164,
            "metadata": {},
            "outputs": [],
            "source": "source = requests.get('https://en.wikipedia.org/wiki/List_of_postal_codes_of_Canada:_M').text\nsoup = BeautifulSoup(source, 'lxml')"
        },
        {
            "cell_type": "code",
            "execution_count": 165,
            "metadata": {},
            "outputs": [],
            "source": "panel = soup.find('div', class_='mw-parser-output')"
        },
        {
            "cell_type": "markdown",
            "metadata": {},
            "source": "# 2. Data Formation"
        },
        {
            "cell_type": "markdown",
            "metadata": {},
            "source": "## 2.1 Data Preprocess"
        },
        {
            "cell_type": "code",
            "execution_count": 178,
            "metadata": {},
            "outputs": [],
            "source": "# Set up empty lists to save the results\nPostalCodes_list = []\nBoroughs_list = []\nNeigborhoods_list = []\n#Scan segment with 'p' in the the table\nfor Block in panel.find('table').find_all('p'):\n    #Set up empty temporary variables for data preprocessing\n    PostalCode = ''\n    Borough = ''\n    Neigborhoods = ''\n    Neigborhood = ''\n    #Fetch the Postal Code\n    PostalCode = Block.b.text\n    #Fetch all the cities with the same Postal Code\n    Cities = Block.span.text\n    try:\n        #Extract the first city that is the Borough\n        Borough = Cities.split(\"(\")[0].strip()\n        #Extract the Neigborhoods near their Borough\n        if Borough != 'Not assigned':\n            #print(Borough)\n            Neigborhoods = Cities.split(\"(\")[1].split(\")\")[0].strip().split('/')\n            Neigborhoods = [string.strip() for string in Neigborhoods]\n            Neigborhood = \", \".join(Neigborhoods)\n            # Appending the Postal Code, Borough and Neigborhood in their lists\n            PostalCodes_list.append(PostalCode)\n            Boroughs_list.append(Borough)\n            Neigborhoods_list.append(Neigborhood)\n    except Exception as e:\n        pass"
        },
        {
            "cell_type": "markdown",
            "metadata": {},
            "source": "## 2.2 Dataframe Creation"
        },
        {
            "cell_type": "code",
            "execution_count": 182,
            "metadata": {},
            "outputs": [],
            "source": "dict = {'PostalCode': PostalCodes_list, 'Borough': Boroughs_list, 'Neigborhoods': Neigborhoods_list}\n#print(len(PostalCodes_list))\n#print(len(Boroughs_list))\n#print(len(Neigborhoods_list))\n#print(PostalCodes_list[-1])\n#print(Boroughs_list[-1])\n#print(Neigborhoods_list[-1])\ndf = pd.DataFrame(dict)"
        },
        {
            "cell_type": "code",
            "execution_count": 183,
            "metadata": {},
            "outputs": [
                {
                    "data": {
                        "text/plain": "(102, 3)"
                    },
                    "execution_count": 183,
                    "metadata": {},
                    "output_type": "execute_result"
                }
            ],
            "source": "df.shape"
        }
    ],
    "metadata": {
        "kernelspec": {
            "display_name": "Python 3.6",
            "language": "python",
            "name": "python3"
        },
        "language_info": {
            "codemirror_mode": {
                "name": "ipython",
                "version": 3
            },
            "file_extension": ".py",
            "mimetype": "text/x-python",
            "name": "python",
            "nbconvert_exporter": "python",
            "pygments_lexer": "ipython3",
            "version": "3.6.9"
        }
    },
    "nbformat": 4,
    "nbformat_minor": 1
}