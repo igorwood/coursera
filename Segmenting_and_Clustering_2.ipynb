{
    "cells": [
        {
            "metadata": {
                "collapsed": true
            },
            "cell_type": "markdown",
            "source": "# 1. Data Collection"
        },
        {
            "metadata": {},
            "cell_type": "code",
            "source": "from bs4 import BeautifulSoup\nimport requests\nimport pandas as pd\nimport numpy as np",
            "execution_count": 204,
            "outputs": []
        },
        {
            "metadata": {},
            "cell_type": "code",
            "source": "source = requests.get('https://en.wikipedia.org/wiki/List_of_postal_codes_of_Canada:_M').text\nsoup = BeautifulSoup(source, 'lxml')",
            "execution_count": 205,
            "outputs": []
        },
        {
            "metadata": {},
            "cell_type": "code",
            "source": "panel = soup.find('div', class_='mw-parser-output')",
            "execution_count": 206,
            "outputs": []
        },
        {
            "metadata": {},
            "cell_type": "markdown",
            "source": "# 2. Data Formation"
        },
        {
            "metadata": {},
            "cell_type": "markdown",
            "source": "## 2.1 Data Preprocess"
        },
        {
            "metadata": {},
            "cell_type": "code",
            "source": "# Set up empty lists to save the results\nPostalCodes_list = []\nBoroughs_list = []\nNeigborhoods_list = []\n#Scan segment with 'p' in the the table\nfor Block in panel.find('table').find_all('p'):\n    #Set up empty temporary variables for data preprocessing\n    PostalCode = ''\n    Borough = ''\n    Neigborhoods = ''\n    Neigborhood = ''\n    #Fetch the Postal Code\n    PostalCode = Block.b.text\n    #Fetch all the cities with the same Postal Code\n    Cities = Block.span.text\n    try:\n        #Extract the first city that is the Borough\n        Borough = Cities.split(\"(\")[0].strip()\n        #Extract the Neigborhoods near their Borough\n        if Borough != 'Not assigned':\n            #print(Borough)\n            Neigborhoods = Cities.split(\"(\")[1].split(\")\")[0].strip().split('/')\n            Neigborhoods = [string.strip() for string in Neigborhoods]\n            Neigborhood = \", \".join(Neigborhoods)\n            # Appending the Postal Code, Borough and Neigborhood in their lists\n            PostalCodes_list.append(PostalCode)\n            Boroughs_list.append(Borough)\n            Neigborhoods_list.append(Neigborhood)\n    except Exception as e:\n        pass",
            "execution_count": 207,
            "outputs": []
        },
        {
            "metadata": {},
            "cell_type": "markdown",
            "source": "## 2.2 Dataframe Creation"
        },
        {
            "metadata": {},
            "cell_type": "code",
            "source": "dict = {'PostalCode': PostalCodes_list, 'Borough': Boroughs_list, 'Neigborhoods': Neigborhoods_list}\n#print(len(PostalCodes_list))\n#print(len(Boroughs_list))\n#print(len(Neigborhoods_list))\n#print(PostalCodes_list[-1])\n#print(Boroughs_list[-1])\n#print(Neigborhoods_list[-1])\ndf = pd.DataFrame(dict)",
            "execution_count": 208,
            "outputs": []
        },
        {
            "metadata": {},
            "cell_type": "markdown",
            "source": "# 3. Locations"
        },
        {
            "metadata": {},
            "cell_type": "markdown",
            "source": "## 3.1 Download locations"
        },
        {
            "metadata": {},
            "cell_type": "code",
            "source": "!wget -O Geospatial_Coordinates.csv http://cocl.us/Geospatial_data",
            "execution_count": 209,
            "outputs": [
                {
                    "output_type": "stream",
                    "text": "--2020-03-18 15:52:51--  http://cocl.us/Geospatial_data\nResolving cocl.us (cocl.us)... 158.85.108.83, 158.85.108.86, 169.48.113.194\nConnecting to cocl.us (cocl.us)|158.85.108.83|:80... connected.\nHTTP request sent, awaiting response... 301 Moved Permanently\nLocation: https://cocl.us/Geospatial_data [following]\n--2020-03-18 15:52:51--  https://cocl.us/Geospatial_data\nConnecting to cocl.us (cocl.us)|158.85.108.83|:443... connected.\nHTTP request sent, awaiting response... 301 Moved Permanently\nLocation: https://ibm.box.com/shared/static/9afzr83pps4pwf2smjjcf1y5mvgb18rr.csv [following]\n--2020-03-18 15:52:52--  https://ibm.box.com/shared/static/9afzr83pps4pwf2smjjcf1y5mvgb18rr.csv\nResolving ibm.box.com (ibm.box.com)... 107.152.29.197\nConnecting to ibm.box.com (ibm.box.com)|107.152.29.197|:443... connected.\nHTTP request sent, awaiting response... 301 Moved Permanently\nLocation: /public/static/9afzr83pps4pwf2smjjcf1y5mvgb18rr.csv [following]\n--2020-03-18 15:52:52--  https://ibm.box.com/public/static/9afzr83pps4pwf2smjjcf1y5mvgb18rr.csv\nReusing existing connection to ibm.box.com:443.\nHTTP request sent, awaiting response... 301 Moved Permanently\nLocation: https://ibm.ent.box.com/public/static/9afzr83pps4pwf2smjjcf1y5mvgb18rr.csv [following]\n--2020-03-18 15:52:52--  https://ibm.ent.box.com/public/static/9afzr83pps4pwf2smjjcf1y5mvgb18rr.csv\nResolving ibm.ent.box.com (ibm.ent.box.com)... 107.152.29.211\nConnecting to ibm.ent.box.com (ibm.ent.box.com)|107.152.29.211|:443... connected.\nHTTP request sent, awaiting response... 302 Found\nLocation: https://public.boxcloud.com/d/1/b1!5zqgHd1zpOIR47BTozKcBTpop4CIEnk0mcD-bdo9kFqUc2X3oeRuPYAFpWHkjFoCy6uZNkzVl0BWldOaWlxaNMLQXcBOuOh8zj8ZVdOguRmZ-GUvjYLV6dZ5JobckdsPNUIxBwuYfU9UYgyVcE4Jzq-ObjigRNpnAdh9xwNL1R7ijyWDkXI0xNeqs2xYDGDLTCKVnuUXl62EETgatvZbrI1SeGC4iqcZknsR0KpBgm2gR7yqkq3reNfF38-sE-Qk0eeNyqcswvDE3aZ5Ntb2JtSVDjgbj0lWT6ITl8cxg7o9M6z_ehK83mEKyPEpPoZve_FzHUgm07bbdBlqFIqeDmsbsCm9qODoopOV475sKbkj3GdKi7zKRB9pEvmtN3VFVCIys_3QWBG-GB8IIT42LNJB6-2ao3SCh0mxcW6jX9ZEuULNLmzYD1ur_gRKT_daSA4ljPHewdh4UvVWQwyllzkX8WuELQwtx4jHfwxj2zzTifiUbUN0jI5eAf4_JAIAiAdhTRREDzCGwI6HFDfh0bjYK0TWK-YmFIWBtdFQzoHI5vpgwT-xOqvWREWUW9bPYUiGsVfh7Gw4S4Tjx15NI346Z7Poy5IOdCrzXKZPIZzAwMeZCaKk0ZWq2DKNEujDbcvIwXC3PEoeSDG12Vbkl8X-NyqSXCpQ_xs9154D3_yg5VJZ6hBNjAAoB8xZ-CjxJVcEm_1u1iIaMTD8jqCFYgNwsAm064q0oLWsmitveDQguD_LiPw34EQQrbQzQQpPVdcNJnPmubG6Y3SryJ4GWppMjVWGtMVsq-O3bC3K7NJKE8zSMx13Pop3MGtjj3AaWAgyFbsQR4YzBpt6oJUs8WKEtLaWJHHWWDbx2bIgNK0fegWqThyc6R9lcm5DcIcCSfNz0eSMUSzY_2ttekdJ-BoSEaqmb3WOZO2gqwQ0JIK3Ue83Z-3empXOdN7qdW7QLkwMEr_r2oYMYjyGSDNTGeRiM5GA_pPEARbuNErUWKQNGLYycJEgeDxz2zQJpR1GAE01gIODSiWdcMUL4oD0khe_jZgVLjFxGlPtPG_6yfKtVDMxxGn-eugfunVcQIASYfKxjG6GAy-0x5UB8ECfxloagyg-0zZU8LQIQH6P_gOSw0v9-16RO7ACoXqP1-4odKKPBUbQdrpfJDzYCkwAir0wtfRdBjnZb9mEAowy3g69tDS6UHc03Sp9qb1i1OkOuNWAUPlFqUeAEI0Y-zT1G5pPNPZvFmDpxo9ZoyC1GI5mBtKs9aGK27ihFyi3TZp8Peg5OX-AtI2cPnMMPWeqUFXHI96AeU-39fk9huy_r9RdnDUt6C_9IFlhKVXsq7lX3t2ZrB6BqiPLOFxpDRRZMCmohSECuqI8zoo5GvVISAuVQ2XLqa973f1DxADhqQ../download [following]\n--2020-03-18 15:52:53--  https://public.boxcloud.com/d/1/b1!5zqgHd1zpOIR47BTozKcBTpop4CIEnk0mcD-bdo9kFqUc2X3oeRuPYAFpWHkjFoCy6uZNkzVl0BWldOaWlxaNMLQXcBOuOh8zj8ZVdOguRmZ-GUvjYLV6dZ5JobckdsPNUIxBwuYfU9UYgyVcE4Jzq-ObjigRNpnAdh9xwNL1R7ijyWDkXI0xNeqs2xYDGDLTCKVnuUXl62EETgatvZbrI1SeGC4iqcZknsR0KpBgm2gR7yqkq3reNfF38-sE-Qk0eeNyqcswvDE3aZ5Ntb2JtSVDjgbj0lWT6ITl8cxg7o9M6z_ehK83mEKyPEpPoZve_FzHUgm07bbdBlqFIqeDmsbsCm9qODoopOV475sKbkj3GdKi7zKRB9pEvmtN3VFVCIys_3QWBG-GB8IIT42LNJB6-2ao3SCh0mxcW6jX9ZEuULNLmzYD1ur_gRKT_daSA4ljPHewdh4UvVWQwyllzkX8WuELQwtx4jHfwxj2zzTifiUbUN0jI5eAf4_JAIAiAdhTRREDzCGwI6HFDfh0bjYK0TWK-YmFIWBtdFQzoHI5vpgwT-xOqvWREWUW9bPYUiGsVfh7Gw4S4Tjx15NI346Z7Poy5IOdCrzXKZPIZzAwMeZCaKk0ZWq2DKNEujDbcvIwXC3PEoeSDG12Vbkl8X-NyqSXCpQ_xs9154D3_yg5VJZ6hBNjAAoB8xZ-CjxJVcEm_1u1iIaMTD8jqCFYgNwsAm064q0oLWsmitveDQguD_LiPw34EQQrbQzQQpPVdcNJnPmubG6Y3SryJ4GWppMjVWGtMVsq-O3bC3K7NJKE8zSMx13Pop3MGtjj3AaWAgyFbsQR4YzBpt6oJUs8WKEtLaWJHHWWDbx2bIgNK0fegWqThyc6R9lcm5DcIcCSfNz0eSMUSzY_2ttekdJ-BoSEaqmb3WOZO2gqwQ0JIK3Ue83Z-3empXOdN7qdW7QLkwMEr_r2oYMYjyGSDNTGeRiM5GA_pPEARbuNErUWKQNGLYycJEgeDxz2zQJpR1GAE01gIODSiWdcMUL4oD0khe_jZgVLjFxGlPtPG_6yfKtVDMxxGn-eugfunVcQIASYfKxjG6GAy-0x5UB8ECfxloagyg-0zZU8LQIQH6P_gOSw0v9-16RO7ACoXqP1-4odKKPBUbQdrpfJDzYCkwAir0wtfRdBjnZb9mEAowy3g69tDS6UHc03Sp9qb1i1OkOuNWAUPlFqUeAEI0Y-zT1G5pPNPZvFmDpxo9ZoyC1GI5mBtKs9aGK27ihFyi3TZp8Peg5OX-AtI2cPnMMPWeqUFXHI96AeU-39fk9huy_r9RdnDUt6C_9IFlhKVXsq7lX3t2ZrB6BqiPLOFxpDRRZMCmohSECuqI8zoo5GvVISAuVQ2XLqa973f1DxADhqQ../download\nResolving public.boxcloud.com (public.boxcloud.com)... 107.152.27.200\nConnecting to public.boxcloud.com (public.boxcloud.com)|107.152.27.200|:443... connected.\nHTTP request sent, awaiting response... 200 OK\nLength: 2891 (2.8K) [text/csv]\nSaving to: \u2018Geospatial_Coordinates.csv\u2019\n\n100%[======================================>] 2,891       --.-K/s   in 0s      \n\n2020-03-18 15:52:54 (292 MB/s) - \u2018Geospatial_Coordinates.csv\u2019 saved [2891/2891]\n\n",
                    "name": "stdout"
                }
            ]
        },
        {
            "metadata": {},
            "cell_type": "code",
            "source": "df_locations = pd.read_csv('Geospatial_Coordinates.csv')",
            "execution_count": 210,
            "outputs": []
        },
        {
            "metadata": {},
            "cell_type": "code",
            "source": "df_locations.rename(columns={'Postal Code':'PostalCode'}, inplace=True)\ndf_locations.head()",
            "execution_count": 211,
            "outputs": [
                {
                    "output_type": "execute_result",
                    "execution_count": 211,
                    "data": {
                        "text/plain": "  PostalCode   Latitude  Longitude\n0        M1B  43.806686 -79.194353\n1        M1C  43.784535 -79.160497\n2        M1E  43.763573 -79.188711\n3        M1G  43.770992 -79.216917\n4        M1H  43.773136 -79.239476",
                        "text/html": "<div>\n<style scoped>\n    .dataframe tbody tr th:only-of-type {\n        vertical-align: middle;\n    }\n\n    .dataframe tbody tr th {\n        vertical-align: top;\n    }\n\n    .dataframe thead th {\n        text-align: right;\n    }\n</style>\n<table border=\"1\" class=\"dataframe\">\n  <thead>\n    <tr style=\"text-align: right;\">\n      <th></th>\n      <th>PostalCode</th>\n      <th>Latitude</th>\n      <th>Longitude</th>\n    </tr>\n  </thead>\n  <tbody>\n    <tr>\n      <th>0</th>\n      <td>M1B</td>\n      <td>43.806686</td>\n      <td>-79.194353</td>\n    </tr>\n    <tr>\n      <th>1</th>\n      <td>M1C</td>\n      <td>43.784535</td>\n      <td>-79.160497</td>\n    </tr>\n    <tr>\n      <th>2</th>\n      <td>M1E</td>\n      <td>43.763573</td>\n      <td>-79.188711</td>\n    </tr>\n    <tr>\n      <th>3</th>\n      <td>M1G</td>\n      <td>43.770992</td>\n      <td>-79.216917</td>\n    </tr>\n    <tr>\n      <th>4</th>\n      <td>M1H</td>\n      <td>43.773136</td>\n      <td>-79.239476</td>\n    </tr>\n  </tbody>\n</table>\n</div>"
                    },
                    "metadata": {}
                }
            ]
        },
        {
            "metadata": {},
            "cell_type": "markdown",
            "source": "## 3.2 Combining dataframes"
        },
        {
            "metadata": {},
            "cell_type": "code",
            "source": "df.head()",
            "execution_count": 212,
            "outputs": [
                {
                    "output_type": "execute_result",
                    "execution_count": 212,
                    "data": {
                        "text/plain": "  PostalCode           Borough                      Neigborhoods\n0        M3A        North York                         Parkwoods\n1        M4A        North York                  Victoria Village\n2        M5A  Downtown Toronto         Regent Park, Harbourfront\n3        M6A        North York  Lawrence Manor, Lawrence Heights\n4        M9A         Etobicoke                  Islington Avenue",
                        "text/html": "<div>\n<style scoped>\n    .dataframe tbody tr th:only-of-type {\n        vertical-align: middle;\n    }\n\n    .dataframe tbody tr th {\n        vertical-align: top;\n    }\n\n    .dataframe thead th {\n        text-align: right;\n    }\n</style>\n<table border=\"1\" class=\"dataframe\">\n  <thead>\n    <tr style=\"text-align: right;\">\n      <th></th>\n      <th>PostalCode</th>\n      <th>Borough</th>\n      <th>Neigborhoods</th>\n    </tr>\n  </thead>\n  <tbody>\n    <tr>\n      <th>0</th>\n      <td>M3A</td>\n      <td>North York</td>\n      <td>Parkwoods</td>\n    </tr>\n    <tr>\n      <th>1</th>\n      <td>M4A</td>\n      <td>North York</td>\n      <td>Victoria Village</td>\n    </tr>\n    <tr>\n      <th>2</th>\n      <td>M5A</td>\n      <td>Downtown Toronto</td>\n      <td>Regent Park, Harbourfront</td>\n    </tr>\n    <tr>\n      <th>3</th>\n      <td>M6A</td>\n      <td>North York</td>\n      <td>Lawrence Manor, Lawrence Heights</td>\n    </tr>\n    <tr>\n      <th>4</th>\n      <td>M9A</td>\n      <td>Etobicoke</td>\n      <td>Islington Avenue</td>\n    </tr>\n  </tbody>\n</table>\n</div>"
                    },
                    "metadata": {}
                }
            ]
        },
        {
            "metadata": {},
            "cell_type": "code",
            "source": "df_merge = df.set_index('PostalCode').join(df_locations.set_index('PostalCode'))\ndf_merge.head()",
            "execution_count": 214,
            "outputs": [
                {
                    "output_type": "execute_result",
                    "execution_count": 214,
                    "data": {
                        "text/plain": "                     Borough                      Neigborhoods   Latitude  \\\nPostalCode                                                                  \nM3A               North York                         Parkwoods  43.753259   \nM4A               North York                  Victoria Village  43.725882   \nM5A         Downtown Toronto         Regent Park, Harbourfront  43.654260   \nM6A               North York  Lawrence Manor, Lawrence Heights  43.718518   \nM9A                Etobicoke                  Islington Avenue  43.667856   \n\n            Longitude  \nPostalCode             \nM3A        -79.329656  \nM4A        -79.315572  \nM5A        -79.360636  \nM6A        -79.464763  \nM9A        -79.532242  ",
                        "text/html": "<div>\n<style scoped>\n    .dataframe tbody tr th:only-of-type {\n        vertical-align: middle;\n    }\n\n    .dataframe tbody tr th {\n        vertical-align: top;\n    }\n\n    .dataframe thead th {\n        text-align: right;\n    }\n</style>\n<table border=\"1\" class=\"dataframe\">\n  <thead>\n    <tr style=\"text-align: right;\">\n      <th></th>\n      <th>Borough</th>\n      <th>Neigborhoods</th>\n      <th>Latitude</th>\n      <th>Longitude</th>\n    </tr>\n    <tr>\n      <th>PostalCode</th>\n      <th></th>\n      <th></th>\n      <th></th>\n      <th></th>\n    </tr>\n  </thead>\n  <tbody>\n    <tr>\n      <th>M3A</th>\n      <td>North York</td>\n      <td>Parkwoods</td>\n      <td>43.753259</td>\n      <td>-79.329656</td>\n    </tr>\n    <tr>\n      <th>M4A</th>\n      <td>North York</td>\n      <td>Victoria Village</td>\n      <td>43.725882</td>\n      <td>-79.315572</td>\n    </tr>\n    <tr>\n      <th>M5A</th>\n      <td>Downtown Toronto</td>\n      <td>Regent Park, Harbourfront</td>\n      <td>43.654260</td>\n      <td>-79.360636</td>\n    </tr>\n    <tr>\n      <th>M6A</th>\n      <td>North York</td>\n      <td>Lawrence Manor, Lawrence Heights</td>\n      <td>43.718518</td>\n      <td>-79.464763</td>\n    </tr>\n    <tr>\n      <th>M9A</th>\n      <td>Etobicoke</td>\n      <td>Islington Avenue</td>\n      <td>43.667856</td>\n      <td>-79.532242</td>\n    </tr>\n  </tbody>\n</table>\n</div>"
                    },
                    "metadata": {}
                }
            ]
        },
        {
            "metadata": {},
            "cell_type": "code",
            "source": "",
            "execution_count": null,
            "outputs": []
        }
    ],
    "metadata": {
        "kernelspec": {
            "name": "python3",
            "display_name": "Python 3.6",
            "language": "python"
        },
        "language_info": {
            "name": "python",
            "version": "3.6.9",
            "mimetype": "text/x-python",
            "codemirror_mode": {
                "name": "ipython",
                "version": 3
            },
            "pygments_lexer": "ipython3",
            "nbconvert_exporter": "python",
            "file_extension": ".py"
        }
    },
    "nbformat": 4,
    "nbformat_minor": 1
}